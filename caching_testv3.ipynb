{
  "nbformat": 4,
  "nbformat_minor": 0,
  "metadata": {
    "colab": {
      "name": "caching_testv3.ipynb",
      "version": "0.3.2",
      "provenance": [],
      "collapsed_sections": [],
      "include_colab_link": true
    },
    "kernelspec": {
      "name": "python3",
      "display_name": "Python 3"
    }
  },
  "cells": [
    {
      "cell_type": "markdown",
      "metadata": {
        "id": "view-in-github",
        "colab_type": "text"
      },
      "source": [
        "<a href=\"https://colab.research.google.com/github/tavishcode/fyp/blob/master/caching_testv3.ipynb\" target=\"_parent\"><img src=\"https://colab.research.google.com/assets/colab-badge.svg\" alt=\"Open In Colab\"/></a>"
      ]
    },
    {
      "metadata": {
        "id": "02iCxKqOSAQz",
        "colab_type": "code",
        "outputId": "34b2f773-4fe9-410f-d994-5902d1b688ae",
        "colab": {
          "base_uri": "https://localhost:8080/",
          "height": 34
        }
      },
      "cell_type": "code",
      "source": [
        "import pandas as pd\n",
        "from matplotlib import pyplot as plt\n",
        "import numpy as np\n",
        "from keras.models import Sequential, Model, load_model\n",
        "from keras.layers import Input, Activation, GRU, Dense\n",
        "from sklearn.metrics import mean_squared_error as mse\n",
        "from sklearn.preprocessing import scale, StandardScaler, RobustScaler, MinMaxScaler\n",
        "from collections import OrderedDict, defaultdict, Counter\n",
        "from google.colab import drive\n",
        "drive.mount('/content/drive')\n",
        "plt.rcParams['figure.figsize'] = [10, 8]"
      ],
      "execution_count": 0,
      "outputs": [
        {
          "output_type": "stream",
          "text": [
            "Drive already mounted at /content/drive; to attempt to forcibly remount, call drive.mount(\"/content/drive\", force_remount=True).\n"
          ],
          "name": "stdout"
        }
      ]
    },
    {
      "metadata": {
        "id": "oGCEU_vYEBsJ",
        "colab_type": "code",
        "colab": {}
      },
      "cell_type": "code",
      "source": [
        "test_set = np.load('drive/My Drive/cache_test.npy')"
      ],
      "execution_count": 0,
      "outputs": []
    },
    {
      "metadata": {
        "id": "DiCgULhaolz5",
        "colab_type": "code",
        "colab": {}
      },
      "cell_type": "code",
      "source": [
        "rand_sample = pd.read_csv('drive/My Drive/rand_sample.csv', index_col=0)\n",
        "ixs = rand_sample.index.values\n",
        "content_names = ixs"
      ],
      "execution_count": 0,
      "outputs": []
    },
    {
      "metadata": {
        "id": "h1f-f27z1OUZ",
        "colab_type": "code",
        "outputId": "530eb3ed-8346-4a2f-8a97-fa7c1317f900",
        "colab": {
          "base_uri": "https://localhost:8080/",
          "height": 34
        }
      },
      "cell_type": "code",
      "source": [
        "content_names"
      ],
      "execution_count": 0,
      "outputs": [
        {
          "output_type": "execute_result",
          "data": {
            "text/plain": [
              "array([11570, 77306, 74655, ..., 32992, 75535, 75476])"
            ]
          },
          "metadata": {
            "tags": []
          },
          "execution_count": 41
        }
      ]
    },
    {
      "metadata": {
        "id": "3NMNgmuiIvmJ",
        "colab_type": "code",
        "colab": {}
      },
      "cell_type": "code",
      "source": [
        "# constants\n",
        "num_contents = len(content_names)\n",
        "sim_length = 7 * 4 # if sim length is not a multiple of 7, the debug pred time series will break!\n",
        "seed = 123"
      ],
      "execution_count": 0,
      "outputs": []
    },
    {
      "metadata": {
        "id": "QIRSZmvv7oFr",
        "colab_type": "code",
        "colab": {}
      },
      "cell_type": "code",
      "source": [
        "class ContentStore:\n",
        "    def __init__(self, size):\n",
        "        self.size = size\n",
        "        self.hits = 0\n",
        "        self.misses = 0\n",
        "\n",
        "    def add(self, item):\n",
        "        pass\n",
        "\n",
        "    def get_helper(self, item):\n",
        "        # function is overriden for custom get implementations\n",
        "        # in derived classes\n",
        "        pass\n",
        "\n",
        "    def get(self, item):\n",
        "        item = self.get_helper(item)\n",
        "        if item != None:\n",
        "            self.hits += 1\n",
        "        else:\n",
        "            self.misses += 1\n",
        "        return item"
      ],
      "execution_count": 0,
      "outputs": []
    },
    {
      "metadata": {
        "id": "ft8L0-8tSAQ8",
        "colab_type": "text"
      },
      "cell_type": "markdown",
      "source": [
        "## Traditional Caching Algorithms"
      ]
    },
    {
      "metadata": {
        "id": "NDsp4xDySAQ_",
        "colab_type": "text"
      },
      "cell_type": "markdown",
      "source": [
        "### LRU"
      ]
    },
    {
      "metadata": {
        "id": "eD9TVyYcSARB",
        "colab_type": "code",
        "colab": {}
      },
      "cell_type": "code",
      "source": [
        "class LruContentStore(ContentStore):\n",
        "    def __init__(self, size):\n",
        "        super().__init__(size)\n",
        "        self.store = OrderedDict()\n",
        "        self.start_counting = False\n",
        "\n",
        "    def add(self, item):\n",
        "        # returns can cache ?, victim\n",
        "        victim = None\n",
        "        if item in self.store or self.size <= 0:\n",
        "            return False, victim\n",
        "        if self.size:\n",
        "            if(len(self.store) == self.size):\n",
        "                # remove top element (least recent element)\n",
        "                victim, _ = self.store.popitem(last=False)\n",
        "            self.store[item] = item\n",
        "            return True, victim\n",
        "\n",
        "    def get_helper(self, item):\n",
        "        try:\n",
        "            cached_item = self.store.pop(item)\n",
        "            # re-insert content to maintain lru-order\n",
        "            self.store[item] = cached_item\n",
        "            return cached_item\n",
        "        except:\n",
        "            return None"
      ],
      "execution_count": 0,
      "outputs": []
    },
    {
      "metadata": {
        "id": "SMwvlt55SARI",
        "colab_type": "text"
      },
      "cell_type": "markdown",
      "source": [
        "### Random"
      ]
    },
    {
      "metadata": {
        "id": "HO8woKF7SARK",
        "colab_type": "code",
        "colab": {}
      },
      "cell_type": "code",
      "source": [
        "class RandomContentStore(ContentStore):\n",
        "    def __init__(self, size):\n",
        "        super().__init__(size)\n",
        "        self.rng = np.random.RandomState(123)\n",
        "        self.size = size\n",
        "        self.store = {}\n",
        "\n",
        "    def add(self, item):\n",
        "        if self.size:\n",
        "            if len(self.store) == self.size:\n",
        "                self.store.pop(self.rng.choice(list(self.store.keys())))\n",
        "            self.store[item] = item\n",
        "    \n",
        "    def get_helper(self, item):\n",
        "        try:\n",
        "            cached_item = self.store[item]\n",
        "            return cached_item\n",
        "        except:\n",
        "            return None"
      ],
      "execution_count": 0,
      "outputs": []
    },
    {
      "metadata": {
        "id": "uf-gjCPdSARl",
        "colab_type": "text"
      },
      "cell_type": "markdown",
      "source": [
        "## Machine Learning Models for Caching"
      ]
    },
    {
      "metadata": {
        "id": "_sxCKgTrul0Y",
        "colab_type": "text"
      },
      "cell_type": "markdown",
      "source": [
        "### Multi-Day Predictor with BootStrap "
      ]
    },
    {
      "metadata": {
        "id": "oSSgW4tYulcK",
        "colab_type": "code",
        "colab": {}
      },
      "cell_type": "code",
      "source": [
        "class PretrainedCNNContentStore(ContentStore):\n",
        "    def __init__(self, size, model, online=False):\n",
        "        super().__init__(size)\n",
        "\n",
        "        # bootstrapping\n",
        "        self.bootstrap = LruContentStore(size)\n",
        "        self.bootstrap_period = 7\n",
        "        self.bootstrapping = True\n",
        "\n",
        "        # constants\n",
        "        self.pred_length = 7\n",
        "        self.window_length = 7\n",
        "        self.num_features = 11\n",
        "        self.reqs_per_day = 500000\n",
        "        self.num_portals = 10\n",
        "\n",
        "        # counter\n",
        "        self.req_counter = 0\n",
        "\n",
        "        # ml-related\n",
        "        self.model = load_model(model)\n",
        "        self.scaler = MinMaxScaler()\n",
        "\n",
        "        # stats\n",
        "        self.history = OrderedDict()\n",
        "\n",
        "        # ranks\n",
        "        self.ranking = OrderedDict()\n",
        "\n",
        "        # cache\n",
        "        self.store = OrderedDict()\n",
        "\n",
        "        # data\n",
        "        self.portals = np.load('drive/My Drive/portals_dict.npy').item()\n",
        "        \n",
        "        # debug\n",
        "        self.pred_time_series = {}\n",
        "        for name in content_names:\n",
        "            self.pred_time_series[name] = np.zeros((sim_length))\n",
        "        #\n",
        "    \n",
        "    def get_curr_day(self):\n",
        "        return (self.req_counter - 1) // self.reqs_per_day\n",
        "    \n",
        "    def get_curr_timestep(self):\n",
        "        return self.get_curr_day() % self.pred_length\n",
        "\n",
        "    def get_portal_key(self, item):\n",
        "        # extract index from item name ex: from serverA/12 to 12\n",
        "        if isinstance(item, str):\n",
        "            start_ix = item.rfind('/') + 1\n",
        "            return int(item[start_ix:])\n",
        "        else:\n",
        "            return item\n",
        "    \n",
        "    # add item to cache if more popular\n",
        "    def add(self, item):\n",
        "        victim = None\n",
        "        if self.bootstrapping:\n",
        "            return self.bootstrap.add(item)\n",
        "        else:\n",
        "            if item in self.store or self.size <= 0:\n",
        "                return False, victim\n",
        "            if self.size:\n",
        "                if len(self.store) == self.size:\n",
        "                    min_key, min_rank = self.get_least_popular()\n",
        "                    # replace if curr item more popular than least popular in cache\n",
        "                    if min_rank != None and min_rank < self.ranking[item][self.get_curr_timestep()]:\n",
        "                        victim = min_key\n",
        "                        self.store.pop(victim)\n",
        "                        self.store[item] = item\n",
        "                        return True, victim\n",
        "                    else:\n",
        "                        return False, victim\n",
        "                else:\n",
        "                    self.store[item] = item\n",
        "                    return True, victim\n",
        "\n",
        "    def get_least_popular(self):\n",
        "        min_item = None\n",
        "        min_rank = None\n",
        "        for item in self.store.keys():\n",
        "            if min_item == None or self.ranking[item][self.get_curr_timestep()] < min_rank:\n",
        "                min_rank = self.ranking[item][self.get_curr_timestep()]\n",
        "                min_item = item\n",
        "        return min_item, min_rank\n",
        "\n",
        "    def update_rankings(self):\n",
        "        self.bootstrapping = False\n",
        "        \n",
        "        # init npy arrays\n",
        "        agg_data = np.zeros((len(self.history.keys()), self.window_length))\n",
        "        portal_data = np.zeros((len(self.history.keys()), self.window_length, self.num_portals))\n",
        "                \n",
        "        for ix, key in enumerate(self.history.keys()):\n",
        "            agg_data[ix] = self.history[key]\n",
        "            portal_key = self.get_portal_key(key)\n",
        "            if portal_key in self.portals:\n",
        "                portal_encoding = np.tile(self.portals[portal_key], (self.window_length, 1))\n",
        "            else:\n",
        "                portal_encoding = np.tile(np.zeros((self.num_portals)), (self.window_length, 1))\n",
        "            portal_data[ix] = portal_encoding\n",
        "             \n",
        "        # log and normalize data\n",
        "        agg_data = np.log1p(agg_data)\n",
        "        agg_data = self.scaler.fit_transform(agg_data)\n",
        "        \n",
        "        agg_data = agg_data.reshape(-1, self.window_length, 1)\n",
        "\n",
        "        # add portal features\n",
        "        agg_data = np.concatenate((agg_data, portal_data), axis=2)\n",
        "        \n",
        "        # make preds\n",
        "\n",
        "        predictions = self.predict_sequence(agg_data)  # update rankings                \n",
        "        rankings = predictions[:, :, 0]\n",
        "        \n",
        "        # reset old ranking\n",
        "        self.ranking = OrderedDict()\n",
        "\n",
        "        # map preds to content types\n",
        "        for i, key in enumerate(self.history.keys()):\n",
        "            self.ranking[key] = rankings[i]\n",
        "            # debug\n",
        "            self.pred_time_series[key][self.get_curr_day(): self.get_curr_day() + self.pred_length] = self.ranking[key]\n",
        "            #\n",
        "        # reset stats\n",
        "        for key in self.history.keys():\n",
        "            self.history[key] = np.zeros((self.window_length))\n",
        "\n",
        "    def get_helper(self, item):\n",
        "        self.req_counter += 1\n",
        "        if self.req_counter != 1 and (self.req_counter-1) % (self.reqs_per_day * self.window_length) == 0:\n",
        "            # if first update, copy over cache from bootstrap\n",
        "            if self.req_counter - 1 == self.reqs_per_day * self.window_length:\n",
        "                self.store = self.bootstrap.store\n",
        "            # print('start updating rankings')\n",
        "            self.update_rankings()\n",
        "            # print('finished updating rankings')\n",
        "        if item not in self.history:\n",
        "            self.history[item] = np.zeros(self.window_length)\n",
        "        if item not in self.ranking:\n",
        "            self.ranking[item] = np.zeros(self.pred_length)\n",
        "        # update history\n",
        "        self.history[item][self.get_curr_timestep()] += 1\n",
        "        try:\n",
        "            if self.bootstrapping:\n",
        "                cached_item = self.bootstrap.get(item)\n",
        "            else:\n",
        "                cached_item = self.store[item]\n",
        "            return cached_item\n",
        "        except:\n",
        "            return None\n",
        "\n",
        "    def predict_sequence(self, input_sequence):\n",
        "        history_sequence = input_sequence.copy()\n",
        "        # initialize output (pred_steps time steps)\n",
        "        pred_sequence = np.zeros((input_sequence.shape[0], self.pred_length, self.num_features))\n",
        "        for i in range(self.pred_length):\n",
        "            # record next time step prediction (last time step of model output)\n",
        "            last_step_pred = self.model.predict(history_sequence)[:, -1, :self.num_features]\n",
        "            pred_sequence[:, i, :self.num_features] = last_step_pred\n",
        "            # add the next time step prediction to the history sequence\n",
        "            history_sequence = np.concatenate([history_sequence, last_step_pred.reshape(-1, 1, self.num_features)], axis=1)\n",
        "        return pred_sequence"
      ],
      "execution_count": 0,
      "outputs": []
    },
    {
      "metadata": {
        "id": "PLqYUQE7SARy",
        "colab_type": "text"
      },
      "cell_type": "markdown",
      "source": [
        "### Init Content Stores"
      ]
    },
    {
      "metadata": {
        "id": "MMT8u_U3SAR3",
        "colab_type": "code",
        "colab": {}
      },
      "cell_type": "code",
      "source": [
        "cache_size = int(0.001 * test_set.shape[0])\n",
        "lru = LruContentStore(cache_size)\n",
        "rand = RandomContentStore(cache_size)\n",
        "cnn = PretrainedCNNContentStore(cache_size, 'drive/My Drive/opt_reshaped_simple_conv_with_portals.h5')\n",
        "cses = [cnn, lru]"
      ],
      "execution_count": 0,
      "outputs": []
    },
    {
      "metadata": {
        "id": "3xxUYg3kSAR6",
        "colab_type": "text"
      },
      "cell_type": "markdown",
      "source": [
        "### Initialize Statistical Baselines with Training Set"
      ]
    },
    {
      "metadata": {
        "id": "EBeFNjt0SASh",
        "colab_type": "text"
      },
      "cell_type": "markdown",
      "source": [
        "### Run Tests with Test Set"
      ]
    },
    {
      "metadata": {
        "id": "ub9hlLCKSASj",
        "colab_type": "code",
        "outputId": "755eedf2-b8fa-4ebf-e855-f22ae7e586ad",
        "colab": {
          "base_uri": "https://localhost:8080/",
          "height": 1105
        }
      },
      "cell_type": "code",
      "source": [
        "# Simulation\n",
        "sim_stats = {}\n",
        "for name in content_names:\n",
        "    sim_stats[name] = np.zeros((sim_length))\n",
        "\n",
        "for cs in cses:\n",
        "    np.random.seed(seed)\n",
        "    for i in range(sim_length):\n",
        "        # get num requests for each content type for day i\n",
        "        daily_reqs = test_set[:, i]\n",
        "        # repeat indexes based on the number of times they appear\n",
        "        flat_daily_reqs = np.repeat(content_names, \n",
        "                                    daily_reqs.astype('int'), \n",
        "                                    axis=0)\n",
        "        np.random.shuffle(flat_daily_reqs)\n",
        "        for req in flat_daily_reqs:\n",
        "            sim_stats[req][i] += 1\n",
        "            if cs.get(req) == None:\n",
        "                cs.add(req)\n",
        "        print(i)\n",
        "    print(cs.hits/(cs.hits+cs.misses))"
      ],
      "execution_count": 0,
      "outputs": [
        {
          "output_type": "stream",
          "text": [
            "0\n",
            "1\n",
            "2\n",
            "3\n",
            "4\n",
            "5\n",
            "6\n",
            "start updating rankings\n",
            "finished updating rankings\n",
            "7\n",
            "8\n",
            "9\n",
            "10\n",
            "11\n",
            "12\n",
            "13\n",
            "start updating rankings\n",
            "finished updating rankings\n",
            "14\n",
            "15\n",
            "16\n",
            "17\n",
            "18\n",
            "19\n",
            "20\n",
            "start updating rankings\n",
            "finished updating rankings\n",
            "21\n",
            "22\n",
            "23\n",
            "24\n",
            "25\n",
            "26\n",
            "27\n",
            "0.32987916306611326\n",
            "0\n",
            "1\n",
            "2\n",
            "3\n",
            "4\n",
            "5\n",
            "6\n",
            "7\n",
            "8\n",
            "9\n",
            "10\n",
            "11\n",
            "12\n",
            "13\n",
            "14\n",
            "15\n",
            "16\n",
            "17\n",
            "18\n",
            "19\n",
            "20\n",
            "21\n",
            "22\n",
            "23\n",
            "24\n",
            "25\n",
            "26\n",
            "27\n",
            "0.3122750226296409\n"
          ],
          "name": "stdout"
        }
      ]
    },
    {
      "metadata": {
        "id": "o6KrQyBb44LX",
        "colab_type": "code",
        "colab": {}
      },
      "cell_type": "code",
      "source": [
        "np_sim_stats = np.zeros((len(content_names), sim_length))\n",
        "np_pred_stats = np.zeros((len(content_names), sim_length))\n",
        "for i, name in enumerate(content_names):\n",
        "    if name in sim_stats:\n",
        "        np_sim_stats[i] = sim_stats[name]\n",
        "    else:\n",
        "        np_sim_stats[i] = np.zeros((sim_length))\n",
        "    if name in cses[0].pred_time_series:\n",
        "        np_pred_stats[i] = cses[0].pred_time_series[name]\n",
        "    else:\n",
        "        np_pred_stats[i] = np.zeros((sim_length))\n",
        "norm_np_sim_stats = MinMaxScaler().fit_transform(np.log1p(np_sim_stats))"
      ],
      "execution_count": 0,
      "outputs": []
    },
    {
      "metadata": {
        "id": "yr_6s1QG5g_W",
        "colab_type": "code",
        "outputId": "d2fc39e9-fb97-4ee0-dfae-7b8efb358969",
        "colab": {
          "base_uri": "https://localhost:8080/",
          "height": 503
        }
      },
      "cell_type": "code",
      "source": [
        "ix = 30\n",
        "plt.plot(norm_np_sim_stats[ix][7:])\n",
        "plt.plot(np_pred_stats[ix][7:])"
      ],
      "execution_count": 0,
      "outputs": [
        {
          "output_type": "execute_result",
          "data": {
            "text/plain": [
              "[<matplotlib.lines.Line2D at 0x7fcd83d4e7f0>]"
            ]
          },
          "metadata": {
            "tags": []
          },
          "execution_count": 50
        },
        {
          "output_type": "display_data",
          "data": {
            "image/png": "[encoded data removed]",
            "text/plain": [
              "<Figure size 720x576 with 1 Axes>"
            ]
          },
          "metadata": {
            "tags": []
          }
        }
      ]
    },
    {
      "metadata": {
        "id": "1HR81C7VrNl9",
        "colab_type": "code",
        "colab": {}
      },
      "cell_type": "code",
      "source": [
        ""
      ],
      "execution_count": 0,
      "outputs": []
    },
    {
      "metadata": {
        "id": "MuNNwMrsOmMp",
        "colab_type": "code",
        "colab": {}
      },
      "cell_type": "code",
      "source": [
        ""
      ],
      "execution_count": 0,
      "outputs": []
    }
  ]
}