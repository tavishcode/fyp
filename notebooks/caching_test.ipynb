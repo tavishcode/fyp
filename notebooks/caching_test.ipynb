{
  "nbformat": 4,
  "nbformat_minor": 0,
  "metadata": {
    "colab": {
      "name": "caching_test.ipynb",
      "version": "0.3.2",
      "provenance": [],
      "collapsed_sections": [],
      "toc_visible": true,
      "include_colab_link": true
    },
    "kernelspec": {
      "name": "python3",
      "display_name": "Python 3"
    }
  },
  "cells": [
    {
      "cell_type": "markdown",
      "metadata": {
        "id": "view-in-github",
        "colab_type": "text"
      },
      "source": [
        "<a href=\"https://colab.research.google.com/github/tavishcode/fyp/blob/master/notebooks/caching_test.ipynb\" target=\"_parent\"><img src=\"https://colab.research.google.com/assets/colab-badge.svg\" alt=\"Open In Colab\"/></a>"
      ]
    },
    {
      "metadata": {
        "id": "02iCxKqOSAQz",
        "colab_type": "code",
        "outputId": "84928bfe-26f8-41e2-fb81-ca6b6a68da0d",
        "colab": {
          "base_uri": "https://localhost:8080/",
          "height": 139
        }
      },
      "cell_type": "code",
      "source": [
        "import pandas as pd\n",
        "from matplotlib import pyplot as plt\n",
        "import numpy as np\n",
        "from keras.models import Sequential, Model, load_model\n",
        "from keras.layers import Input, Activation, GRU, Dense\n",
        "from sklearn.metrics import mean_squared_error as mse\n",
        "from sklearn.preprocessing import scale, StandardScaler, RobustScaler, MinMaxScaler\n",
        "from collections import OrderedDict, defaultdict, Counter\n",
        "import heapq\n",
        "from google.colab import drive\n",
        "drive.mount('/content/drive')\n",
        "plt.rcParams['figure.figsize'] = [10, 8]"
      ],
      "execution_count": 0,
      "outputs": [
        {
          "output_type": "stream",
          "text": [
            "Using TensorFlow backend.\n"
          ],
          "name": "stderr"
        },
        {
          "output_type": "stream",
          "text": [
            "Go to this URL in a browser: https://accounts.google.com/o/oauth2/auth?client_id=947318989803-6bn6qk8qdgf4n4g3pfee6491hc0brc4i.apps.googleusercontent.com&redirect_uri=urn%3Aietf%3Awg%3Aoauth%3A2.0%3Aoob&scope=email%20https%3A%2F%2Fwww.googleapis.com%2Fauth%2Fdocs.test%20https%3A%2F%2Fwww.googleapis.com%2Fauth%2Fdrive%20https%3A%2F%2Fwww.googleapis.com%2Fauth%2Fdrive.photos.readonly%20https%3A%2F%2Fwww.googleapis.com%2Fauth%2Fpeopleapi.readonly&response_type=code\n",
            "\n",
            "Enter your authorization code:\n",
            "··········\n",
            "Mounted at /content/drive\n"
          ],
          "name": "stdout"
        }
      ]
    },
    {
      "metadata": {
        "id": "Li2v4b8QobYL",
        "colab_type": "code",
        "colab": {}
      },
      "cell_type": "code",
      "source": [
        "test_probs = pd.read_csv('drive/My Drive/large_test_probs.csv')"
      ],
      "execution_count": 0,
      "outputs": []
    },
    {
      "metadata": {
        "id": "BBj5Unv-p2KW",
        "colab_type": "code",
        "colab": {}
      },
      "cell_type": "code",
      "source": [
        "content_names = test_probs['name'].values"
      ],
      "execution_count": 0,
      "outputs": []
    },
    {
      "metadata": {
        "id": "gZ9HH7BZqVQk",
        "colab_type": "code",
        "colab": {}
      },
      "cell_type": "code",
      "source": [
        "probs = test_probs.iloc[:,1:].values"
      ],
      "execution_count": 0,
      "outputs": []
    },
    {
      "metadata": {
        "id": "SF3yK3Loqe4O",
        "colab_type": "code",
        "colab": {}
      },
      "cell_type": "code",
      "source": [
        "reqs_per_day = 500000"
      ],
      "execution_count": 0,
      "outputs": []
    },
    {
      "metadata": {
        "id": "3NMNgmuiIvmJ",
        "colab_type": "code",
        "colab": {}
      },
      "cell_type": "code",
      "source": [
        "# constants\n",
        "num_contents = len(content_names)\n",
        "sim_length = 7 * 10 # if sim length is not a multiple of 7, the debug pred time series will break!\n",
        "seed = 123"
      ],
      "execution_count": 0,
      "outputs": []
    },
    {
      "metadata": {
        "id": "-oS1jcQPrthm",
        "colab_type": "code",
        "colab": {}
      },
      "cell_type": "code",
      "source": [
        "test_set = probs[:, :sim_length]"
      ],
      "execution_count": 0,
      "outputs": []
    },
    {
      "metadata": {
        "id": "3v3Ngdwxr3uO",
        "colab_type": "code",
        "outputId": "757c9153-8597-4530-86e3-eabb2e86ff5b",
        "colab": {
          "base_uri": "https://localhost:8080/",
          "height": 34
        }
      },
      "cell_type": "code",
      "source": [
        "test_set.shape"
      ],
      "execution_count": 0,
      "outputs": [
        {
          "output_type": "execute_result",
          "data": {
            "text/plain": [
              "(145063, 70)"
            ]
          },
          "metadata": {
            "tags": []
          },
          "execution_count": 8
        }
      ]
    },
    {
      "metadata": {
        "id": "QIRSZmvv7oFr",
        "colab_type": "code",
        "colab": {}
      },
      "cell_type": "code",
      "source": [
        "class ContentStore:\n",
        "    def __init__(self, size):\n",
        "        self.size = size\n",
        "        self.hits = 0\n",
        "        self.misses = 0\n",
        "\n",
        "    def add(self, item):\n",
        "        pass\n",
        "\n",
        "    def get_helper(self, item):\n",
        "        # function is overriden for custom get implementations\n",
        "        # in derived classes\n",
        "        pass\n",
        "\n",
        "    def get(self, item):\n",
        "        item = self.get_helper(item)\n",
        "        if item != None:\n",
        "            self.hits += 1\n",
        "        else:\n",
        "            self.misses += 1\n",
        "        return item"
      ],
      "execution_count": 0,
      "outputs": []
    },
    {
      "metadata": {
        "id": "ft8L0-8tSAQ8",
        "colab_type": "text"
      },
      "cell_type": "markdown",
      "source": [
        "## Traditional Caching Algorithms"
      ]
    },
    {
      "metadata": {
        "id": "NDsp4xDySAQ_",
        "colab_type": "text"
      },
      "cell_type": "markdown",
      "source": [
        "### LRU"
      ]
    },
    {
      "metadata": {
        "id": "eD9TVyYcSARB",
        "colab_type": "code",
        "colab": {}
      },
      "cell_type": "code",
      "source": [
        "class LruContentStore(ContentStore):\n",
        "    def __init__(self, size):\n",
        "        super().__init__(size)\n",
        "        self.store = OrderedDict()\n",
        "        self.start_counting = False\n",
        "\n",
        "    def add(self, item):\n",
        "        # returns can cache ?, victim\n",
        "        victim = None\n",
        "        if item in self.store or self.size <= 0:\n",
        "            return False, victim\n",
        "        if self.size:\n",
        "            if(len(self.store) == self.size):\n",
        "                # remove top element (least recent element)\n",
        "                victim, _ = self.store.popitem(last=False)\n",
        "            self.store[item] = item\n",
        "            return True, victim\n",
        "\n",
        "    def get_helper(self, item):\n",
        "        try:\n",
        "            cached_item = self.store.pop(item)\n",
        "            # re-insert content to maintain lru-order\n",
        "            self.store[item] = cached_item\n",
        "            return cached_item\n",
        "        except:\n",
        "            return None"
      ],
      "execution_count": 0,
      "outputs": []
    },
    {
      "metadata": {
        "id": "SMwvlt55SARI",
        "colab_type": "text"
      },
      "cell_type": "markdown",
      "source": [
        "### Random"
      ]
    },
    {
      "metadata": {
        "id": "HO8woKF7SARK",
        "colab_type": "code",
        "colab": {}
      },
      "cell_type": "code",
      "source": [
        "class RandomContentStore(ContentStore):\n",
        "    def __init__(self, size):\n",
        "        super().__init__(size)\n",
        "        self.rng = np.random.RandomState(123)\n",
        "        self.size = size\n",
        "        self.store = {}\n",
        "\n",
        "    def add(self, item):\n",
        "        if self.size:\n",
        "            if len(self.store) == self.size:\n",
        "                self.store.pop(self.rng.choice(list(self.store.keys())))\n",
        "            self.store[item] = item\n",
        "    \n",
        "    def get_helper(self, item):\n",
        "        try:\n",
        "            cached_item = self.store[item]\n",
        "            return cached_item\n",
        "        except:\n",
        "            return None"
      ],
      "execution_count": 0,
      "outputs": []
    },
    {
      "metadata": {
        "id": "uf-gjCPdSARl",
        "colab_type": "text"
      },
      "cell_type": "markdown",
      "source": [
        "## Machine Learning Models for Caching"
      ]
    },
    {
      "metadata": {
        "id": "_sxCKgTrul0Y",
        "colab_type": "text"
      },
      "cell_type": "markdown",
      "source": [
        "### Multi-Day Predictor with BootStrap "
      ]
    },
    {
      "metadata": {
        "id": "oSSgW4tYulcK",
        "colab_type": "code",
        "colab": {}
      },
      "cell_type": "code",
      "source": [
        "class PretrainedCNNContentStore(ContentStore):\n",
        "    def __init__(self, size, model, online=False):\n",
        "        super().__init__(size)\n",
        "\n",
        "        # bootstrapping\n",
        "        self.bootstrap = LruContentStore(size)\n",
        "        self.bootstrap_period = 7\n",
        "        self.bootstrapping = True\n",
        "\n",
        "        # constants\n",
        "        self.pred_length = 7\n",
        "        self.window_length = 7\n",
        "        self.num_features = 11\n",
        "        self.reqs_per_day = 500000\n",
        "        self.num_portals = 10\n",
        "\n",
        "        # counter\n",
        "        self.req_counter = 0\n",
        "        self.heap_update_day = self.window_length\n",
        "\n",
        "        # ml-related\n",
        "        self.model = load_model(model)\n",
        "        self.scaler = MinMaxScaler()\n",
        "\n",
        "        # stats\n",
        "        self.history = OrderedDict()\n",
        "\n",
        "        # ranks\n",
        "        self.ranking = OrderedDict()\n",
        "\n",
        "        # cache\n",
        "        self.store = OrderedDict()\n",
        "\n",
        "        # O(1) extraction of item with lowest rank (cache priority) \n",
        "        self.heap = []\n",
        "        \n",
        "        # data\n",
        "        self.portals = np.load('drive/My Drive/portals_dict.npy').item()\n",
        "    \n",
        "    def get_curr_day(self):\n",
        "        return (self.req_counter - 1) // self.reqs_per_day\n",
        "    \n",
        "    def get_curr_timestep(self):\n",
        "        return self.get_curr_day() % self.pred_length\n",
        "\n",
        "    def get_portal_key(self, item):\n",
        "        # extract index from item name ex: from serverA/12 to 12\n",
        "        if isinstance(item, str):\n",
        "            start_ix = item.rfind('/') + 1\n",
        "            return int(item[start_ix:])\n",
        "        else:\n",
        "            return item\n",
        "    \n",
        "    # add item to cache if more popular\n",
        "    def add(self, item):\n",
        "        victim = None\n",
        "        if self.bootstrapping:\n",
        "            return self.bootstrap.add(item)\n",
        "        else:\n",
        "            if item in self.store or self.size <= 0:\n",
        "                return False, victim\n",
        "            if self.size:\n",
        "                rank = self.ranking[item][self.get_curr_timestep()]\n",
        "                if len(self.store) == self.size:\n",
        "                    min_rank, min_item = self.get_least_popular()\n",
        "                    if min_rank < rank:\n",
        "                        victim = min_item\n",
        "                        self.store.pop(victim)\n",
        "                        self.store[item] = item\n",
        "                        # add (curr_rank, item) into heap and remove lower priority item\n",
        "                        heapq.heapreplace(self.heap, (rank, item))\n",
        "                        return True, victim\n",
        "                    else:\n",
        "                        return False, victim\n",
        "                else:\n",
        "                    self.store[item] = item\n",
        "                    # add (curr_rank, item) into heap\n",
        "                    heapq.heappush(self.heap, (rank, item))\n",
        "                    return True, victim\n",
        "\n",
        "    def get_least_popular(self):\n",
        "        min_tuple = self.heap[0]\n",
        "        min_rank = min_tuple[0]\n",
        "        min_item = min_tuple[1]\n",
        "        return min_rank, min_item\n",
        "    \n",
        "    def update_rankings(self):\n",
        "        self.bootstrapping = False\n",
        "        \n",
        "        # init npy arrays\n",
        "        agg_data = np.zeros((len(self.history.keys()), self.window_length))\n",
        "        portal_data = np.zeros((len(self.history.keys()), self.window_length, self.num_portals))\n",
        "                \n",
        "        for ix, key in enumerate(self.history.keys()):\n",
        "            agg_data[ix] = self.history[key]\n",
        "            portal_key = self.get_portal_key(key)\n",
        "            if portal_key in self.portals:\n",
        "                portal_encoding = np.tile(self.portals[portal_key], (self.window_length, 1))\n",
        "            else:\n",
        "                portal_encoding = np.tile(np.zeros((self.num_portals)), (self.window_length, 1))\n",
        "            portal_data[ix] = portal_encoding\n",
        "             \n",
        "        # log and normalize data\n",
        "        agg_data = np.log1p(agg_data)\n",
        "        agg_data = self.scaler.fit_transform(agg_data)\n",
        "        \n",
        "        agg_data = agg_data.reshape(-1, self.window_length, 1)\n",
        "\n",
        "        # add portal features\n",
        "        agg_data = np.concatenate((agg_data, portal_data), axis=2)\n",
        "        \n",
        "        # make preds\n",
        "        predictions = self.predict_sequence(agg_data)  # update rankings                \n",
        "        rankings = predictions[:, :, 0]\n",
        "        \n",
        "        # reset old ranking\n",
        "        self.ranking = OrderedDict()\n",
        "\n",
        "        # map preds to content types\n",
        "        for i, key in enumerate(self.history.keys()):\n",
        "            self.ranking[key] = rankings[i]\n",
        "        \n",
        "        # reset stats\n",
        "        for key in self.history.keys():\n",
        "            self.history[key] = np.zeros((self.window_length))\n",
        "\n",
        "    def get_helper(self, item):\n",
        "        self.req_counter += 1\n",
        "        if self.req_counter != 1 and (self.req_counter-1) % (self.reqs_per_day * self.window_length) == 0:\n",
        "            # if first update, copy over cache from bootstrap\n",
        "            if self.req_counter - 1 == self.reqs_per_day * self.window_length:\n",
        "                self.store = self.bootstrap.store\n",
        "            self.update_rankings()\n",
        "        \n",
        "        # reset heap with new rankings - happens daily\n",
        "        if self.get_curr_day() == self.heap_update_day:\n",
        "            self.heap = []\n",
        "            for item in self.store.keys():\n",
        "                heapq.heappush(self.heap, (self.ranking[item][self.get_curr_timestep()], item))\n",
        "            self.heap_update_day += 1\n",
        "            \n",
        "        if item not in self.history:\n",
        "            self.history[item] = np.zeros(self.window_length)\n",
        "        if item not in self.ranking:\n",
        "            self.ranking[item] = np.zeros(self.pred_length)\n",
        "        \n",
        "        # update history\n",
        "        self.history[item][self.get_curr_timestep()] += 1\n",
        "        \n",
        "        try:\n",
        "            if self.bootstrapping:\n",
        "                cached_item = self.bootstrap.get(item)\n",
        "            else:\n",
        "                cached_item = self.store[item]\n",
        "            return cached_item\n",
        "        except:\n",
        "            return None\n",
        "\n",
        "    def predict_sequence(self, input_sequence):\n",
        "        history_sequence = input_sequence.copy()\n",
        "        # initialize output (pred_steps time steps)\n",
        "        pred_sequence = np.zeros((input_sequence.shape[0], self.pred_length, self.num_features))\n",
        "        for i in range(self.pred_length):\n",
        "            # record next time step prediction (last time step of model output)\n",
        "            last_step_pred = self.model.predict(history_sequence)[:, -1, :self.num_features]\n",
        "            pred_sequence[:, i, :self.num_features] = last_step_pred\n",
        "            # add the next time step prediction to the history sequence\n",
        "            history_sequence = np.concatenate([history_sequence, last_step_pred.reshape(-1, 1, self.num_features)], axis=1)\n",
        "        return pred_sequence"
      ],
      "execution_count": 0,
      "outputs": []
    },
    {
      "metadata": {
        "id": "PLqYUQE7SARy",
        "colab_type": "text"
      },
      "cell_type": "markdown",
      "source": [
        "### Init Content Stores"
      ]
    },
    {
      "metadata": {
        "id": "3xxUYg3kSAR6",
        "colab_type": "text"
      },
      "cell_type": "markdown",
      "source": [
        "### Initialize Statistical Baselines with Training Set"
      ]
    },
    {
      "metadata": {
        "id": "EBeFNjt0SASh",
        "colab_type": "text"
      },
      "cell_type": "markdown",
      "source": [
        "### Run Tests with Test Set"
      ]
    },
    {
      "metadata": {
        "id": "ub9hlLCKSASj",
        "colab_type": "code",
        "outputId": "b5431f6b-70e2-43ee-f6d6-54e62e7339c6",
        "colab": {
          "base_uri": "https://localhost:8080/",
          "height": 258
        }
      },
      "cell_type": "code",
      "source": [
        "import time\n",
        "cache_sizes = [int(0.01 * test_set.shape[0])]\n",
        "reqs_per_day = 500000\n",
        "\n",
        "for cache_size in cache_sizes:\n",
        "    lru = LruContentStore(cache_size)\n",
        "    cnn = PretrainedCNNContentStore(cache_size, 'drive/My Drive/opt_reshaped_simple_conv_with_portals.h5')\n",
        "    cses = [cnn, lru]\n",
        "    for cs in cses:\n",
        "        start = time.clock()\n",
        "        np.random.seed(seed)\n",
        "        for i in range(sim_length):\n",
        "            daily_probs = test_set[:,i]\n",
        "            flat_daily_reqs = np.random.choice(content_names, reqs_per_day, p=daily_probs)\n",
        "            for req in flat_daily_reqs:\n",
        "                if cs.get(req) == None:\n",
        "                    cs.add(req)\n",
        "        print(cs.hits/(cs.hits+cs.misses))    \n",
        "        print('time taken', time.clock() - start)"
      ],
      "execution_count": 0,
      "outputs": [
        {
          "output_type": "stream",
          "text": [
            "WARNING:tensorflow:From /usr/local/lib/python3.6/dist-packages/tensorflow/python/framework/op_def_library.py:263: colocate_with (from tensorflow.python.framework.ops) is deprecated and will be removed in a future version.\n",
            "Instructions for updating:\n",
            "Colocations handled automatically by placer.\n",
            "WARNING:tensorflow:From /usr/local/lib/python3.6/dist-packages/keras/backend/tensorflow_backend.py:3445: calling dropout (from tensorflow.python.ops.nn_ops) with keep_prob is deprecated and will be removed in a future version.\n",
            "Instructions for updating:\n",
            "Please use `rate` instead of `keep_prob`. Rate should be set to `rate = 1 - keep_prob`.\n",
            "WARNING:tensorflow:From /usr/local/lib/python3.6/dist-packages/tensorflow/python/ops/math_ops.py:3066: to_int32 (from tensorflow.python.ops.math_ops) is deprecated and will be removed in a future version.\n",
            "Instructions for updating:\n",
            "Use tf.cast instead.\n",
            "0.4660234857142857\n",
            "time taken 1910.944215\n",
            "0.42386105714285716\n",
            "time taken 78.96476200000006\n"
          ],
          "name": "stdout"
        }
      ]
    },
    {
      "metadata": {
        "id": "1HR81C7VrNl9",
        "colab_type": "code",
        "outputId": "619ff069-9cf8-41e4-d401-f64ac3319506",
        "colab": {
          "base_uri": "https://localhost:8080/",
          "height": 516
        }
      },
      "cell_type": "code",
      "source": [
        "x = [0.1, 0.25, 0.5, 0.75, 1]\n",
        "cnn_hit_r = [0.347,0.382,0.418,0.444,0.466]\n",
        "lru_hit_r = [0.289,0.338,0.377,0.403,0.424]\n",
        "cnn_relative =  [x/y for x, y in zip(cnn_hit_r, lru_hit_r)]\n",
        "lru_relative = [1,1,1,1,1]\n",
        "fig, ax = plt.subplots()\n",
        "ind = np.arange(5)    # the x locations for the groups\n",
        "width = 0.35         # the width of the bars\n",
        "p1 = ax.bar(ind, lru_relative, width)\n",
        "p2 = ax.bar(ind+width, cnn_relative, width)\n",
        "ax.set_xticks(ind + width / 2)\n",
        "ax.set_xticklabels(('0.1', '0.25', '0.5', '0.75', '1'))\n",
        "ax.legend((p1[0], p2[0]), ('U-LRU', 'CNN-DCC (Our Model)'))\n",
        "ax.autoscale_view()\n",
        "plt.gca().set_ylim(bottom=0.75)\n",
        "plt.ylabel('Hit Ratio Relative to U-LRU')\n",
        "plt.xlabel('Cache Size (% of Population)')\n",
        "import matplotlib\n",
        "matplotlib.rcParams.update({'font.size': 18})\n",
        "plt.savefig('result.png')"
      ],
      "execution_count": 0,
      "outputs": [
        {
          "output_type": "display_data",
          "data": {
            "image/png": "[encoded data removed]",
            "text/plain": [
              "<Figure size 720x576 with 1 Axes>"
            ]
          },
          "metadata": {
            "tags": []
          }
        }
      ]
    },
    {
      "metadata": {
        "id": "JYJtoS_c_gjV",
        "colab_type": "code",
        "colab": {}
      },
      "cell_type": "code",
      "source": [
        ""
      ],
      "execution_count": 0,
      "outputs": []
    }
  ]
}