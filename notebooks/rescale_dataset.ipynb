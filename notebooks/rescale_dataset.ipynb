{
  "nbformat": 4,
  "nbformat_minor": 0,
  "metadata": {
    "colab": {
      "name": "rescale_dataset.ipynb",
      "version": "0.3.2",
      "provenance": [],
      "collapsed_sections": [],
      "include_colab_link": true
    },
    "kernelspec": {
      "name": "python3",
      "display_name": "Python 3"
    }
  },
  "cells": [
    {
      "cell_type": "markdown",
      "metadata": {
        "id": "view-in-github",
        "colab_type": "text"
      },
      "source": [
        "<a href=\"https://colab.research.google.com/github/tavishcode/fyp/blob/master/notebooks/rescale_dataset.ipynb\" target=\"_parent\"><img src=\"https://colab.research.google.com/assets/colab-badge.svg\" alt=\"Open In Colab\"/></a>"
      ]
    },
    {
      "metadata": {
        "id": "f_q-Ez1c5ZGd",
        "colab_type": "code",
        "outputId": "e0d490e7-d345-4c28-fa88-b33e1bd4b528",
        "colab": {
          "base_uri": "https://localhost:8080/",
          "height": 34
        }
      },
      "cell_type": "code",
      "source": [
        "import pandas as pd\n",
        "from matplotlib import pyplot as plt\n",
        "import numpy as np\n",
        "from keras.models import Sequential, Model\n",
        "from keras.layers import Input, Activation, CuDNNGRU, GRU, Dense\n",
        "from sklearn.metrics import mean_squared_error as mse\n",
        "from sklearn.preprocessing import scale, StandardScaler, RobustScaler\n",
        "from collections import OrderedDict, defaultdict\n",
        "from google.colab import drive\n",
        "from scipy.optimize import curve_fit\n",
        "drive.mount('/content/drive')\n",
        "plt.rcParams['figure.figsize'] = [10, 8]"
      ],
      "execution_count": 0,
      "outputs": [
        {
          "output_type": "stream",
          "text": [
            "Drive already mounted at /content/drive; to attempt to forcibly remount, call drive.mount(\"/content/drive\", force_remount=True).\n"
          ],
          "name": "stdout"
        }
      ]
    },
    {
      "metadata": {
        "id": "nBfF-Vmxlcf_",
        "colab_type": "code",
        "colab": {}
      },
      "cell_type": "code",
      "source": [
        "df = pd.read_csv('drive/My Drive/train_1.csv', usecols=range(201))\n",
        "df.fillna(0, inplace = True)\n",
        "df = df[df['Page'].str.contains('.wikipedia.org')] \n",
        "df['lang'] = df['Page'].apply(lambda s: s.split(\".wikipedia.org\")[0][-2:])\n",
        "df = df[df['lang'] == 'en']\n",
        "df['link'] = df['Page'].apply(lambda s: s.split(\"_en.wikipedia\")[0])\n",
        "df = df[~df['link'].str.contains(':')]"
      ],
      "execution_count": 0,
      "outputs": []
    },
    {
      "metadata": {
        "id": "Veh6uN7oTYNw",
        "colab_type": "code",
        "outputId": "1eb290c2-264b-4d14-9e3a-841e58cbfc92",
        "colab": {
          "base_uri": "https://localhost:8080/",
          "height": 34
        }
      },
      "cell_type": "code",
      "source": [
        "df.shape"
      ],
      "execution_count": 0,
      "outputs": [
        {
          "output_type": "execute_result",
          "data": {
            "text/plain": [
              "(23369, 203)"
            ]
          },
          "metadata": {
            "tags": []
          },
          "execution_count": 185
        }
      ]
    },
    {
      "metadata": {
        "id": "z4fC9yclTSFe",
        "colab_type": "code",
        "colab": {}
      },
      "cell_type": "code",
      "source": [
        "ixs = np.arange(df.shape[0])"
      ],
      "execution_count": 0,
      "outputs": []
    },
    {
      "metadata": {
        "id": "qJfIfhr4Tr3Z",
        "colab_type": "code",
        "colab": {}
      },
      "cell_type": "code",
      "source": [
        "df2 = df.drop(['Page', 'lang', 'link'], axis=1)"
      ],
      "execution_count": 0,
      "outputs": []
    },
    {
      "metadata": {
        "id": "GhRosCtE7c7Q",
        "colab_type": "text"
      },
      "cell_type": "markdown",
      "source": [
        "### Total Requests for each content\n",
        "\n"
      ]
    },
    {
      "metadata": {
        "id": "rGCRwUda581v",
        "colab_type": "code",
        "colab": {}
      },
      "cell_type": "code",
      "source": [
        "sums = df2.sum(axis=1).sort_values(ascending=False)\n",
        "sums = sums.values\n",
        "sums = sums[np.nonzero(sums)]\n",
        "probs = sums/sum(sums)"
      ],
      "execution_count": 0,
      "outputs": []
    },
    {
      "metadata": {
        "id": "XPpQz_4EiRd7",
        "colab_type": "code",
        "colab": {}
      },
      "cell_type": "code",
      "source": [
        "arr = df2.values"
      ],
      "execution_count": 0,
      "outputs": []
    },
    {
      "metadata": {
        "id": "csPp5dr-0jt3",
        "colab_type": "code",
        "outputId": "def82fff-9fe7-431d-c03f-a57f564c5f0e",
        "colab": {
          "base_uri": "https://localhost:8080/",
          "height": 530
        }
      },
      "cell_type": "code",
      "source": [
        "plt.plot(range(1, len(probs)+1), probs)\n",
        "plt.xlabel('Content Type')\n",
        "plt.ylabel('Probability')\n",
        "plt.title('Probability Distribution')"
      ],
      "execution_count": 0,
      "outputs": [
        {
          "output_type": "execute_result",
          "data": {
            "text/plain": [
              "Text(0.5, 1.0, 'Probability Distribution')"
            ]
          },
          "metadata": {
            "tags": []
          },
          "execution_count": 190
        },
        {
          "output_type": "display_data",
          "data": {
            "image/png": "[encoded data removed]",
            "text/plain": [
              "<Figure size 720x576 with 1 Axes>"
            ]
          },
          "metadata": {
            "tags": []
          }
        }
      ]
    },
    {
      "metadata": {
        "id": "6FJ11yvYm9lN",
        "colab_type": "code",
        "outputId": "e8ecac89-36b0-4efd-d0de-8fd62df5f11c",
        "colab": {
          "base_uri": "https://localhost:8080/",
          "height": 534
        }
      },
      "cell_type": "code",
      "source": [
        "plt.plot(range(1, len(probs)+1), probs) #log-log plot\n",
        "plt.yscale('log')\n",
        "plt.xscale('log')\n",
        "plt.xlabel('log Content Type')\n",
        "plt.ylabel('log Probability')\n",
        "plt.title('log-log Probability Distribution')"
      ],
      "execution_count": 0,
      "outputs": [
        {
          "output_type": "execute_result",
          "data": {
            "text/plain": [
              "Text(0.5, 1.0, 'log-log Probability Distribution')"
            ]
          },
          "metadata": {
            "tags": []
          },
          "execution_count": 191
        },
        {
          "output_type": "display_data",
          "data": {
            "image/png": "[encoded data removed]",
            "text/plain": [
              "<Figure size 720x576 with 1 Axes>"
            ]
          },
          "metadata": {
            "tags": []
          }
        }
      ]
    },
    {
      "metadata": {
        "id": "mohVUn5cFEFx",
        "colab_type": "code",
        "outputId": "21d59bec-23ce-4464-ccad-fccafaca3eba",
        "colab": {
          "base_uri": "https://localhost:8080/",
          "height": 34
        }
      },
      "cell_type": "code",
      "source": [
        "# fitting a zipf to the data\n",
        "def zipf(x, s):\n",
        "  return x**-s/sum([i**-s for i in range(1,len(probs)+1)])\n",
        "\n",
        "x_data = [i for i in range(1,len(probs)+1)]\n",
        "y_data = probs\n",
        "\n",
        "popt, pcov = curve_fit(zipf, x_data, y_data)\n",
        "popt"
      ],
      "execution_count": 0,
      "outputs": [
        {
          "output_type": "execute_result",
          "data": {
            "text/plain": [
              "array([1.26018854])"
            ]
          },
          "metadata": {
            "tags": []
          },
          "execution_count": 192
        }
      ]
    },
    {
      "metadata": {
        "id": "JCG5jQpCG4gU",
        "colab_type": "code",
        "outputId": "760f0a7e-07df-4fa0-b89d-795fa455e6dd",
        "colab": {
          "base_uri": "https://localhost:8080/",
          "height": 534
        }
      },
      "cell_type": "code",
      "source": [
        "norm = sum([i**-popt[0] for i in range(1,len(probs)+1)])\n",
        "plt.plot(range(1, len(probs)+1), probs) #log-log plot\n",
        "plt.plot(x_data, [i**-popt[0]/norm for i in x_data])\n",
        "plt.yscale('log')\n",
        "plt.xscale('log')\n",
        "plt.xlabel('log Content Type')\n",
        "plt.ylabel('log Probability')\n",
        "plt.title('log-log Probability Distribution')\n",
        "plt.legend(['data', 'zipf with skew=1.26'])"
      ],
      "execution_count": 0,
      "outputs": [
        {
          "output_type": "execute_result",
          "data": {
            "text/plain": [
              "<matplotlib.legend.Legend at 0x7f1dab4d3a58>"
            ]
          },
          "metadata": {
            "tags": []
          },
          "execution_count": 193
        },
        {
          "output_type": "display_data",
          "data": {
            "image/png": "[encoded data removed]",
            "text/plain": [
              "<Figure size 720x576 with 1 Axes>"
            ]
          },
          "metadata": {
            "tags": []
          }
        }
      ]
    },
    {
      "metadata": {
        "id": "OYY9k2BlbRfW",
        "colab_type": "code",
        "outputId": "f9fd23a6-19ae-4a5b-c844-58c69b9f2a0c",
        "colab": {
          "base_uri": "https://localhost:8080/",
          "height": 34
        }
      },
      "cell_type": "code",
      "source": [
        "# calculate median\n",
        "x = 0\n",
        "for i in range(len(probs)):\n",
        "  x += probs[i]\n",
        "  if x >= 0.5:\n",
        "    print(i+1)\n",
        "    break"
      ],
      "execution_count": 0,
      "outputs": [
        {
          "output_type": "stream",
          "text": [
            "92\n"
          ],
          "name": "stdout"
        }
      ]
    },
    {
      "metadata": {
        "id": "60Mqqj5M8Iaa",
        "colab_type": "code",
        "colab": {}
      },
      "cell_type": "code",
      "source": [
        "num_contents = 16384"
      ],
      "execution_count": 0,
      "outputs": []
    },
    {
      "metadata": {
        "id": "o3Qiq4_6-KaF",
        "colab_type": "text"
      },
      "cell_type": "markdown",
      "source": [
        "### Attempt # 0 - Sorted Slice"
      ]
    },
    {
      "metadata": {
        "id": "D_jZPWlh-Ja7",
        "colab_type": "code",
        "outputId": "20a8f572-0864-4bef-f656-6e620b4fa6f1",
        "colab": {
          "base_uri": "https://localhost:8080/",
          "height": 552
        }
      },
      "cell_type": "code",
      "source": [
        "# using scipy curve fit\n",
        "from scipy.optimize import curve_fit\n",
        "\n",
        "def zipf(x, s):\n",
        "  return x**-s/sum([i**-s for i in range(1,len(probs[:num_contents])+1)])\n",
        "\n",
        "new_probs = probs[:num_contents]/sum(probs[:num_contents])\n",
        "\n",
        "x_data = [i for i in range(1,len(probs[:num_contents])+1)]\n",
        "y_data = new_probs\n",
        "\n",
        "popt, pcov = curve_fit(zipf, x_data, y_data)\n",
        "print(popt)\n",
        "norm = sum([i**-popt[0] for i in range(1,len(probs[:num_contents])+1)])\n",
        "plt.plot(range(1, num_contents+1), probs[:num_contents])\n",
        "plt.plot(x_data, [i**-popt[0]/norm for i in x_data])\n",
        "plt.yscale('log')\n",
        "plt.xscale('log')\n",
        "plt.xlabel('log Content Type')\n",
        "plt.ylabel('log Probability')\n",
        "plt.title('log-log Probability Distribution')\n",
        "plt.legend(['data', 'zipf with skew=1.258'])\n",
        "\n",
        "# calculate median\n",
        "x = 0\n",
        "for i in range(len(new_probs)):\n",
        "  x += new_probs[i]\n",
        "  if x >= 0.5:\n",
        "    print(i+1)\n",
        "    break"
      ],
      "execution_count": 0,
      "outputs": [
        {
          "output_type": "stream",
          "text": [
            "[1.25832798]\n",
            "91\n"
          ],
          "name": "stdout"
        },
        {
          "output_type": "display_data",
          "data": {
            "image/png": "[encoded data removed]",
            "text/plain": [
              "<Figure size 720x576 with 1 Axes>"
            ]
          },
          "metadata": {
            "tags": []
          }
        }
      ]
    },
    {
      "metadata": {
        "id": "_LGTai0jj1D0",
        "colab_type": "text"
      },
      "cell_type": "markdown",
      "source": [
        "### Attempt 5 - Random Sampling\n"
      ]
    },
    {
      "metadata": {
        "id": "IVICxxOaIfgp",
        "colab_type": "code",
        "colab": {}
      },
      "cell_type": "code",
      "source": [
        "# using scipy curve fit\n",
        "\n",
        "from scipy.optimize import curve_fit\n",
        "\n",
        "def zipf(x, s):\n",
        "  return x**-s/sum([i**-s for i in range(1,len(r_probs)+1)])"
      ],
      "execution_count": 0,
      "outputs": []
    },
    {
      "metadata": {
        "id": "BVnHhrg4LwHa",
        "colab_type": "code",
        "colab": {}
      },
      "cell_type": "code",
      "source": [
        "df = pd.read_csv('drive/My Drive/train_1.csv', usecols=range(201))\n",
        "df.fillna(0, inplace = True)\n",
        "df = df[df['Page'].str.contains('.wikipedia.org')] \n",
        "df['lang'] = df['Page'].apply(lambda s: s.split(\".wikipedia.org\")[0][-2:])\n",
        "df = df[df['lang'] == 'en']\n",
        "df['link'] = df['Page'].apply(lambda s: s.split(\"_en.wikipedia\")[0])\n",
        "df = df[~df['link'].str.contains(':')]\n",
        "ixs = np.arange(df2.shape[0])"
      ],
      "execution_count": 0,
      "outputs": []
    },
    {
      "metadata": {
        "id": "2xKnN6CnauE1",
        "colab_type": "code",
        "outputId": "41daf475-297c-4cbf-e303-8e21c6a63f0f",
        "colab": {
          "base_uri": "https://localhost:8080/",
          "height": 34
        }
      },
      "cell_type": "code",
      "source": [
        "df2.shape"
      ],
      "execution_count": 0,
      "outputs": [
        {
          "output_type": "execute_result",
          "data": {
            "text/plain": [
              "(23369, 200)"
            ]
          },
          "metadata": {
            "tags": []
          },
          "execution_count": 200
        }
      ]
    },
    {
      "metadata": {
        "id": "i2e9NXlaarlK",
        "colab_type": "code",
        "outputId": "5fa35e66-cde1-4570-b804-836ad38ebbc4",
        "colab": {
          "base_uri": "https://localhost:8080/",
          "height": 485
        }
      },
      "cell_type": "code",
      "source": [
        "pairs = []\n",
        "for i in range(100):\n",
        "  rand = np.random.choice(ixs, 16384, replace=False)\n",
        "  df2 = df.iloc[rand,:]\n",
        "  df2 = df.drop(['Page', 'lang', 'link'], axis=1)\n",
        "  rand_arr = df2.values\n",
        "  r_sums = np.sort(np.sum(rand_arr, axis=1))[::-1]\n",
        "  r_sums = r_sums[np.nonzero(r_sums)]\n",
        "  r_probs = r_sums/sum(r_sums)\n",
        "  r_probs = r_probs/sum(r_probs)\n",
        "  x_data = [i for i in range(1,len(r_probs)+1)]\n",
        "  y_data = r_probs\n",
        "  popt, pcov = curve_fit(zipf, x_data, y_data)\n",
        "  norm = sum([i**-popt[0] for i in range(1,len(r_probs)+1)])\n",
        "  plt.plot(range(1, len(r_probs)+1), np.sort(r_probs)[::-1])\n",
        "  pairs.append([rand, popt, abs(popt-1.22685873), np.sort(r_probs)[::-1], x_data, [i**-popt[0]/norm for i in range(1,len(r_probs)+1)]])"
      ],
      "execution_count": 0,
      "outputs": [
        {
          "output_type": "display_data",
          "data": {
            "image/png": "[encoded data removed]",
            "text/plain": [
              "<Figure size 720x576 with 1 Axes>"
            ]
          },
          "metadata": {
            "tags": []
          }
        }
      ]
    },
    {
      "metadata": {
        "id": "Ci0YKCppPF0o",
        "colab_type": "code",
        "outputId": "22a7d16c-4b57-426d-9d2e-31486b169542",
        "colab": {
          "base_uri": "https://localhost:8080/",
          "height": 552
        }
      },
      "cell_type": "code",
      "source": [
        "min_pair = min(pairs, key = lambda x: x[2])\n",
        "plt.plot(min_pair[-2], min_pair[-3])\n",
        "plt.plot(min_pair[-2], min_pair[-1])\n",
        "print(min_pair[1])\n",
        "plt.yscale('log')\n",
        "plt.xscale('log')\n",
        "plt.xlabel('log Content Type')\n",
        "plt.ylabel('log Probability')\n",
        "plt.title('log-log Skews')\n",
        "plt.legend(['data', 'zipf with skew=1.260'])"
      ],
      "execution_count": 0,
      "outputs": [
        {
          "output_type": "stream",
          "text": [
            "[1.26018854]\n"
          ],
          "name": "stdout"
        },
        {
          "output_type": "execute_result",
          "data": {
            "text/plain": [
              "<matplotlib.legend.Legend at 0x7f1da6480320>"
            ]
          },
          "metadata": {
            "tags": []
          },
          "execution_count": 205
        },
        {
          "output_type": "display_data",
          "data": {
            "image/png": "[encoded data removed]",
            "text/plain": [
              "<Figure size 720x576 with 1 Axes>"
            ]
          },
          "metadata": {
            "tags": []
          }
        }
      ]
    },
    {
      "metadata": {
        "id": "q6nynwFcLx5r",
        "colab_type": "code",
        "colab": {}
      },
      "cell_type": "code",
      "source": [
        "df_rand = df.iloc[min_pair[0],:]"
      ],
      "execution_count": 0,
      "outputs": []
    },
    {
      "metadata": {
        "id": "vKihN7xzR472",
        "colab_type": "text"
      },
      "cell_type": "markdown",
      "source": [
        ""
      ]
    },
    {
      "metadata": {
        "id": "l_bkU84JLzyH",
        "colab_type": "code",
        "outputId": "dc154aaf-5199-424b-e0b9-96a8edc2e5a5",
        "colab": {
          "base_uri": "https://localhost:8080/",
          "height": 34
        }
      },
      "cell_type": "code",
      "source": [
        "df_rand.shape"
      ],
      "execution_count": 0,
      "outputs": [
        {
          "output_type": "execute_result",
          "data": {
            "text/plain": [
              "(16384, 203)"
            ]
          },
          "metadata": {
            "tags": []
          },
          "execution_count": 207
        }
      ]
    },
    {
      "metadata": {
        "id": "DxmORrbOch9e",
        "colab_type": "code",
        "outputId": "3efebeb7-6f58-4002-d9e6-c4e7eb5e4101",
        "colab": {
          "base_uri": "https://localhost:8080/",
          "height": 123
        }
      },
      "cell_type": "code",
      "source": [
        "df_rand[\"portals\"] = \"\""
      ],
      "execution_count": 0,
      "outputs": [
        {
          "output_type": "stream",
          "text": [
            "/usr/local/lib/python3.6/dist-packages/ipykernel_launcher.py:1: SettingWithCopyWarning: \n",
            "A value is trying to be set on a copy of a slice from a DataFrame.\n",
            "Try using .loc[row_indexer,col_indexer] = value instead\n",
            "\n",
            "See the caveats in the documentation: http://pandas.pydata.org/pandas-docs/stable/indexing.html#indexing-view-versus-copy\n",
            "  \"\"\"Entry point for launching an IPython kernel.\n"
          ],
          "name": "stderr"
        }
      ]
    },
    {
      "metadata": {
        "id": "ZL8lteMeRrVC",
        "colab_type": "code",
        "colab": {}
      },
      "cell_type": "code",
      "source": [
        ""
      ],
      "execution_count": 0,
      "outputs": []
    },
    {
      "metadata": {
        "id": "pAdtBsK0_70E",
        "colab_type": "code",
        "outputId": "ccc5ed3c-17e0-43ed-8c04-3d858e4d5083",
        "colab": {
          "base_uri": "https://localhost:8080/",
          "height": 310
        }
      },
      "cell_type": "code",
      "source": [
        "df_rand.head()"
      ],
      "execution_count": 0,
      "outputs": [
        {
          "output_type": "execute_result",
          "data": {
            "text/html": [
              "<div>\n",
              "<style scoped>\n",
              "    .dataframe tbody tr th:only-of-type {\n",
              "        vertical-align: middle;\n",
              "    }\n",
              "\n",
              "    .dataframe tbody tr th {\n",
              "        vertical-align: top;\n",
              "    }\n",
              "\n",
              "    .dataframe thead th {\n",
              "        text-align: right;\n",
              "    }\n",
              "</style>\n",
              "<table border=\"1\" class=\"dataframe\">\n",
              "  <thead>\n",
              "    <tr style=\"text-align: right;\">\n",
              "      <th></th>\n",
              "      <th>Page</th>\n",
              "      <th>2015-07-01</th>\n",
              "      <th>2015-07-02</th>\n",
              "      <th>2015-07-03</th>\n",
              "      <th>2015-07-04</th>\n",
              "      <th>2015-07-05</th>\n",
              "      <th>2015-07-06</th>\n",
              "      <th>2015-07-07</th>\n",
              "      <th>2015-07-08</th>\n",
              "      <th>2015-07-09</th>\n",
              "      <th>...</th>\n",
              "      <th>2016-01-10</th>\n",
              "      <th>2016-01-11</th>\n",
              "      <th>2016-01-12</th>\n",
              "      <th>2016-01-13</th>\n",
              "      <th>2016-01-14</th>\n",
              "      <th>2016-01-15</th>\n",
              "      <th>2016-01-16</th>\n",
              "      <th>lang</th>\n",
              "      <th>link</th>\n",
              "      <th>portals</th>\n",
              "    </tr>\n",
              "  </thead>\n",
              "  <tbody>\n",
              "    <tr>\n",
              "      <th>11570</th>\n",
              "      <td>Lucifer_(TV_series)_en.wikipedia.org_desktop_a...</td>\n",
              "      <td>2182.0</td>\n",
              "      <td>2223.0</td>\n",
              "      <td>1922.0</td>\n",
              "      <td>1844.0</td>\n",
              "      <td>2008.0</td>\n",
              "      <td>2162.0</td>\n",
              "      <td>2139.0</td>\n",
              "      <td>2145.0</td>\n",
              "      <td>2922.0</td>\n",
              "      <td>...</td>\n",
              "      <td>8023.0</td>\n",
              "      <td>8662.0</td>\n",
              "      <td>7303.0</td>\n",
              "      <td>6657.0</td>\n",
              "      <td>6792.0</td>\n",
              "      <td>6754.0</td>\n",
              "      <td>6517.0</td>\n",
              "      <td>en</td>\n",
              "      <td>Lucifer_(TV_series)</td>\n",
              "      <td></td>\n",
              "    </tr>\n",
              "    <tr>\n",
              "      <th>77306</th>\n",
              "      <td>Final_Fantasy_XV_en.wikipedia.org_mobile-web_a...</td>\n",
              "      <td>1170.0</td>\n",
              "      <td>1163.0</td>\n",
              "      <td>1248.0</td>\n",
              "      <td>1280.0</td>\n",
              "      <td>1387.0</td>\n",
              "      <td>1152.0</td>\n",
              "      <td>1071.0</td>\n",
              "      <td>1065.0</td>\n",
              "      <td>1071.0</td>\n",
              "      <td>...</td>\n",
              "      <td>1479.0</td>\n",
              "      <td>1311.0</td>\n",
              "      <td>1493.0</td>\n",
              "      <td>1296.0</td>\n",
              "      <td>1165.0</td>\n",
              "      <td>1153.0</td>\n",
              "      <td>1216.0</td>\n",
              "      <td>en</td>\n",
              "      <td>Final_Fantasy_XV</td>\n",
              "      <td></td>\n",
              "    </tr>\n",
              "    <tr>\n",
              "      <th>74655</th>\n",
              "      <td>Shraddha_Nigam_en.wikipedia.org_mobile-web_all...</td>\n",
              "      <td>483.0</td>\n",
              "      <td>412.0</td>\n",
              "      <td>407.0</td>\n",
              "      <td>449.0</td>\n",
              "      <td>472.0</td>\n",
              "      <td>426.0</td>\n",
              "      <td>523.0</td>\n",
              "      <td>635.0</td>\n",
              "      <td>672.0</td>\n",
              "      <td>...</td>\n",
              "      <td>1945.0</td>\n",
              "      <td>2017.0</td>\n",
              "      <td>2150.0</td>\n",
              "      <td>1599.0</td>\n",
              "      <td>1356.0</td>\n",
              "      <td>1216.0</td>\n",
              "      <td>1262.0</td>\n",
              "      <td>en</td>\n",
              "      <td>Shraddha_Nigam</td>\n",
              "      <td></td>\n",
              "    </tr>\n",
              "    <tr>\n",
              "      <th>39449</th>\n",
              "      <td>Trump_Tower_en.wikipedia.org_all-access_all-ag...</td>\n",
              "      <td>152.0</td>\n",
              "      <td>165.0</td>\n",
              "      <td>115.0</td>\n",
              "      <td>80.0</td>\n",
              "      <td>61.0</td>\n",
              "      <td>93.0</td>\n",
              "      <td>79.0</td>\n",
              "      <td>109.0</td>\n",
              "      <td>197.0</td>\n",
              "      <td>...</td>\n",
              "      <td>157.0</td>\n",
              "      <td>126.0</td>\n",
              "      <td>102.0</td>\n",
              "      <td>111.0</td>\n",
              "      <td>100.0</td>\n",
              "      <td>159.0</td>\n",
              "      <td>156.0</td>\n",
              "      <td>en</td>\n",
              "      <td>Trump_Tower</td>\n",
              "      <td></td>\n",
              "    </tr>\n",
              "    <tr>\n",
              "      <th>9007</th>\n",
              "      <td>Edmonia_Lewis_en.wikipedia.org_desktop_all-agents</td>\n",
              "      <td>51.0</td>\n",
              "      <td>91.0</td>\n",
              "      <td>48.0</td>\n",
              "      <td>88.0</td>\n",
              "      <td>52.0</td>\n",
              "      <td>69.0</td>\n",
              "      <td>81.0</td>\n",
              "      <td>109.0</td>\n",
              "      <td>65.0</td>\n",
              "      <td>...</td>\n",
              "      <td>135.0</td>\n",
              "      <td>112.0</td>\n",
              "      <td>61.0</td>\n",
              "      <td>148.0</td>\n",
              "      <td>143.0</td>\n",
              "      <td>183.0</td>\n",
              "      <td>67.0</td>\n",
              "      <td>en</td>\n",
              "      <td>Edmonia_Lewis</td>\n",
              "      <td></td>\n",
              "    </tr>\n",
              "  </tbody>\n",
              "</table>\n",
              "<p>5 rows × 204 columns</p>\n",
              "</div>"
            ],
            "text/plain": [
              "                                                    Page  2015-07-01  \\\n",
              "11570  Lucifer_(TV_series)_en.wikipedia.org_desktop_a...      2182.0   \n",
              "77306  Final_Fantasy_XV_en.wikipedia.org_mobile-web_a...      1170.0   \n",
              "74655  Shraddha_Nigam_en.wikipedia.org_mobile-web_all...       483.0   \n",
              "39449  Trump_Tower_en.wikipedia.org_all-access_all-ag...       152.0   \n",
              "9007   Edmonia_Lewis_en.wikipedia.org_desktop_all-agents        51.0   \n",
              "\n",
              "       2015-07-02  2015-07-03  2015-07-04  2015-07-05  2015-07-06  2015-07-07  \\\n",
              "11570      2223.0      1922.0      1844.0      2008.0      2162.0      2139.0   \n",
              "77306      1163.0      1248.0      1280.0      1387.0      1152.0      1071.0   \n",
              "74655       412.0       407.0       449.0       472.0       426.0       523.0   \n",
              "39449       165.0       115.0        80.0        61.0        93.0        79.0   \n",
              "9007         91.0        48.0        88.0        52.0        69.0        81.0   \n",
              "\n",
              "       2015-07-08  2015-07-09   ...     2016-01-10  2016-01-11  2016-01-12  \\\n",
              "11570      2145.0      2922.0   ...         8023.0      8662.0      7303.0   \n",
              "77306      1065.0      1071.0   ...         1479.0      1311.0      1493.0   \n",
              "74655       635.0       672.0   ...         1945.0      2017.0      2150.0   \n",
              "39449       109.0       197.0   ...          157.0       126.0       102.0   \n",
              "9007        109.0        65.0   ...          135.0       112.0        61.0   \n",
              "\n",
              "       2016-01-13  2016-01-14  2016-01-15  2016-01-16  lang  \\\n",
              "11570      6657.0      6792.0      6754.0      6517.0    en   \n",
              "77306      1296.0      1165.0      1153.0      1216.0    en   \n",
              "74655      1599.0      1356.0      1216.0      1262.0    en   \n",
              "39449       111.0       100.0       159.0       156.0    en   \n",
              "9007        148.0       143.0       183.0        67.0    en   \n",
              "\n",
              "                      link  portals  \n",
              "11570  Lucifer_(TV_series)           \n",
              "77306     Final_Fantasy_XV           \n",
              "74655       Shraddha_Nigam           \n",
              "39449          Trump_Tower           \n",
              "9007         Edmonia_Lewis           \n",
              "\n",
              "[5 rows x 204 columns]"
            ]
          },
          "metadata": {
            "tags": []
          },
          "execution_count": 212
        }
      ]
    },
    {
      "metadata": {
        "id": "Z5_QwRdcco9P",
        "colab_type": "code",
        "colab": {}
      },
      "cell_type": "code",
      "source": [
        "df = pd.read_csv('drive/My Drive/train_1.csv', usecols=range(401))\n",
        "df.fillna(0, inplace = True)\n",
        "df = df[df['Page'].str.contains('.wikipedia.org')] \n",
        "df['lang'] = df['Page'].apply(lambda s: s.split(\".wikipedia.org\")[0][-2:])\n",
        "df = df[df['lang'] == 'en']\n",
        "df['link'] = df['Page'].apply(lambda s: s.split(\"_en.wikipedia\")[0])\n",
        "df = df[~df['link'].str.contains(':')]\n",
        "df['portals'] = \"\"\n",
        "df_rand = df.iloc[min_pair[0],:]"
      ],
      "execution_count": 0,
      "outputs": []
    },
    {
      "metadata": {
        "id": "jQ5bdueYdvKO",
        "colab_type": "code",
        "outputId": "e2c4db82-205b-485c-bb54-358724571412",
        "colab": {
          "base_uri": "https://localhost:8080/",
          "height": 310
        }
      },
      "cell_type": "code",
      "source": [
        "df_rand.head()"
      ],
      "execution_count": 0,
      "outputs": [
        {
          "output_type": "execute_result",
          "data": {
            "text/html": [
              "<div>\n",
              "<style scoped>\n",
              "    .dataframe tbody tr th:only-of-type {\n",
              "        vertical-align: middle;\n",
              "    }\n",
              "\n",
              "    .dataframe tbody tr th {\n",
              "        vertical-align: top;\n",
              "    }\n",
              "\n",
              "    .dataframe thead th {\n",
              "        text-align: right;\n",
              "    }\n",
              "</style>\n",
              "<table border=\"1\" class=\"dataframe\">\n",
              "  <thead>\n",
              "    <tr style=\"text-align: right;\">\n",
              "      <th></th>\n",
              "      <th>Page</th>\n",
              "      <th>2015-07-01</th>\n",
              "      <th>2015-07-02</th>\n",
              "      <th>2015-07-03</th>\n",
              "      <th>2015-07-04</th>\n",
              "      <th>2015-07-05</th>\n",
              "      <th>2015-07-06</th>\n",
              "      <th>2015-07-07</th>\n",
              "      <th>2015-07-08</th>\n",
              "      <th>2015-07-09</th>\n",
              "      <th>...</th>\n",
              "      <th>2016-07-28</th>\n",
              "      <th>2016-07-29</th>\n",
              "      <th>2016-07-30</th>\n",
              "      <th>2016-07-31</th>\n",
              "      <th>2016-08-01</th>\n",
              "      <th>2016-08-02</th>\n",
              "      <th>2016-08-03</th>\n",
              "      <th>lang</th>\n",
              "      <th>link</th>\n",
              "      <th>portals</th>\n",
              "    </tr>\n",
              "  </thead>\n",
              "  <tbody>\n",
              "    <tr>\n",
              "      <th>11570</th>\n",
              "      <td>Lucifer_(TV_series)_en.wikipedia.org_desktop_a...</td>\n",
              "      <td>2182.0</td>\n",
              "      <td>2223.0</td>\n",
              "      <td>1922.0</td>\n",
              "      <td>1844.0</td>\n",
              "      <td>2008.0</td>\n",
              "      <td>2162.0</td>\n",
              "      <td>2139.0</td>\n",
              "      <td>2145.0</td>\n",
              "      <td>2922.0</td>\n",
              "      <td>...</td>\n",
              "      <td>4051.0</td>\n",
              "      <td>4220.0</td>\n",
              "      <td>3485.0</td>\n",
              "      <td>4061.0</td>\n",
              "      <td>4439.0</td>\n",
              "      <td>4019.0</td>\n",
              "      <td>3831.0</td>\n",
              "      <td>en</td>\n",
              "      <td>Lucifer_(TV_series)</td>\n",
              "      <td></td>\n",
              "    </tr>\n",
              "    <tr>\n",
              "      <th>77306</th>\n",
              "      <td>Final_Fantasy_XV_en.wikipedia.org_mobile-web_a...</td>\n",
              "      <td>1170.0</td>\n",
              "      <td>1163.0</td>\n",
              "      <td>1248.0</td>\n",
              "      <td>1280.0</td>\n",
              "      <td>1387.0</td>\n",
              "      <td>1152.0</td>\n",
              "      <td>1071.0</td>\n",
              "      <td>1065.0</td>\n",
              "      <td>1071.0</td>\n",
              "      <td>...</td>\n",
              "      <td>1453.0</td>\n",
              "      <td>1483.0</td>\n",
              "      <td>1565.0</td>\n",
              "      <td>1722.0</td>\n",
              "      <td>1553.0</td>\n",
              "      <td>1453.0</td>\n",
              "      <td>1571.0</td>\n",
              "      <td>en</td>\n",
              "      <td>Final_Fantasy_XV</td>\n",
              "      <td></td>\n",
              "    </tr>\n",
              "    <tr>\n",
              "      <th>74655</th>\n",
              "      <td>Shraddha_Nigam_en.wikipedia.org_mobile-web_all...</td>\n",
              "      <td>483.0</td>\n",
              "      <td>412.0</td>\n",
              "      <td>407.0</td>\n",
              "      <td>449.0</td>\n",
              "      <td>472.0</td>\n",
              "      <td>426.0</td>\n",
              "      <td>523.0</td>\n",
              "      <td>635.0</td>\n",
              "      <td>672.0</td>\n",
              "      <td>...</td>\n",
              "      <td>897.0</td>\n",
              "      <td>897.0</td>\n",
              "      <td>1050.0</td>\n",
              "      <td>1401.0</td>\n",
              "      <td>1097.0</td>\n",
              "      <td>930.0</td>\n",
              "      <td>740.0</td>\n",
              "      <td>en</td>\n",
              "      <td>Shraddha_Nigam</td>\n",
              "      <td></td>\n",
              "    </tr>\n",
              "    <tr>\n",
              "      <th>39449</th>\n",
              "      <td>Trump_Tower_en.wikipedia.org_all-access_all-ag...</td>\n",
              "      <td>152.0</td>\n",
              "      <td>165.0</td>\n",
              "      <td>115.0</td>\n",
              "      <td>80.0</td>\n",
              "      <td>61.0</td>\n",
              "      <td>93.0</td>\n",
              "      <td>79.0</td>\n",
              "      <td>109.0</td>\n",
              "      <td>197.0</td>\n",
              "      <td>...</td>\n",
              "      <td>258.0</td>\n",
              "      <td>304.0</td>\n",
              "      <td>248.0</td>\n",
              "      <td>249.0</td>\n",
              "      <td>291.0</td>\n",
              "      <td>308.0</td>\n",
              "      <td>349.0</td>\n",
              "      <td>en</td>\n",
              "      <td>Trump_Tower</td>\n",
              "      <td></td>\n",
              "    </tr>\n",
              "    <tr>\n",
              "      <th>9007</th>\n",
              "      <td>Edmonia_Lewis_en.wikipedia.org_desktop_all-agents</td>\n",
              "      <td>51.0</td>\n",
              "      <td>91.0</td>\n",
              "      <td>48.0</td>\n",
              "      <td>88.0</td>\n",
              "      <td>52.0</td>\n",
              "      <td>69.0</td>\n",
              "      <td>81.0</td>\n",
              "      <td>109.0</td>\n",
              "      <td>65.0</td>\n",
              "      <td>...</td>\n",
              "      <td>76.0</td>\n",
              "      <td>59.0</td>\n",
              "      <td>48.0</td>\n",
              "      <td>45.0</td>\n",
              "      <td>46.0</td>\n",
              "      <td>49.0</td>\n",
              "      <td>32.0</td>\n",
              "      <td>en</td>\n",
              "      <td>Edmonia_Lewis</td>\n",
              "      <td></td>\n",
              "    </tr>\n",
              "  </tbody>\n",
              "</table>\n",
              "<p>5 rows × 404 columns</p>\n",
              "</div>"
            ],
            "text/plain": [
              "                                                    Page  2015-07-01  \\\n",
              "11570  Lucifer_(TV_series)_en.wikipedia.org_desktop_a...      2182.0   \n",
              "77306  Final_Fantasy_XV_en.wikipedia.org_mobile-web_a...      1170.0   \n",
              "74655  Shraddha_Nigam_en.wikipedia.org_mobile-web_all...       483.0   \n",
              "39449  Trump_Tower_en.wikipedia.org_all-access_all-ag...       152.0   \n",
              "9007   Edmonia_Lewis_en.wikipedia.org_desktop_all-agents        51.0   \n",
              "\n",
              "       2015-07-02  2015-07-03  2015-07-04  2015-07-05  2015-07-06  2015-07-07  \\\n",
              "11570      2223.0      1922.0      1844.0      2008.0      2162.0      2139.0   \n",
              "77306      1163.0      1248.0      1280.0      1387.0      1152.0      1071.0   \n",
              "74655       412.0       407.0       449.0       472.0       426.0       523.0   \n",
              "39449       165.0       115.0        80.0        61.0        93.0        79.0   \n",
              "9007         91.0        48.0        88.0        52.0        69.0        81.0   \n",
              "\n",
              "       2015-07-08  2015-07-09   ...     2016-07-28  2016-07-29  2016-07-30  \\\n",
              "11570      2145.0      2922.0   ...         4051.0      4220.0      3485.0   \n",
              "77306      1065.0      1071.0   ...         1453.0      1483.0      1565.0   \n",
              "74655       635.0       672.0   ...          897.0       897.0      1050.0   \n",
              "39449       109.0       197.0   ...          258.0       304.0       248.0   \n",
              "9007        109.0        65.0   ...           76.0        59.0        48.0   \n",
              "\n",
              "       2016-07-31  2016-08-01  2016-08-02  2016-08-03  lang  \\\n",
              "11570      4061.0      4439.0      4019.0      3831.0    en   \n",
              "77306      1722.0      1553.0      1453.0      1571.0    en   \n",
              "74655      1401.0      1097.0       930.0       740.0    en   \n",
              "39449       249.0       291.0       308.0       349.0    en   \n",
              "9007         45.0        46.0        49.0        32.0    en   \n",
              "\n",
              "                      link  portals  \n",
              "11570  Lucifer_(TV_series)           \n",
              "77306     Final_Fantasy_XV           \n",
              "74655       Shraddha_Nigam           \n",
              "39449          Trump_Tower           \n",
              "9007         Edmonia_Lewis           \n",
              "\n",
              "[5 rows x 404 columns]"
            ]
          },
          "metadata": {
            "tags": []
          },
          "execution_count": 214
        }
      ]
    },
    {
      "metadata": {
        "id": "BTkk1mGydy7s",
        "colab_type": "code",
        "colab": {}
      },
      "cell_type": "code",
      "source": [
        "df_rand.to_csv('drive/My Drive/rand_sample.csv')"
      ],
      "execution_count": 0,
      "outputs": []
    },
    {
      "metadata": {
        "id": "0hDVEHg5d3Pi",
        "colab_type": "code",
        "outputId": "a22de295-2040-4812-f6a2-31da8d5c5603",
        "colab": {
          "base_uri": "https://localhost:8080/",
          "height": 34
        }
      },
      "cell_type": "code",
      "source": [
        "df_rand.shape"
      ],
      "execution_count": 0,
      "outputs": [
        {
          "output_type": "execute_result",
          "data": {
            "text/plain": [
              "(16384, 404)"
            ]
          },
          "metadata": {
            "tags": []
          },
          "execution_count": 216
        }
      ]
    },
    {
      "metadata": {
        "id": "UT8piwZRd81J",
        "colab_type": "code",
        "colab": {}
      },
      "cell_type": "code",
      "source": [
        ""
      ],
      "execution_count": 0,
      "outputs": []
    }
  ]
}