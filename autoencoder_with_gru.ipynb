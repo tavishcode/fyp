{
 "cells": [
  {
   "cell_type": "markdown",
   "metadata": {
    "colab_type": "text",
    "id": "view-in-github"
   },
   "source": [
    "<a href=\"https://colab.research.google.com/github/tavishcode/fyp/blob/master/autoencoder_with_gru.ipynb\" target=\"_parent\"><img src=\"https://colab.research.google.com/assets/colab-badge.svg\" alt=\"Open In Colab\"/></a>"
   ]
  },
  {
   "cell_type": "code",
   "execution_count": 137,
   "metadata": {
    "colab": {
     "base_uri": "https://localhost:8080/",
     "height": 34
    },
    "colab_type": "code",
    "id": "CKc6fK0TGqY-",
    "outputId": "8a4332b7-34b4-4b4c-d93b-aca756ea9065"
   },
   "outputs": [],
   "source": [
    "import numpy as np \n",
    "import pandas as pd \n",
    "import matplotlib.pyplot as plt\n",
    "%matplotlib inline\n",
    "import datetime \n",
    "import math\n",
    "from keras.models import Sequential, Model, load_model\n",
    "from keras.layers import Input, Activation, GRU, Dense, LSTM, RepeatVector\n",
    "from sklearn.metrics import mean_squared_error as mse\n",
    "from sklearn.preprocessing import scale, StandardScaler, RobustScaler, normalize\n",
    "# import holidays\n",
    "from collections import OrderedDict, defaultdict\n",
    "# from google.colab import drive\n",
    "import time\n",
    "# drive.mount('/content/drive')\n",
    "plt.rcParams['figure.figsize'] = [18, 5]"
   ]
  },
  {
   "cell_type": "code",
   "execution_count": 33,
   "metadata": {
    "colab": {
     "base_uri": "https://localhost:8080/",
     "height": 34
    },
    "colab_type": "code",
    "id": "7gqYteU-G0-z",
    "outputId": "b6ad2088-b19e-4a50-baca-d2af163a4cb8"
   },
   "outputs": [
    {
     "data": {
      "text/plain": [
       "(27222, 100, 9)"
      ]
     },
     "execution_count": 33,
     "metadata": {},
     "output_type": "execute_result"
    }
   ],
   "source": [
    "# If local\n",
    "train = np.load('data/train_set.npy')\n",
    "test = np.load('data/test_set.npy')\n",
    "test.shape"
   ]
  },
  {
   "cell_type": "code",
   "execution_count": null,
   "metadata": {},
   "outputs": [],
   "source": [
    "\n",
    "from google.colab import drive\n",
    "drive.mount('/content/drive')\n",
    "train = np.load('drive/My Drive/train_set.npy')\n",
    "test = np.load('drive/My Drive/test_set.npy')\n",
    "test.shape"
   ]
  },
  {
   "cell_type": "markdown",
   "metadata": {
    "colab_type": "text",
    "id": "02cBxRzeHKXh"
   },
   "source": [
    "## AutoEncoder + GRU prediction"
   ]
  },
  {
   "cell_type": "code",
   "execution_count": 0,
   "metadata": {
    "colab": {},
    "colab_type": "code",
    "id": "49SrRVjMGqZH"
   },
   "outputs": [],
   "source": [
    "# !pip install fbprophet\n",
    "# !pip install sklearn"
   ]
  },
  {
   "cell_type": "code",
   "execution_count": 141,
   "metadata": {
    "colab": {},
    "colab_type": "code",
    "id": "iY8BynvlInlx"
   },
   "outputs": [],
   "source": [
    "req_sum = np.zeros(train.shape[1])\n",
    "pred_req_sum = np.zeros(train.shape[1])\n",
    "decoded_data = np.zeros(train.shape)\n",
    "preds = np.zeros((train.shape[0], train.shape[1]))\n",
    "\n",
    "\n",
    "window = 1"
   ]
  },
  {
   "cell_type": "markdown",
   "metadata": {
    "colab_type": "text",
    "id": "iBhJ7aLLJYis"
   },
   "source": [
    "### Train Simple Autoencoder\n",
    "\n",
    "  - 100 days\n",
    "  - 27222 features\n",
    "  - 50 epochs"
   ]
  },
  {
   "cell_type": "code",
   "execution_count": 157,
   "metadata": {
    "colab": {},
    "colab_type": "code",
    "id": "50WBdstMHkNS"
   },
   "outputs": [],
   "source": [
    "def get_simple_autoencoder(num_features,encoding_dim,window):\n",
    "  compression_factor = float(num_features) / encoding_dim\n",
    "  print(\"Compression factor: %s\" % compression_factor)\n",
    "\n",
    "  autoencoder = Sequential()\n",
    "  autoencoder.add(Dense(encoding_dim, input_shape=(window,num_features,), activation='relu'))\n",
    "  autoencoder.add(Dense(num_features, activation='relu'))\n",
    "#   autoencoder.summary()\n",
    "\n",
    "  input_encoder = Input(shape=(window,num_features))\n",
    "  encoder_layer = autoencoder.layers[0]\n",
    "  encoder = Model(input_encoder, encoder_layer(input_encoder))\n",
    "\n",
    "  autoencoder.compile(optimizer='adam', loss='mae')\n",
    "  return autoencoder, encoder"
   ]
  },
  {
   "cell_type": "code",
   "execution_count": null,
   "metadata": {
    "colab": {
     "base_uri": "https://localhost:8080/",
     "height": 592
    },
    "colab_type": "code",
    "id": "SUsohd4ZJevk",
    "outputId": "c2544f83-6ddf-4469-f8e8-8ec6b1bfdeb7"
   },
   "outputs": [
    {
     "name": "stdout",
     "output_type": "stream",
     "text": [
      "Compression factor: 1.6\n"
     ]
    }
   ],
   "source": [
    "encoding_dims = [5,4,3,2]\n",
    "num_days = 100\n",
    "for encoding_dim in encoding_dims:\n",
    "  autoencoder, encoder = get_simple_autoencoder(num_features,encoding_dim,window)\n",
    "  ae_error = []\n",
    "  for i in range(window, num_days if num_days<train.shape[1] else train.shape[1]):\n",
    "    x = np.copy(train[:, i - window : i, 1:]).reshape(-1, window, num_features)\n",
    "    start = time.clock()\n",
    "    history = autoencoder.fit(x, x, epochs=20, verbose=0)\n",
    "    ae_error += history.history['loss']\n",
    "  autoencoder.save('autoencoder-'+str(encoding_dim))\n",
    "  encoder.save('encoder-'+str(encoding_dim))\n",
    "  plt.plot(ae_error,label='dim '+ str(encoding_dim))\n",
    "plt.legend()\n"
   ]
  },
  {
   "cell_type": "markdown",
   "metadata": {},
   "source": [
    "### Train GRU model"
   ]
  },
  {
   "cell_type": "code",
   "execution_count": null,
   "metadata": {
    "colab": {
     "base_uri": "https://localhost:8080/",
     "height": 238
    },
    "colab_type": "code",
    "id": "WNZP55ilH4ES",
    "outputId": "163f9a05-60f6-4d17-9cfa-1871acf94937"
   },
   "outputs": [],
   "source": [
    "def get_GRU(input_dim,hidden_units):\n",
    "    model = Sequential()\n",
    "    model.add(GRU(hidden_units, input_shape=(window, input_dim)))\n",
    "    model.add(Dense(1))\n",
    "    model.add(Activation('relu'))\n",
    "    model.compile(optimizer='adam', loss='mae')\n",
    "#     model.summary()\n",
    "    return model"
   ]
  },
  {
   "cell_type": "code",
   "execution_count": 166,
   "metadata": {},
   "outputs": [],
   "source": [
    "encoder2 = load_model('encoder-2')\n",
    "# encoder3 = load_model('encoder-3')\n",
    "# encoder4 = load_model('encoder-4')\n",
    "# encoder5 = load_model('encoder-5')\n",
    "# encoders = [encoder2,encoder3,encoder3,encoder4,encoder4,encoder5]\n",
    "encoders = [encoder2]\n",
    "input_dims = [4]\n",
    "hidden_units = [64]"
   ]
  },
  {
   "cell_type": "code",
   "execution_count": null,
   "metadata": {},
   "outputs": [],
   "source": [
    "for r,encoder in enumerate(encoders):\n",
    "    print(encoder.layers[1].output_shape)\n",
    "    encoder.summary()"
   ]
  },
  {
   "cell_type": "code",
   "execution_count": 167,
   "metadata": {},
   "outputs": [
    {
     "data": {
      "image/png": "[encoded data removed]",
      "text/plain": [
       "<Figure size 1296x288 with 1 Axes>"
      ]
     },
     "metadata": {
      "needs_background": "light"
     },
     "output_type": "display_data"
    }
   ],
   "source": [
    "num_days = 100\n",
    "alpha = 0.1\n",
    "for r,encoder in enumerate(encoders):\n",
    "#     print(encoder.layers[0].output_shape)\n",
    "    input_dim = input_dims[r]\n",
    "    grumodel = get_GRU(input_dim,hidden_units[r])\n",
    "    gru_error = []\n",
    "    exp_avg = 0\n",
    "    for i in range(window, num_days if num_days<train.shape[1] else train.shape[1]): # i is days\n",
    "        x_to_encode = np.copy(train[:, i - window : i, 1:]).reshape(-1, window, num_features)\n",
    "#         print(x.shape)\n",
    "        start = time.clock()\n",
    "        reqs = np.copy(train[:, i - window : i, 0]).reshape(-1,window,1)\n",
    "        encoded_x = encoder.predict(x_to_encode,verbose=0).reshape(train.shape[0],1,-1) #3/4/5\n",
    "        if exp_avg is None:\n",
    "            exp_avg = train[:, i - window : i, 0].reshape(-1,1,1)\n",
    "        else:\n",
    "            exp_avg = alpha*train[:, i - window : i, 0].reshape(-1,1,1) + (1-alpha)*exp_avg # 1\n",
    "        y = np.copy(train[:,i,0]).reshape(-1, 1)\n",
    "#         print(reqs.shape,encoded_x.shape,exp_avg.shape)\n",
    "        x = np.concatenate((reqs,encoded_x,exp_avg.reshape(-1,1,1)), axis=2).reshape(-1, 1, input_dim)\n",
    "    #     print(x.shape)\n",
    "        history = grumodel.fit(x,y,epochs=35, verbose=0)\n",
    "        gru_error += history.history['loss']\n",
    "    grumodel.save('gru-'+str(input_dim)+'-'+str(hidden_units[r]))\n",
    "    plt.plot(gru_error,label='gru-'+ str(input_dim)+'-'+str(hidden_units[r]))\n",
    "plt.legend()\n",
    "plt.show()"
   ]
  },
  {
   "cell_type": "code",
   "execution_count": 163,
   "metadata": {},
   "outputs": [],
   "source": [
    "encoder2 = load_model('encoder-2')\n",
    "encoder3 = load_model('encoder-3')\n",
    "encoder4 = load_model('encoder-4')\n",
    "encoder5 = load_model('encoder-5')\n",
    "gru_4_256 = load_model('gru-4-256')\n",
    "gru_5_64 = load_model('gru-5-64')\n",
    "gru_5_128 = load_model('gru-5-128')\n",
    "gru_6_64 = load_model('gru-6-64')\n",
    "gru_6_128 = load_model('gru-6-128')\n",
    "# gru_7_64 = load_model('gru-7-64')\n"
   ]
  },
  {
   "cell_type": "code",
   "execution_count": 169,
   "metadata": {},
   "outputs": [],
   "source": [
    "gru_4_64 = load_model('gru-4-64')"
   ]
  },
  {
   "cell_type": "code",
   "execution_count": 168,
   "metadata": {},
   "outputs": [
    {
     "ename": "NameError",
     "evalue": "name 'gru_4_64' is not defined",
     "output_type": "error",
     "traceback": [
      "\u001b[0;31m---------------------------------------------------------------------------\u001b[0m",
      "\u001b[0;31mNameError\u001b[0m                                 Traceback (most recent call last)",
      "\u001b[0;32m<ipython-input-168-24ca58336708>\u001b[0m in \u001b[0;36m<module>\u001b[0;34m\u001b[0m\n\u001b[0;32m----> 1\u001b[0;31m \u001b[0mmr_gru\u001b[0m \u001b[0;34m=\u001b[0m \u001b[0;34m[\u001b[0m\u001b[0;34m(\u001b[0m\u001b[0mencoder2\u001b[0m\u001b[0;34m,\u001b[0m\u001b[0mgru_4_64\u001b[0m\u001b[0;34m)\u001b[0m\u001b[0;34m,\u001b[0m\u001b[0;34m(\u001b[0m\u001b[0mencoder2\u001b[0m\u001b[0;34m,\u001b[0m\u001b[0mgru_4_256\u001b[0m\u001b[0;34m)\u001b[0m\u001b[0;34m,\u001b[0m\u001b[0;34m(\u001b[0m\u001b[0mencoder3\u001b[0m\u001b[0;34m,\u001b[0m\u001b[0mgru_5_64\u001b[0m\u001b[0;34m)\u001b[0m\u001b[0;34m,\u001b[0m\u001b[0;34m(\u001b[0m\u001b[0mencoder3\u001b[0m\u001b[0;34m,\u001b[0m\u001b[0mgru_5_128\u001b[0m\u001b[0;34m)\u001b[0m\u001b[0;34m,\u001b[0m\u001b[0;34m(\u001b[0m\u001b[0mencoder4\u001b[0m\u001b[0;34m,\u001b[0m\u001b[0mgru_6_64\u001b[0m\u001b[0;34m)\u001b[0m\u001b[0;34m,\u001b[0m\u001b[0;34m(\u001b[0m\u001b[0mencoder4\u001b[0m\u001b[0;34m,\u001b[0m\u001b[0mgru_6_128\u001b[0m\u001b[0;34m)\u001b[0m\u001b[0;34m]\u001b[0m\u001b[0;34m\u001b[0m\u001b[0;34m\u001b[0m\u001b[0m\n\u001b[0m\u001b[1;32m      2\u001b[0m \u001b[0mcache_size\u001b[0m \u001b[0;34m=\u001b[0m \u001b[0mint\u001b[0m\u001b[0;34m(\u001b[0m\u001b[0;36m0.01\u001b[0m \u001b[0;34m*\u001b[0m \u001b[0mtest\u001b[0m\u001b[0;34m.\u001b[0m\u001b[0mshape\u001b[0m\u001b[0;34m[\u001b[0m\u001b[0;36m0\u001b[0m\u001b[0;34m]\u001b[0m\u001b[0;34m)\u001b[0m\u001b[0;34m\u001b[0m\u001b[0;34m\u001b[0m\u001b[0m\n\u001b[1;32m      3\u001b[0m \u001b[0mnum_days\u001b[0m \u001b[0;34m=\u001b[0m \u001b[0;36m100\u001b[0m\u001b[0;34m\u001b[0m\u001b[0;34m\u001b[0m\u001b[0m\n\u001b[1;32m      4\u001b[0m \u001b[0;32mfor\u001b[0m \u001b[0mencoder\u001b[0m\u001b[0;34m,\u001b[0m\u001b[0mgrumodel\u001b[0m \u001b[0;32min\u001b[0m \u001b[0mmr_gru\u001b[0m\u001b[0;34m:\u001b[0m\u001b[0;34m\u001b[0m\u001b[0;34m\u001b[0m\u001b[0m\n\u001b[1;32m      5\u001b[0m     \u001b[0mhit_ratios\u001b[0m \u001b[0;34m=\u001b[0m \u001b[0;34m[\u001b[0m\u001b[0;34m]\u001b[0m\u001b[0;34m\u001b[0m\u001b[0;34m\u001b[0m\u001b[0m\n",
      "\u001b[0;31mNameError\u001b[0m: name 'gru_4_64' is not defined"
     ]
    }
   ],
   "source": [
    "mr_gru = [(encoder2,gru_4_64),(encoder2,gru_4_256),(encoder3,gru_5_64),(encoder3,gru_5_128),(encoder4,gru_6_64),(encoder4,gru_6_128)]\n",
    "cache_size = int(0.01 * test.shape[0])\n",
    "num_days = 100\n",
    "for encoder,grumodel in mr_gru:\n",
    "    hit_ratios = []\n",
    "    exp_avg = 0\n",
    "    for i in range(window, num_days if num_days<test.shape[1] else test.shape[1]): # for each timestep\n",
    "#         if i%10 == 0:\n",
    "#             print(i)\n",
    "        preds = [] # predicted popularities for all objects at time i\n",
    "        true_labels = [] # actual popularities for all objects at time i\n",
    "        reqs = np.copy(test[:, i - window : i, 0]).reshape(-1,window,1)\n",
    "        x_to_encode = np.copy(train[:, i - window : i, 1:]).reshape(-1, window, num_features)\n",
    "        encoded_x = encoder.predict(x_to_encode,verbose=0).reshape(test.shape[0],1,-1) #3\n",
    "    #     y = np.copy(train[:,i,0]).reshape(-1, 1)\n",
    "        if exp_avg is None:\n",
    "            exp_avg = test[:, i - window : i, 0].reshape(-1,1,1)\n",
    "        else:\n",
    "            exp_avg = alpha*test[:, i - window : i, 0].reshape(-1,1,1) + (1-alpha)*exp_avg # 1\n",
    "        x = np.concatenate((reqs,encoded_x,exp_avg.reshape(-1,1,1)), axis=2).reshape(test.shape[0], 1, -1)\n",
    "        pred = grumodel.predict(x).ravel()\n",
    "    #     print(\"pred\", pred)\n",
    "        cached_items = np.argsort(pred)[::-1][:cache_size]\n",
    "    #     print(\"cached items\",cached_items)\n",
    "#         preds.append(pred)\n",
    "        total = np.sum(test[:,i,0])\n",
    "        assert(total<500000)\n",
    "        temp_hit_ratio = 0\n",
    "        for item in cached_items:\n",
    "            temp_hit_ratio += test[item, i, 0]/total\n",
    "        hit_ratios.append(temp_hit_ratio)\n",
    "    print(sum(hit_ratios)/len(hit_ratios))\n",
    "    plt.plot(hit_ratios)\n",
    "plt.legend(['gru_4_64','gru_4_256','gru_5_64','gru_5_128','gru_6_64','gru_6_128'])"
   ]
  },
  {
   "cell_type": "code",
   "execution_count": 100,
   "metadata": {},
   "outputs": [
    {
     "data": {
      "text/plain": [
       "[<matplotlib.lines.Line2D at 0x7fa1541c3588>]"
      ]
     },
     "execution_count": 100,
     "metadata": {},
     "output_type": "execute_result"
    },
    {
     "data": {
      "image/png": "[encoded data removed]",
      "text/plain": [
       "<Figure size 1296x216 with 1 Axes>"
      ]
     },
     "metadata": {
      "needs_background": "light"
     },
     "output_type": "display_data"
    }
   ],
   "source": [
    "plt.rcParams['figure.figsize'] = [18, 3]\n",
    "plt.plot(hit_ratios)"
   ]
  },
  {
   "cell_type": "markdown",
   "metadata": {
    "colab_type": "text",
    "id": "rYmrX8c0a2Y0"
   },
   "source": [
    "### Train LSTM autoencoder\n",
    "  \n",
    "  - 100 days\n",
    "  - 27222 features\n",
    "  - 50 epochs"
   ]
  },
  {
   "cell_type": "code",
   "execution_count": 0,
   "metadata": {
    "colab": {},
    "colab_type": "code",
    "id": "RIKNAsaddPjU"
   },
   "outputs": [],
   "source": [
    "inputs = Input(shape=(timesteps, input_dim))\n",
    "encoded = LSTM(latent_dim)(inputs)\n",
    "\n",
    "decoded = RepeatVector(timesteps)(encoded)\n",
    "decoded = LSTM(input_dim, return_sequences=True)(decoded)\n",
    "\n",
    "sequence_autoencoder = Model(inputs, decoded)\n",
    "encoder = Model(inputs, encoded)\n",
    "\n",
    "def get_lstm_autoencoder(num_features,encoding_dim,window):\n",
    "  compression_factor = float(num_features) / encoding_dim\n",
    "  print(\"Compression factor: %s\" % compression_factor)\n",
    "  inputs = Input(shape=(window, num_features))\n",
    "  encoded = LSTM(encoding_dim)(inputs)\n",
    "\n",
    "  decoded = RepeatVector(window)(encoded)\n",
    "  decoded = LSTM(num_features, return_sequences=True)(decoded)\n",
    "\n",
    "  sequence_autoencoder = Model(inputs, decoded)\n",
    "  sequence_autoencoder.compile(optimizer='adam', loss='mse')\n",
    "  encoder = Model(inputs, encoded)\n",
    "  encoder.compile(optimizer='adam', loss='mse')\n",
    "  return sequence_autoencoder, encoder"
   ]
  },
  {
   "cell_type": "code",
   "execution_count": 0,
   "metadata": {
    "colab": {},
    "colab_type": "code",
    "id": "fJSzfW0le_lE"
   },
   "outputs": [],
   "source": [
    "encoding_dims = [1,3,6,7]\n",
    "num_days = 10\n",
    "for encoding_dim in encoding_dims:\n",
    "  autoencoder, encoder = get_lstm_autoencoder(num_features,encoding_dim,window)\n",
    "  ae_error = []\n",
    "  for i in range(window, num_days if num_days<train.shape[1] else train.shape[1]):\n",
    "    x = np.copy(train[:, i - window : i, :]).reshape(-1, window, train.shape[2])\n",
    "    print(x.shape)\n",
    "  #   p = autoencoder.predict(x)\n",
    "    start = time.clock()\n",
    "    autoencoder.fit(x, x, epochs=50, verbose=0)\n",
    "    print(time.clock() - start)\n",
    "    print(str(i)+'/'+str(train.shape[1]))\n",
    "    error = autoencoder.evaluate(x,x,verbose=0)\n",
    "    ae_error.append(error)\n",
    "  print(autoencoder.evaluate(x,x))\n",
    "  autoencoder.save('drive/My Drive/lstm-autoencoder-'+str(encoding_dim))\n",
    "  encoder.save('drive/My Drive/lstm-encoder-'+str(encoding_dim))\n",
    "  plt.plot(ae_error)"
   ]
  }
 ],
 "metadata": {
  "accelerator": "GPU",
  "colab": {
   "include_colab_link": true,
   "name": "wiki_test2.ipynb",
   "provenance": [],
   "toc_visible": true,
   "version": "0.3.2"
  },
  "kernelspec": {
   "display_name": "Python 3",
   "language": "python",
   "name": "python3"
  },
  "language_info": {
   "codemirror_mode": {
    "name": "ipython",
    "version": 3
   },
   "file_extension": ".py",
   "mimetype": "text/x-python",
   "name": "python",
   "nbconvert_exporter": "python",
   "pygments_lexer": "ipython3",
   "version": "3.6.7"
  }
 },
 "nbformat": 4,
 "nbformat_minor": 1
}
