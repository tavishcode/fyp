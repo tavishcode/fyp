{
  "nbformat": 4,
  "nbformat_minor": 0,
  "metadata": {
    "colab": {
      "name": "wiki_test2.ipynb",
      "version": "0.3.2",
      "provenance": [],
      "toc_visible": true,
      "include_colab_link": true
    },
    "kernelspec": {
      "name": "python3",
      "display_name": "Python 3"
    },
    "accelerator": "GPU"
  },
  "cells": [
    {
      "cell_type": "markdown",
      "metadata": {
        "id": "view-in-github",
        "colab_type": "text"
      },
      "source": [
        "<a href=\"https://colab.research.google.com/github/tavishcode/fyp/blob/master/autoencoder_with_gru.ipynb\" target=\"_parent\"><img src=\"https://colab.research.google.com/assets/colab-badge.svg\" alt=\"Open In Colab\"/></a>"
      ]
    },
    {
      "metadata": {
        "id": "CKc6fK0TGqY-",
        "colab_type": "code",
        "colab": {
          "base_uri": "https://localhost:8080/",
          "height": 34
        },
        "outputId": "8a4332b7-34b4-4b4c-d93b-aca756ea9065"
      },
      "cell_type": "code",
      "source": [
        "import numpy as np \n",
        "import pandas as pd \n",
        "from fbprophet import Prophet\n",
        "import matplotlib.pyplot as plt\n",
        "%matplotlib inline\n",
        "import datetime \n",
        "import math\n",
        "from keras.models import Sequential, Model\n",
        "from keras.layers import Input, Activation, CuDNNGRU, GRU, Dense,CuDNNLSTM, LSTM, RepeatVector\n",
        "from sklearn.metrics import mean_squared_error as mse\n",
        "from sklearn.preprocessing import scale, StandardScaler, RobustScaler, normalize\n",
        "import holidays\n",
        "from collections import OrderedDict, defaultdict\n",
        "from google.colab import drive\n",
        "import time\n",
        "drive.mount('/content/drive')\n",
        "plt.rcParams['figure.figsize'] = [18, 5]"
      ],
      "execution_count": 31,
      "outputs": [
        {
          "output_type": "stream",
          "text": [
            "Drive already mounted at /content/drive; to attempt to forcibly remount, call drive.mount(\"/content/drive\", force_remount=True).\n"
          ],
          "name": "stdout"
        }
      ]
    },
    {
      "metadata": {
        "id": "7gqYteU-G0-z",
        "colab_type": "code",
        "colab": {
          "base_uri": "https://localhost:8080/",
          "height": 34
        },
        "outputId": "b6ad2088-b19e-4a50-baca-d2af163a4cb8"
      },
      "cell_type": "code",
      "source": [
        "\n",
        "train = np.load('drive/My Drive/train_set.npy')\n",
        "train.shape"
      ],
      "execution_count": 32,
      "outputs": [
        {
          "output_type": "execute_result",
          "data": {
            "text/plain": [
              "(27222, 100, 9)"
            ]
          },
          "metadata": {
            "tags": []
          },
          "execution_count": 32
        }
      ]
    },
    {
      "metadata": {
        "id": "02cBxRzeHKXh",
        "colab_type": "text"
      },
      "cell_type": "markdown",
      "source": [
        "## AutoEncoder + GRU prediction"
      ]
    },
    {
      "metadata": {
        "id": "49SrRVjMGqZH",
        "colab_type": "code",
        "colab": {}
      },
      "cell_type": "code",
      "source": [
        "# !pip install fbprophet\n",
        "# !pip install sklearn"
      ],
      "execution_count": 0,
      "outputs": []
    },
    {
      "metadata": {
        "id": "iY8BynvlInlx",
        "colab_type": "code",
        "colab": {}
      },
      "cell_type": "code",
      "source": [
        "req_sum = np.zeros(train.shape[1])\n",
        "pred_req_sum = np.zeros(train.shape[1])\n",
        "decoded_data = np.zeros(train.shape)\n",
        "preds = np.zeros((train.shape[0], train.shape[1]))\n",
        "\n",
        "num_features = train.shape[2]\n",
        "encoding_dim = 4\n",
        "window = 1"
      ],
      "execution_count": 0,
      "outputs": []
    },
    {
      "metadata": {
        "id": "WNZP55ilH4ES",
        "colab_type": "code",
        "colab": {
          "base_uri": "https://localhost:8080/",
          "height": 238
        },
        "outputId": "163f9a05-60f6-4d17-9cfa-1871acf94937"
      },
      "cell_type": "code",
      "source": [
        "\n",
        "\n",
        "model = Sequential()\n",
        "model.add(CuDNNGRU(64, input_shape=(window, encoding_dim)))\n",
        "model.add(Dense(1))\n",
        "model.add(Activation('relu'))\n",
        "model.compile(optimizer='adam', loss='mean_squared_error')\n",
        "model.summary()"
      ],
      "execution_count": 34,
      "outputs": [
        {
          "output_type": "stream",
          "text": [
            "_________________________________________________________________\n",
            "Layer (type)                 Output Shape              Param #   \n",
            "=================================================================\n",
            "cu_dnngru_3 (CuDNNGRU)       (None, 64)                13440     \n",
            "_________________________________________________________________\n",
            "dense_13 (Dense)             (None, 1)                 65        \n",
            "_________________________________________________________________\n",
            "activation_3 (Activation)    (None, 1)                 0         \n",
            "=================================================================\n",
            "Total params: 13,505\n",
            "Trainable params: 13,505\n",
            "Non-trainable params: 0\n",
            "_________________________________________________________________\n"
          ],
          "name": "stdout"
        }
      ]
    },
    {
      "metadata": {
        "id": "iBhJ7aLLJYis",
        "colab_type": "text"
      },
      "cell_type": "markdown",
      "source": [
        "### Train Simple Autoencoder\n",
        "\n",
        "  - 100 days\n",
        "  - 27222 features\n",
        "  - 50 epochs"
      ]
    },
    {
      "metadata": {
        "id": "50WBdstMHkNS",
        "colab_type": "code",
        "colab": {}
      },
      "cell_type": "code",
      "source": [
        "def get_simple_autoencoder(num_features,encoding_dim,window):\n",
        "  compression_factor = float(num_features) / encoding_dim\n",
        "  print(\"Compression factor: %s\" % compression_factor)\n",
        "\n",
        "  autoencoder = Sequential()\n",
        "  autoencoder.add(Dense(encoding_dim, input_shape=(window,num_features,), activation='relu'))\n",
        "  autoencoder.add(Dense(num_features, activation='relu'))\n",
        "#   autoencoder.summary()\n",
        "\n",
        "  input_encoder = Input(shape=(num_features,))\n",
        "  encoder_layer = autoencoder.layers[0]\n",
        "  encoder = Model(input_encoder, encoder_layer(input_encoder))\n",
        "\n",
        "  autoencoder.compile(optimizer='adam', loss='mse')\n",
        "  return autoencoder, encoder"
      ],
      "execution_count": 0,
      "outputs": []
    },
    {
      "metadata": {
        "id": "SUsohd4ZJevk",
        "colab_type": "code",
        "colab": {
          "base_uri": "https://localhost:8080/",
          "height": 592
        },
        "outputId": "c2544f83-6ddf-4469-f8e8-8ec6b1bfdeb7"
      },
      "cell_type": "code",
      "source": [
        "encoding_dims = [1,3,6,7]\n",
        "num_days = 10\n",
        "for encoding_dim in encoding_dims:\n",
        "  autoencoder, encoder = get_simple_autoencoder(num_features,encoding_dim,window)\n",
        "  ae_error = []\n",
        "  for i in range(window, num_days if num_days<train.shape[1] else train.shape[1]):\n",
        "    x = np.copy(train[:, i - window : i, :]).reshape(-1, window, train.shape[2])\n",
        "#     print(x.shape)\n",
        "  #   p = autoencoder.predict(x)\n",
        "    start = time.clock()\n",
        "    autoencoder.fit(x, x, epochs=50, verbose=0)\n",
        "#     print(time.clock() - start)\n",
        "#     print(str(i)+'/'+str(train.shape[1]))\n",
        "    error = autoencoder.evaluate(x,x,verbose=0)\n",
        "    ae_error.append(error)\n",
        "  print(autoencoder.evaluate(x,x))\n",
        "  print(\"encoding dimension\", encoding_dim)\n",
        "  autoencoder.save('drive/My Drive/autoencoder-'+str(encoding_dim))\n",
        "  encoder.save('drive/My Drive/encoder-'+str(encoding_dim))\n",
        "  plt.plot(ae_error)\n"
      ],
      "execution_count": 37,
      "outputs": [
        {
          "output_type": "stream",
          "text": [
            "Compression factor: 9.0\n",
            "27222/27222 [==============================] - 1s 37us/step\n",
            "2558204.2296827924\n",
            "encoding dimension 1\n",
            "Compression factor: 3.0\n",
            "27222/27222 [==============================] - 1s 38us/step\n",
            "2558185.801714832\n",
            "encoding dimension 3\n",
            "Compression factor: 1.5\n",
            "27222/27222 [==============================] - 1s 39us/step\n",
            "784.5263901995611\n",
            "encoding dimension 6\n",
            "Compression factor: 1.2857142857142858\n",
            "27222/27222 [==============================] - 1s 39us/step\n",
            "581.8683535882968\n",
            "encoding dimension 7\n"
          ],
          "name": "stdout"
        },
        {
          "output_type": "display_data",
          "data": {
            "image/png": "[encoded data removed]",
            "text/plain": [
              "<Figure size 1296x360 with 1 Axes>"
            ]
          },
          "metadata": {
            "tags": []
          }
        }
      ]
    },
    {
      "metadata": {
        "id": "rYmrX8c0a2Y0",
        "colab_type": "text"
      },
      "cell_type": "markdown",
      "source": [
        "### Train LSTM autoencoder\n",
        "  \n",
        "  - 100 days\n",
        "  - 27222 features\n",
        "  - 50 epochs"
      ]
    },
    {
      "metadata": {
        "id": "RIKNAsaddPjU",
        "colab_type": "code",
        "colab": {}
      },
      "cell_type": "code",
      "source": [
        "inputs = Input(shape=(timesteps, input_dim))\n",
        "encoded = LSTM(latent_dim)(inputs)\n",
        "\n",
        "decoded = RepeatVector(timesteps)(encoded)\n",
        "decoded = LSTM(input_dim, return_sequences=True)(decoded)\n",
        "\n",
        "sequence_autoencoder = Model(inputs, decoded)\n",
        "encoder = Model(inputs, encoded)\n",
        "\n",
        "def get_lstm_autoencoder(num_features,encoding_dim,window):\n",
        "  compression_factor = float(num_features) / encoding_dim\n",
        "  print(\"Compression factor: %s\" % compression_factor)\n",
        "  inputs = Input(shape=(window, num_features))\n",
        "  encoded = LSTM(encoding_dim)(inputs)\n",
        "\n",
        "  decoded = RepeatVector(window)(encoded)\n",
        "  decoded = LSTM(num_features, return_sequences=True)(decoded)\n",
        "\n",
        "  sequence_autoencoder = Model(inputs, decoded)\n",
        "  sequence_autoencoder.compile(optimizer='adam', loss='mse')\n",
        "  encoder = Model(inputs, encoded)\n",
        "  encoder.compile(optimizer='adam', loss='mse')\n",
        "  return sequence_autoencoder, encoder"
      ],
      "execution_count": 0,
      "outputs": []
    },
    {
      "metadata": {
        "id": "fJSzfW0le_lE",
        "colab_type": "code",
        "colab": {}
      },
      "cell_type": "code",
      "source": [
        "encoding_dims = [1,3,6,7]\n",
        "num_days = 10\n",
        "for encoding_dim in encoding_dims:\n",
        "  autoencoder, encoder = get_lstm_autoencoder(num_features,encoding_dim,window)\n",
        "  ae_error = []\n",
        "  for i in range(window, num_days if num_days<train.shape[1] else train.shape[1]):\n",
        "    x = np.copy(train[:, i - window : i, :]).reshape(-1, window, train.shape[2])\n",
        "    print(x.shape)\n",
        "  #   p = autoencoder.predict(x)\n",
        "    start = time.clock()\n",
        "    autoencoder.fit(x, x, epochs=50, verbose=0)\n",
        "    print(time.clock() - start)\n",
        "    print(str(i)+'/'+str(train.shape[1]))\n",
        "    error = autoencoder.evaluate(x,x,verbose=0)\n",
        "    ae_error.append(error)\n",
        "  print(autoencoder.evaluate(x,x))\n",
        "  autoencoder.save('drive/My Drive/lstm-autoencoder-'+str(encoding_dim))\n",
        "  encoder.save('drive/My Drive/lstm-encoder-'+str(encoding_dim))\n",
        "  plt.plot(ae_error)"
      ],
      "execution_count": 0,
      "outputs": []
    }
  ]
}