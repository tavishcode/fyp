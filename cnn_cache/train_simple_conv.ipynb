{
  "nbformat": 4,
  "nbformat_minor": 0,
  "metadata": {
    "colab": {
      "name": "train_simple_conv.ipynb",
      "version": "0.3.2",
      "provenance": [],
      "collapsed_sections": [],
      "include_colab_link": true
    },
    "kernelspec": {
      "name": "python3",
      "display_name": "Python 3"
    },
    "accelerator": "GPU"
  },
  "cells": [
    {
      "cell_type": "markdown",
      "metadata": {
        "id": "view-in-github",
        "colab_type": "text"
      },
      "source": [
        "<a href=\"https://colab.research.google.com/github/tavishcode/fyp/blob/master/notebooks/train_simple_conv.ipynb\" target=\"_parent\"><img src=\"https://colab.research.google.com/assets/colab-badge.svg\" alt=\"Open In Colab\"/></a>"
      ]
    },
    {
      "metadata": {
        "id": "TxIKyDu5cvgz",
        "colab_type": "code",
        "outputId": "09c82153-669a-4000-bdcb-f3fa0a1991f1",
        "colab": {
          "base_uri": "https://localhost:8080/",
          "height": 139
        }
      },
      "cell_type": "code",
      "source": [
        "import pandas as pd\n",
        "from matplotlib import pyplot as plt\n",
        "import numpy as np\n",
        "from keras.models import load_model\n",
        "from keras.models import Sequential, Model\n",
        "from keras.layers import Input, Activation, CuDNNGRU, CuDNNLSTM, GRU, Dense, Dropout, Conv1D, Lambda, Concatenate\n",
        "from keras.callbacks import EarlyStopping\n",
        "from sklearn.metrics import mean_squared_error as mse\n",
        "from sklearn.preprocessing import scale, StandardScaler, RobustScaler, MinMaxScaler\n",
        "from collections import OrderedDict, defaultdict\n",
        "from keras.optimizers import Adam\n",
        "from google.colab import drive\n",
        "from sklearn.utils import shuffle\n",
        "import time\n",
        "drive.mount('/content/drive', force_remount=True)\n",
        "plt.rcParams['figure.figsize'] = [10, 8]"
      ],
      "execution_count": 0,
      "outputs": [
        {
          "output_type": "stream",
          "text": [
            "Using TensorFlow backend.\n"
          ],
          "name": "stderr"
        },
        {
          "output_type": "stream",
          "text": [
            "Go to this URL in a browser: https://accounts.google.com/o/oauth2/auth?client_id=947318989803-6bn6qk8qdgf4n4g3pfee6491hc0brc4i.apps.googleusercontent.com&redirect_uri=urn%3Aietf%3Awg%3Aoauth%3A2.0%3Aoob&scope=email%20https%3A%2F%2Fwww.googleapis.com%2Fauth%2Fdocs.test%20https%3A%2F%2Fwww.googleapis.com%2Fauth%2Fdrive%20https%3A%2F%2Fwww.googleapis.com%2Fauth%2Fdrive.photos.readonly%20https%3A%2F%2Fwww.googleapis.com%2Fauth%2Fpeopleapi.readonly&response_type=code\n",
            "\n",
            "Enter your authorization code:\n",
            "··········\n",
            "Mounted at /content/drive\n"
          ],
          "name": "stdout"
        }
      ]
    },
    {
      "metadata": {
        "id": "d5z0GlvcZv1J",
        "colab_type": "code",
        "colab": {}
      },
      "cell_type": "code",
      "source": [
        "num_features=11"
      ],
      "execution_count": 0,
      "outputs": []
    },
    {
      "metadata": {
        "id": "hea5oszM9LKt",
        "colab_type": "code",
        "colab": {}
      },
      "cell_type": "code",
      "source": [
        "# convolutional layer parameters\n",
        "n_filters = 64\n",
        "filter_width = 2\n",
        "dilation_rates = [2**i for i in range(8)] \n",
        "\n",
        "# define an input history series and pass it through a stack of dilated causal convolutions. \n",
        "history_seq = Input(shape=(None, num_features))\n",
        "x = history_seq\n",
        "\n",
        "for dilation_rate in dilation_rates:\n",
        "    x = Conv1D(filters=n_filters, \n",
        "               kernel_size=filter_width, \n",
        "               padding='causal', \n",
        "               dilation_rate=dilation_rate)(x)\n",
        "\n",
        "x = Dense(256, activation='relu')(x)\n",
        "x = Dropout(.2)(x)\n",
        "x = Dense(num_features)(x)\n",
        "\n",
        "# extract the last 14 time steps as the training target\n",
        "def slice(x, seq_length):\n",
        "    return x[:,-seq_length:,:]\n",
        "\n",
        "pred_seq_train = Lambda(slice, arguments={'seq_length':7})(x)"
      ],
      "execution_count": 0,
      "outputs": []
    },
    {
      "metadata": {
        "id": "EP-ZD7UMB-wJ",
        "colab_type": "code",
        "colab": {}
      },
      "cell_type": "code",
      "source": [
        "train = np.load('drive/My Drive/train_set3.npy')\n",
        "# train = np.concatenate((train, val), axis=1)"
      ],
      "execution_count": 0,
      "outputs": []
    },
    {
      "metadata": {
        "id": "OvAA-Gffs4pV",
        "colab_type": "code",
        "outputId": "d66863f1-baeb-40e6-dabe-784f54037fd7",
        "colab": {
          "base_uri": "https://localhost:8080/",
          "height": 34
        }
      },
      "cell_type": "code",
      "source": [
        "train.shape"
      ],
      "execution_count": 0,
      "outputs": [
        {
          "output_type": "execute_result",
          "data": {
            "text/plain": [
              "(16384, 200, 11)"
            ]
          },
          "metadata": {
            "tags": []
          },
          "execution_count": 8
        }
      ]
    },
    {
      "metadata": {
        "id": "jtK5yE1etj_y",
        "colab_type": "code",
        "outputId": "62c54923-431f-4c23-c879-c46911158211",
        "colab": {
          "base_uri": "https://localhost:8080/",
          "height": 34
        }
      },
      "cell_type": "code",
      "source": [
        "train.shape"
      ],
      "execution_count": 0,
      "outputs": [
        {
          "output_type": "execute_result",
          "data": {
            "text/plain": [
              "(16384, 200, 11)"
            ]
          },
          "metadata": {
            "tags": []
          },
          "execution_count": 9
        }
      ]
    },
    {
      "metadata": {
        "id": "GiuPGs1mB4vH",
        "colab_type": "code",
        "colab": {}
      },
      "cell_type": "code",
      "source": [
        "# reshape training set\n",
        "window = 7\n",
        "pred_step = 7"
      ],
      "execution_count": 0,
      "outputs": []
    },
    {
      "metadata": {
        "id": "te__DJIhN3tB",
        "colab_type": "code",
        "colab": {}
      },
      "cell_type": "code",
      "source": [
        "# reshape training set\n",
        "encoder_input = []\n",
        "decoder_output = []\n",
        "for j in range(window, train.shape[1]-pred_step+1): # for each timestep\n",
        "  for i in range(16384): # for each content type i\n",
        "    encoder_input.append([]) # add encoder input sample\n",
        "    decoder_output.append([]) # add decoder input sample\n",
        "    for w in range(window): # add lagged features\n",
        "      encoder_input[-1].append(train[i, j-window+w, :num_features])\n",
        "    for p in range(pred_step): # add true labels for desired pred length\n",
        "      decoder_output[-1].append(train[i, j+p, :num_features])\n",
        "encoder_input = np.asarray(encoder_input, dtype='float')\n",
        "decoder_output = np.asarray(decoder_output, dtype='float')\n",
        "# decoder has last element of encoder input concatenated with all elements of "
      ],
      "execution_count": 0,
      "outputs": []
    },
    {
      "metadata": {
        "id": "bfFco1_jl7Az",
        "colab_type": "code",
        "colab": {}
      },
      "cell_type": "code",
      "source": [
        "np.save('drive/My Drive/conv_encoder_input.npy', encoder_input)\n",
        "np.save('drive/My Drive/conv_decoder_output.npy', decoder_output)"
      ],
      "execution_count": 0,
      "outputs": []
    },
    {
      "metadata": {
        "id": "tbK2cJmnrutc",
        "colab_type": "code",
        "colab": {}
      },
      "cell_type": "code",
      "source": [
        "encoder_input = np.load('drive/My Drive/conv_encoder_input.npy')\n",
        "decoder_output = np.load('drive/My Drive/conv_decoder_output.npy')"
      ],
      "execution_count": 0,
      "outputs": []
    },
    {
      "metadata": {
        "id": "2F74WlluKsHv",
        "colab_type": "code",
        "outputId": "991908ab-ea73-40d5-ed05-02f9415f36de",
        "colab": {
          "base_uri": "https://localhost:8080/",
          "height": 34
        }
      },
      "cell_type": "code",
      "source": [
        "encoder_input.shape"
      ],
      "execution_count": 0,
      "outputs": [
        {
          "output_type": "execute_result",
          "data": {
            "text/plain": [
              "(3063808, 7, 11)"
            ]
          },
          "metadata": {
            "tags": []
          },
          "execution_count": 14
        }
      ]
    },
    {
      "metadata": {
        "id": "kpKh7wpfKucM",
        "colab_type": "code",
        "outputId": "e9e67c69-e8fa-44f7-e8f6-59f261e780d1",
        "colab": {
          "base_uri": "https://localhost:8080/",
          "height": 34
        }
      },
      "cell_type": "code",
      "source": [
        "decoder_output.shape"
      ],
      "execution_count": 0,
      "outputs": [
        {
          "output_type": "execute_result",
          "data": {
            "text/plain": [
              "(3063808, 7, 11)"
            ]
          },
          "metadata": {
            "tags": []
          },
          "execution_count": 15
        }
      ]
    },
    {
      "metadata": {
        "id": "4ve97GS7-zTI",
        "colab_type": "code",
        "colab": {}
      },
      "cell_type": "code",
      "source": [
        "# we append a lagged history of the target series to the input data, \n",
        "# so that we can train with teacher forcing\n",
        "lagged_target_history = decoder_output[:,:-1,:num_features]\n",
        "encoder_input = np.concatenate([encoder_input, lagged_target_history], axis=1)"
      ],
      "execution_count": 0,
      "outputs": []
    },
    {
      "metadata": {
        "id": "QxlmNP9eW0qi",
        "colab_type": "code",
        "outputId": "10551e90-0282-4a45-aa7e-24afdbb193bf",
        "colab": {
          "base_uri": "https://localhost:8080/",
          "height": 34
        }
      },
      "cell_type": "code",
      "source": [
        "lagged_target_history.shape"
      ],
      "execution_count": 0,
      "outputs": [
        {
          "output_type": "execute_result",
          "data": {
            "text/plain": [
              "(3063808, 6, 11)"
            ]
          },
          "metadata": {
            "tags": []
          },
          "execution_count": 17
        }
      ]
    },
    {
      "metadata": {
        "id": "-4qnyUHKpPDL",
        "colab_type": "code",
        "colab": {}
      },
      "cell_type": "code",
      "source": [
        "model = Model(history_seq, pred_seq_train)\n",
        "model.compile(Adam(lr=0.001), loss='mean_absolute_error')"
      ],
      "execution_count": 0,
      "outputs": []
    },
    {
      "metadata": {
        "id": "8QSUFfbMuyy9",
        "colab_type": "code",
        "outputId": "b9f1545b-a5b9-44af-f8c8-4db714e57dbc",
        "colab": {
          "base_uri": "https://localhost:8080/",
          "height": 105
        }
      },
      "cell_type": "code",
      "source": [
        "history = model.fit(encoder_input, decoder_output, batch_size=256, epochs=1)"
      ],
      "execution_count": 0,
      "outputs": [
        {
          "output_type": "stream",
          "text": [
            "WARNING:tensorflow:From /usr/local/lib/python3.6/dist-packages/tensorflow/python/ops/math_ops.py:3066: to_int32 (from tensorflow.python.ops.math_ops) is deprecated and will be removed in a future version.\n",
            "Instructions for updating:\n",
            "Use tf.cast instead.\n",
            "Epoch 1/1\n",
            "3063808/3063808 [==============================] - 215s 70us/step - loss: 0.0044\n"
          ],
          "name": "stdout"
        }
      ]
    },
    {
      "metadata": {
        "id": "DwvBUadUcUFa",
        "colab_type": "code",
        "colab": {}
      },
      "cell_type": "code",
      "source": [
        "def predict_sequence(input_sequence):\n",
        "  history_sequence = input_sequence.copy()\n",
        "  pred_sequence = np.zeros((input_sequence.shape[0],pred_step,num_features)) # initialize output (pred_steps time steps)  \n",
        "\n",
        "  for i in range(pred_step):\n",
        "    # record next time step prediction (last time step of model output) \n",
        "    last_step_pred = model.predict(history_sequence)[:,-1,:num_features]\n",
        "    pred_sequence[:,i,:num_features] = last_step_pred\n",
        "    # add the next time step prediction to the history sequence\n",
        "    history_sequence = np.concatenate([history_sequence, last_step_pred.reshape(-1,1,num_features)], axis=1)\n",
        "\n",
        "  return pred_sequence"
      ],
      "execution_count": 0,
      "outputs": []
    },
    {
      "metadata": {
        "id": "K33alVxio1ui",
        "colab_type": "code",
        "outputId": "ce07597a-a288-4ae8-8d5d-62e9ef05ef2a",
        "colab": {
          "base_uri": "https://localhost:8080/",
          "height": 34
        }
      },
      "cell_type": "code",
      "source": [
        "train.shape"
      ],
      "execution_count": 0,
      "outputs": [
        {
          "output_type": "execute_result",
          "data": {
            "text/plain": [
              "(16384, 200, 11)"
            ]
          },
          "metadata": {
            "tags": []
          },
          "execution_count": 21
        }
      ]
    },
    {
      "metadata": {
        "id": "3caoKlg-8GUE",
        "colab_type": "code",
        "colab": {}
      },
      "cell_type": "code",
      "source": [
        "test = np.load('drive/My Drive/test_set3.npy')"
      ],
      "execution_count": 0,
      "outputs": []
    },
    {
      "metadata": {
        "id": "7zXl2iPzfvlI",
        "colab_type": "code",
        "outputId": "e571d3e1-162e-4d63-8aa8-eb348be7c5b8",
        "colab": {
          "base_uri": "https://localhost:8080/",
          "height": 517
        }
      },
      "cell_type": "code",
      "source": [
        "# visualize forecasts\n",
        "content_ix = 0\n",
        "encoder_input = []\n",
        "decoder_output = []\n",
        "preds = []\n",
        "for j in range(window, test.shape[1]-pred_step+1, pred_step): # for each timestep\n",
        "  encoder_input.append([]) # add encoder input sample\n",
        "  decoder_output.append([]) # add decoder input sample\n",
        "  for w in range(window): # add lagged features\n",
        "    encoder_input[-1].append(test[content_ix, j-window+w, :num_features]) # add normalized and relevant features as a training sample\n",
        "  for p in range(pred_step): # add true labels for desired pred length\n",
        "    decoder_output[-1].append(test[content_ix, j+p, :num_features]) # add normalized relevent features as a test sample\n",
        "encoder_input = np.asarray(encoder_input, dtype='float')\n",
        "decoder_output = np.asarray(decoder_output, dtype='float')\n",
        "plt.plot(predict_sequence(encoder_input)[:,:,0].flatten())\n",
        "plt.plot(decoder_output[:,:,0].flatten())\n",
        "plt.xlabel('Days')\n",
        "plt.ylabel('Log - Normalized Hits')\n",
        "plt.legend(['pred','target'])"
      ],
      "execution_count": 0,
      "outputs": [
        {
          "output_type": "execute_result",
          "data": {
            "text/plain": [
              "<matplotlib.legend.Legend at 0x7f72f050ab38>"
            ]
          },
          "metadata": {
            "tags": []
          },
          "execution_count": 35
        },
        {
          "output_type": "display_data",
          "data": {
            "image/png": "[encoded data removed]",
            "text/plain": [
              "<Figure size 720x576 with 1 Axes>"
            ]
          },
          "metadata": {
            "tags": []
          }
        }
      ]
    },
    {
      "metadata": {
        "id": "ZPMVvcdphyOo",
        "colab_type": "code",
        "colab": {}
      },
      "cell_type": "code",
      "source": [
        "model.save('drive/My Drive/opt_reshaped_simple_conv_with_portals.h5')"
      ],
      "execution_count": 0,
      "outputs": []
    },
    {
      "metadata": {
        "id": "85fgnHlZ_jFG",
        "colab_type": "code",
        "outputId": "fe633047-9deb-41d9-f395-2c84e945b832",
        "colab": {
          "base_uri": "https://localhost:8080/",
          "height": 34
        }
      },
      "cell_type": "code",
      "source": [
        "model.predict(encoder_input).shape"
      ],
      "execution_count": 0,
      "outputs": [
        {
          "output_type": "execute_result",
          "data": {
            "text/plain": [
              "(27, 7, 11)"
            ]
          },
          "metadata": {
            "tags": []
          },
          "execution_count": 22
        }
      ]
    },
    {
      "metadata": {
        "id": "1UH1p5hGWmKP",
        "colab_type": "code",
        "outputId": "8d316b55-45d9-4edc-b7c7-9153d1648e42",
        "colab": {
          "base_uri": "https://localhost:8080/",
          "height": 34
        }
      },
      "cell_type": "code",
      "source": [
        "history.history['loss']"
      ],
      "execution_count": 0,
      "outputs": [
        {
          "output_type": "execute_result",
          "data": {
            "text/plain": [
              "[0.004321963630078477]"
            ]
          },
          "metadata": {
            "tags": []
          },
          "execution_count": 27
        }
      ]
    },
    {
      "metadata": {
        "id": "9h75i7bclAd_",
        "colab_type": "code",
        "outputId": "c0b9f4e7-04f0-4c79-c6bf-b31016a16f02",
        "colab": {
          "base_uri": "https://localhost:8080/",
          "height": 751
        }
      },
      "cell_type": "code",
      "source": [
        "model = load_model('drive/My Drive/opt_reshaped_simple_conv_with_portals.h5')\n",
        "model.summary()"
      ],
      "execution_count": 0,
      "outputs": [
        {
          "output_type": "stream",
          "text": [
            "WARNING:tensorflow:From /usr/local/lib/python3.6/dist-packages/tensorflow/python/framework/op_def_library.py:263: colocate_with (from tensorflow.python.framework.ops) is deprecated and will be removed in a future version.\n",
            "Instructions for updating:\n",
            "Colocations handled automatically by placer.\n",
            "WARNING:tensorflow:From /usr/local/lib/python3.6/dist-packages/keras/backend/tensorflow_backend.py:3445: calling dropout (from tensorflow.python.ops.nn_ops) with keep_prob is deprecated and will be removed in a future version.\n",
            "Instructions for updating:\n",
            "Please use `rate` instead of `keep_prob`. Rate should be set to `rate = 1 - keep_prob`.\n",
            "WARNING:tensorflow:From /usr/local/lib/python3.6/dist-packages/tensorflow/python/ops/math_ops.py:3066: to_int32 (from tensorflow.python.ops.math_ops) is deprecated and will be removed in a future version.\n",
            "Instructions for updating:\n",
            "Use tf.cast instead.\n",
            "_________________________________________________________________\n",
            "Layer (type)                 Output Shape              Param #   \n",
            "=================================================================\n",
            "input_1 (InputLayer)         (None, None, 11)          0         \n",
            "_________________________________________________________________\n",
            "conv1d_1 (Conv1D)            (None, None, 32)          736       \n",
            "_________________________________________________________________\n",
            "conv1d_2 (Conv1D)            (None, None, 32)          2080      \n",
            "_________________________________________________________________\n",
            "conv1d_3 (Conv1D)            (None, None, 32)          2080      \n",
            "_________________________________________________________________\n",
            "conv1d_4 (Conv1D)            (None, None, 32)          2080      \n",
            "_________________________________________________________________\n",
            "conv1d_5 (Conv1D)            (None, None, 32)          2080      \n",
            "_________________________________________________________________\n",
            "conv1d_6 (Conv1D)            (None, None, 32)          2080      \n",
            "_________________________________________________________________\n",
            "conv1d_7 (Conv1D)            (None, None, 32)          2080      \n",
            "_________________________________________________________________\n",
            "conv1d_8 (Conv1D)            (None, None, 32)          2080      \n",
            "_________________________________________________________________\n",
            "dense_1 (Dense)              (None, None, 128)         4224      \n",
            "_________________________________________________________________\n",
            "dropout_1 (Dropout)          (None, None, 128)         0         \n",
            "_________________________________________________________________\n",
            "dense_2 (Dense)              (None, None, 11)          1419      \n",
            "_________________________________________________________________\n",
            "lambda_1 (Lambda)            (None, None, 11)          0         \n",
            "=================================================================\n",
            "Total params: 20,939\n",
            "Trainable params: 20,939\n",
            "Non-trainable params: 0\n",
            "_________________________________________________________________\n"
          ],
          "name": "stdout"
        }
      ]
    },
    {
      "metadata": {
        "id": "ZfkFQDpVdcSU",
        "colab_type": "code",
        "colab": {}
      },
      "cell_type": "code",
      "source": [
        ""
      ],
      "execution_count": 0,
      "outputs": []
    }
  ]
}