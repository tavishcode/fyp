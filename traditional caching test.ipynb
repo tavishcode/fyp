{
 "cells": [
  {
   "cell_type": "code",
   "execution_count": 83,
   "metadata": {},
   "outputs": [],
   "source": [
    "import pandas as pd\n",
    "from matplotlib import pyplot as plt\n",
    "import numpy as np\n",
    "from keras.models import Sequential, Model\n",
    "from keras.layers import Input, Activation, GRU, Dense\n",
    "from sklearn.metrics import mean_squared_error as mse\n",
    "from sklearn.preprocessing import scale, StandardScaler, RobustScaler\n",
    "from collections import OrderedDict, defaultdict, Counter\n",
    "plt.rcParams['figure.figsize'] = [10, 8]"
   ]
  },
  {
   "cell_type": "markdown",
   "metadata": {},
   "source": [
    "### Traditional Caching Algorithms"
   ]
  },
  {
   "cell_type": "markdown",
   "metadata": {},
   "source": [
    "### LRU"
   ]
  },
  {
   "cell_type": "code",
   "execution_count": 84,
   "metadata": {},
   "outputs": [],
   "source": [
    "class LruContentStore():\n",
    "    def __init__(self, size):\n",
    "        self.size = size\n",
    "        self.store = OrderedDict()\n",
    "        self.hits = 0\n",
    "        self.misses = 0\n",
    "\n",
    "    def add(self, item):\n",
    "        if self.size:\n",
    "            if(len(self.store) == self.size):\n",
    "                self.store.popitem(last=False)\n",
    "            self.store[item] = item\n",
    "\n",
    "    def get(self, item):\n",
    "        try:\n",
    "            cached_item = self.store.pop(item)\n",
    "            self.store[item] = cached_item\n",
    "            self.hits += 1\n",
    "            return cached_item\n",
    "        except:\n",
    "            self.misses += 1\n",
    "            return None\n",
    "    \n",
    "    def refresh(self):\n",
    "        pass"
   ]
  },
  {
   "cell_type": "markdown",
   "metadata": {},
   "source": [
    "### LFU"
   ]
  },
  {
   "cell_type": "code",
   "execution_count": 85,
   "metadata": {},
   "outputs": [],
   "source": [
    "class LfuContentStore():\n",
    "    def __init__(self, size):\n",
    "        self.size = size\n",
    "        self.store = {} # {'name', [item, freq]}\n",
    "        self.hits = 0\n",
    "        self.misses = 0\n",
    "    \n",
    "    def add(self, item):\n",
    "        if self.size:\n",
    "            if len(self.store) == self.size:\n",
    "                min_key = None\n",
    "                min_freq = None\n",
    "                for key in self.store.keys():\n",
    "                    if min_freq == None or self.store[key][1] < min_freq:\n",
    "                        min_freq = self.store[key][1]\n",
    "                        min_key = key\n",
    "                self.store.pop(min_key)\n",
    "            self.store[item] = [item, 1]\n",
    "\n",
    "    def get(self, item):\n",
    "        try:\n",
    "            cached_item = self.store[item][0]\n",
    "            self.store[item][1] += 1\n",
    "            self.hits += 1\n",
    "            return cached_item\n",
    "        except:\n",
    "            self.misses += 1\n",
    "            return None\n",
    "    \n",
    "    def refresh(self):\n",
    "        pass"
   ]
  },
  {
   "cell_type": "markdown",
   "metadata": {},
   "source": [
    "### Random"
   ]
  },
  {
   "cell_type": "code",
   "execution_count": 86,
   "metadata": {},
   "outputs": [],
   "source": [
    "class RandomContentStore():\n",
    "    def __init__(self, size):\n",
    "        self.rng = np.random.RandomState(123)\n",
    "        self.size = size\n",
    "        self.store = {}\n",
    "        self.hits = 0\n",
    "        self.misses = 0\n",
    "\n",
    "    def add(self, item):\n",
    "        if self.size:\n",
    "            if len(self.store) == self.size:\n",
    "                self.store.pop(self.rng.choice(list(self.store.keys())))\n",
    "            self.store[item] = item\n",
    "    \n",
    "    def get(self, item):\n",
    "        try:\n",
    "            cached_item = self.store[item]\n",
    "            self.hits += 1\n",
    "            return cached_item\n",
    "        except:\n",
    "            self.misses += 1\n",
    "            return None\n",
    "    \n",
    "    def refresh(self):\n",
    "        pass"
   ]
  },
  {
   "cell_type": "markdown",
   "metadata": {},
   "source": [
    "### Rolling Moving Average"
   ]
  },
  {
   "cell_type": "code",
   "execution_count": 87,
   "metadata": {},
   "outputs": [],
   "source": [
    "class RMAContentStore():\n",
    "    def __init__(self, size):\n",
    "        self.size = size\n",
    "        self.store = {}\n",
    "        self.hits = 0\n",
    "        self.misses = 0\n",
    "        self.history = {}\n",
    "        self.ranking = defaultdict(int)\n",
    "        self.alpha = 0.1\n",
    "        self.interval_count = 0\n",
    "        self.window = 7\n",
    "        \n",
    "    def add(self, item):\n",
    "        if item not in self.history:\n",
    "            self.history[item] = [0 for _ in range(self.window)]\n",
    "        self.history[item][self.interval_count % 7] += 1\n",
    "        if self.size:\n",
    "            if len(self.store) == self.size:\n",
    "                min_key, min_rank = self.get_min()\n",
    "                if min_rank != None and min_rank < self.ranking[item]:\n",
    "                    self.store.pop(min_key)\n",
    "                    self.store[item] = item\n",
    "            else:\n",
    "                self.store[item] = item\n",
    "    \n",
    "    def get_min(self):\n",
    "        min_key = None\n",
    "        min_rank = None\n",
    "        for key in self.ranking.keys():\n",
    "            if min_key == None or self.ranking[key] < min_rank:\n",
    "                min_rank = self.ranking[key]\n",
    "                min_key = key\n",
    "        return min_key, min_rank\n",
    "    \n",
    "    def refresh(self):\n",
    "        self.interval_count += 1\n",
    "        for key in self.ranking.keys():\n",
    "            self.ranking[key] = sum(self.history[key])/min(self.interval_count, self.window)\n",
    "        \n",
    "    def get(self, item):\n",
    "        try:\n",
    "            cached_item = self.store[item]\n",
    "            self.hits += 1\n",
    "            return cached_item\n",
    "        except:\n",
    "            self.misses += 1\n",
    "            return None"
   ]
  },
  {
   "cell_type": "markdown",
   "metadata": {},
   "source": [
    "### Exponential Moving Average"
   ]
  },
  {
   "cell_type": "code",
   "execution_count": 88,
   "metadata": {},
   "outputs": [],
   "source": [
    "class EMAContentStore():\n",
    "    def __init__(self, size):\n",
    "        self.size = size\n",
    "        self.store = {}\n",
    "        self.hits = 0\n",
    "        self.misses = 0\n",
    "        self.history = defaultdict(int)\n",
    "        self.ranking = defaultdict(int)\n",
    "        self.alpha = 0.1\n",
    "        \n",
    "    def add(self, item):\n",
    "        self.history[item] += 1\n",
    "        if self.size:\n",
    "            if len(self.store) == self.size:\n",
    "                min_key, min_rank = self.get_min()\n",
    "                if min_rank != None and min_rank < self.ranking[item]:\n",
    "                    self.store.pop(min_key)\n",
    "                    self.store[item] = item\n",
    "            else:\n",
    "                self.store[item] = item\n",
    "    \n",
    "    def get_min(self):\n",
    "        min_key = None\n",
    "        min_rank = None\n",
    "        for key in self.ranking.keys():\n",
    "            if min_key == None or self.ranking[key] < min_rank:\n",
    "                min_rank = self.ranking[key]\n",
    "                min_key = key\n",
    "        return min_key, min_rank\n",
    "    \n",
    "    def refresh(self):\n",
    "        for key in self.ranking.keys():\n",
    "            self.ranking[key] = self.ranking[key] + self.alpha*(self.history[key]-self.ranking[key])\n",
    "        self.history = defaultdict(int)\n",
    "        \n",
    "    def get(self, item):\n",
    "        try:\n",
    "            cached_item = self.store[item]\n",
    "            self.hits += 1\n",
    "            return cached_item\n",
    "        except:\n",
    "            self.misses += 1\n",
    "            return None"
   ]
  },
  {
   "cell_type": "markdown",
   "metadata": {},
   "source": [
    "### One-day Lookback"
   ]
  },
  {
   "cell_type": "code",
   "execution_count": 90,
   "metadata": {},
   "outputs": [],
   "source": [
    "class ODContentStore():\n",
    "    def __init__(self, size):\n",
    "        self.size = size\n",
    "        self.store = {}\n",
    "        self.hits = 0\n",
    "        self.misses = 0\n",
    "        self.history = defaultdict(int)\n",
    "        self.ranking = {}\n",
    "        \n",
    "    def add(self, item):\n",
    "        self.history[item] += 1\n",
    "        if self.size:\n",
    "            if len(self.store) == self.size:\n",
    "                min_key, min_rank = self.get_min()\n",
    "                if min_rank != None and min_rank < self.ranking[item]:\n",
    "                    self.store.pop(min_key)\n",
    "                    self.store[item] = item\n",
    "            else:\n",
    "                 self.store[item] = item\n",
    "\n",
    "    def get_min(self):\n",
    "        min_key = None\n",
    "        min_rank = None\n",
    "        for key in self.ranking.keys():\n",
    "            if min_key == None or self.ranking[key] < min_rank:\n",
    "                min_rank = self.ranking[key]\n",
    "                min_key = key\n",
    "        return min_key, min_rank\n",
    "                    \n",
    "    def refresh(self):\n",
    "        self.ranking = self.history.copy()\n",
    "        self.history = defaultdict(int)\n",
    "        \n",
    "    def get(self, item):\n",
    "        try:\n",
    "            cached_item = self.store[item]\n",
    "            self.hits += 1\n",
    "            return cached_item\n",
    "        except:\n",
    "            self.misses += 1\n",
    "            return None"
   ]
  },
  {
   "cell_type": "markdown",
   "metadata": {},
   "source": [
    "### Init Content Stores"
   ]
  },
  {
   "cell_type": "code",
   "execution_count": 100,
   "metadata": {},
   "outputs": [],
   "source": [
    "cache_size = int(0.01 * test_set.shape[0])\n",
    "lru = LruContentStore(cache_size)\n",
    "lfu  = LfuContentStore(cache_size)\n",
    "rand = RandomContentStore(cache_size)\n",
    "rma = RMAContentStore(cache_size)\n",
    "ema = EMAContentStore(cache_size)\n",
    "od = ODContentStore(cache_size)\n",
    "cses = [lru, lfu, rand, rma, ema, od]"
   ]
  },
  {
   "cell_type": "markdown",
   "metadata": {},
   "source": [
    "### Initialize Statistical Baselines with Training Set"
   ]
  },
  {
   "cell_type": "code",
   "execution_count": 101,
   "metadata": {},
   "outputs": [],
   "source": [
    "train_set = np.load('train_set.npy')"
   ]
  },
  {
   "cell_type": "code",
   "execution_count": 102,
   "metadata": {},
   "outputs": [],
   "source": [
    "# initialize OD with training data\n",
    "yesterday = train_set[:, -1, 0]\n",
    "for i, val in enumerate(yesterday):\n",
    "    od.ranking[i] = val"
   ]
  },
  {
   "cell_type": "code",
   "execution_count": 103,
   "metadata": {},
   "outputs": [],
   "source": [
    "# initialize SMA with training data\n",
    "last_week = train_set[:, -7:, 0]\n",
    "last_week_avg = np.mean(last_week, axis=1)\n",
    "for i, val in enumerate(last_week_avg):\n",
    "    rma.ranking[i] = val"
   ]
  },
  {
   "cell_type": "code",
   "execution_count": 104,
   "metadata": {},
   "outputs": [],
   "source": [
    "# initialize EMA with training data\n",
    "history = train_set[:, :, 0]\n",
    "for i in range(history.shape[0]):\n",
    "    ema.ranking[i] = history[i, 0]\n",
    "for i in range(1, history.shape[1]):\n",
    "    recent_history = history[:, i]\n",
    "    for j in range(history.shape[0]): \n",
    "        ema.ranking[j] = ema.ranking[j] + ema.alpha*(ema.ranking[j]-recent_history[j])"
   ]
  },
  {
   "cell_type": "markdown",
   "metadata": {},
   "source": [
    "### Run Tests with Test Set"
   ]
  },
  {
   "cell_type": "code",
   "execution_count": 105,
   "metadata": {},
   "outputs": [],
   "source": [
    "test_set = np.load('test_set.npy')"
   ]
  },
  {
   "cell_type": "code",
   "execution_count": 106,
   "metadata": {},
   "outputs": [
    {
     "name": "stdout",
     "output_type": "stream",
     "text": [
      "0.3692767690443395\n"
     ]
    },
    {
     "ename": "KeyboardInterrupt",
     "evalue": "",
     "output_type": "error",
     "traceback": [
      "\u001b[0;31m---------------------------------------------------------------------------\u001b[0m",
      "\u001b[0;31mKeyboardInterrupt\u001b[0m                         Traceback (most recent call last)",
      "\u001b[0;32m<ipython-input-106-c26db9f2b2ed>\u001b[0m in \u001b[0;36m<module>\u001b[0;34m()\u001b[0m\n\u001b[1;32m     10\u001b[0m         \u001b[0;32mfor\u001b[0m \u001b[0mreq\u001b[0m \u001b[0;32min\u001b[0m \u001b[0mflat_daily_reqs\u001b[0m\u001b[0;34m:\u001b[0m\u001b[0;34m\u001b[0m\u001b[0m\n\u001b[1;32m     11\u001b[0m             \u001b[0;32mif\u001b[0m \u001b[0mcs\u001b[0m\u001b[0;34m.\u001b[0m\u001b[0mget\u001b[0m\u001b[0;34m(\u001b[0m\u001b[0mreq\u001b[0m\u001b[0;34m)\u001b[0m \u001b[0;34m==\u001b[0m \u001b[0;32mNone\u001b[0m\u001b[0;34m:\u001b[0m\u001b[0;34m\u001b[0m\u001b[0m\n\u001b[0;32m---> 12\u001b[0;31m                 \u001b[0mcs\u001b[0m\u001b[0;34m.\u001b[0m\u001b[0madd\u001b[0m\u001b[0;34m(\u001b[0m\u001b[0mreq\u001b[0m\u001b[0;34m)\u001b[0m\u001b[0;34m\u001b[0m\u001b[0m\n\u001b[0m\u001b[1;32m     13\u001b[0m     \u001b[0mprint\u001b[0m\u001b[0;34m(\u001b[0m\u001b[0mcs\u001b[0m\u001b[0;34m.\u001b[0m\u001b[0mhits\u001b[0m\u001b[0;34m/\u001b[0m\u001b[0;34m(\u001b[0m\u001b[0mcs\u001b[0m\u001b[0;34m.\u001b[0m\u001b[0mhits\u001b[0m\u001b[0;34m+\u001b[0m\u001b[0mcs\u001b[0m\u001b[0;34m.\u001b[0m\u001b[0mmisses\u001b[0m\u001b[0;34m)\u001b[0m\u001b[0;34m)\u001b[0m\u001b[0;34m\u001b[0m\u001b[0m\n",
      "\u001b[0;32m<ipython-input-85-e554170a6690>\u001b[0m in \u001b[0;36madd\u001b[0;34m(self, item)\u001b[0m\n\u001b[1;32m     12\u001b[0m                 \u001b[0mmin_freq\u001b[0m \u001b[0;34m=\u001b[0m \u001b[0;32mNone\u001b[0m\u001b[0;34m\u001b[0m\u001b[0m\n\u001b[1;32m     13\u001b[0m                 \u001b[0;32mfor\u001b[0m \u001b[0mkey\u001b[0m \u001b[0;32min\u001b[0m \u001b[0mself\u001b[0m\u001b[0;34m.\u001b[0m\u001b[0mstore\u001b[0m\u001b[0;34m.\u001b[0m\u001b[0mkeys\u001b[0m\u001b[0;34m(\u001b[0m\u001b[0;34m)\u001b[0m\u001b[0;34m:\u001b[0m\u001b[0;34m\u001b[0m\u001b[0m\n\u001b[0;32m---> 14\u001b[0;31m                     \u001b[0;32mif\u001b[0m \u001b[0mmin_freq\u001b[0m \u001b[0;34m==\u001b[0m \u001b[0;32mNone\u001b[0m \u001b[0;32mor\u001b[0m \u001b[0mself\u001b[0m\u001b[0;34m.\u001b[0m\u001b[0mstore\u001b[0m\u001b[0;34m[\u001b[0m\u001b[0mkey\u001b[0m\u001b[0;34m]\u001b[0m\u001b[0;34m[\u001b[0m\u001b[0;36m1\u001b[0m\u001b[0;34m]\u001b[0m \u001b[0;34m<\u001b[0m \u001b[0mmin_freq\u001b[0m\u001b[0;34m:\u001b[0m\u001b[0;34m\u001b[0m\u001b[0m\n\u001b[0m\u001b[1;32m     15\u001b[0m                         \u001b[0mmin_freq\u001b[0m \u001b[0;34m=\u001b[0m \u001b[0mself\u001b[0m\u001b[0;34m.\u001b[0m\u001b[0mstore\u001b[0m\u001b[0;34m[\u001b[0m\u001b[0mkey\u001b[0m\u001b[0;34m]\u001b[0m\u001b[0;34m[\u001b[0m\u001b[0;36m1\u001b[0m\u001b[0;34m]\u001b[0m\u001b[0;34m\u001b[0m\u001b[0m\n\u001b[1;32m     16\u001b[0m                         \u001b[0mmin_key\u001b[0m \u001b[0;34m=\u001b[0m \u001b[0mkey\u001b[0m\u001b[0;34m\u001b[0m\u001b[0m\n",
      "\u001b[0;31mKeyboardInterrupt\u001b[0m: "
     ]
    }
   ],
   "source": [
    "seed = 123\n",
    "for cs in cses:\n",
    "    np.random.seed(123)\n",
    "    for i in range(test_set.shape[1]):\n",
    "        daily_reqs = test_set[:, i, 0]\n",
    "        flat_daily_reqs = np.repeat(np.arange(test_set.shape[0], dtype='float'), \n",
    "                                    daily_reqs.astype('int'), \n",
    "                                    axis=0)\n",
    "        np.random.shuffle(flat_daily_reqs)\n",
    "        for req in flat_daily_reqs:\n",
    "            if cs.get(req) == None:\n",
    "                cs.add(req)\n",
    "    print(cs.hits/(cs.hits+cs.misses))"
   ]
  },
  {
   "cell_type": "code",
   "execution_count": null,
   "metadata": {},
   "outputs": [],
   "source": []
  }
 ],
 "metadata": {
  "kernelspec": {
   "display_name": "Python 3",
   "language": "python",
   "name": "python3"
  },
  "language_info": {
   "codemirror_mode": {
    "name": "ipython",
    "version": 3
   },
   "file_extension": ".py",
   "mimetype": "text/x-python",
   "name": "python",
   "nbconvert_exporter": "python",
   "pygments_lexer": "ipython3",
   "version": "3.5.5"
  }
 },
 "nbformat": 4,
 "nbformat_minor": 2
}
