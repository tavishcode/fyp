{
  "nbformat": 4,
  "nbformat_minor": 0,
  "metadata": {
    "colab": {
      "name": "make_train_and_test_sets.ipynb",
      "version": "0.3.2",
      "provenance": [],
      "collapsed_sections": [],
      "include_colab_link": true
    },
    "kernelspec": {
      "name": "python3",
      "display_name": "Python 3"
    }
  },
  "cells": [
    {
      "cell_type": "markdown",
      "metadata": {
        "id": "view-in-github",
        "colab_type": "text"
      },
      "source": [
        "<a href=\"https://colab.research.google.com/github/tavishcode/fyp/blob/master/make_train_and_test_sets.ipynb\" target=\"_parent\"><img src=\"https://colab.research.google.com/assets/colab-badge.svg\" alt=\"Open In Colab\"/></a>"
      ]
    },
    {
      "metadata": {
        "id": "quKor77Jxtre",
        "colab_type": "code",
        "outputId": "6e96e29a-65eb-4317-d715-97d80e3d6c49",
        "colab": {
          "base_uri": "https://localhost:8080/",
          "height": 51
        }
      },
      "cell_type": "code",
      "source": [
        "import pandas as pd\n",
        "from matplotlib import pyplot as plt\n",
        "import numpy as np\n",
        "from keras.models import Sequential, Model\n",
        "from keras.layers import Input, Activation, CuDNNGRU, GRU, Dense\n",
        "from sklearn.metrics import mean_squared_error as mse\n",
        "from sklearn.preprocessing import scale, StandardScaler, RobustScaler\n",
        "from collections import OrderedDict, defaultdict\n",
        "from google.colab import drive\n",
        "from datetime import datetime\n",
        "drive.mount('/content/drive')\n",
        "plt.rcParams['figure.figsize'] = [10, 8]"
      ],
      "execution_count": 1,
      "outputs": [
        {
          "output_type": "stream",
          "text": [
            "Using TensorFlow backend.\n"
          ],
          "name": "stderr"
        },
        {
          "output_type": "stream",
          "text": [
            "Drive already mounted at /content/drive; to attempt to forcibly remount, call drive.mount(\"/content/drive\", force_remount=True).\n"
          ],
          "name": "stdout"
        }
      ]
    },
    {
      "metadata": {
        "id": "vk1p21OYxz91",
        "colab_type": "code",
        "colab": {}
      },
      "cell_type": "code",
      "source": [
        "train_start = 0\n",
        "train_end = 100\n",
        "test_start = train_end\n",
        "test_end = test_start + 100\n",
        "ds = np.load('drive/My Drive/rescaled_dataset.npy')\n",
        "train = ds[:, train_start:train_end]\n",
        "test = ds[:, test_start:test_end]"
      ],
      "execution_count": 0,
      "outputs": []
    },
    {
      "metadata": {
        "id": "ZO2uZ-6fjA1t",
        "colab_type": "code",
        "colab": {
          "base_uri": "https://localhost:8080/",
          "height": 34
        },
        "outputId": "85a3d176-481c-46d1-9337-523d5593f11f"
      },
      "cell_type": "code",
      "source": [
        "train.shape"
      ],
      "execution_count": 15,
      "outputs": [
        {
          "output_type": "execute_result",
          "data": {
            "text/plain": [
              "(27222, 100)"
            ]
          },
          "metadata": {
            "tags": []
          },
          "execution_count": 15
        }
      ]
    },
    {
      "metadata": {
        "id": "gYMCWHd4lzhX",
        "colab_type": "code",
        "colab": {
          "base_uri": "https://localhost:8080/",
          "height": 34
        },
        "outputId": "3d7d6319-7997-4ee0-f804-60aad021f3e4"
      },
      "cell_type": "code",
      "source": [
        "test.shape"
      ],
      "execution_count": 16,
      "outputs": [
        {
          "output_type": "execute_result",
          "data": {
            "text/plain": [
              "(27222, 100)"
            ]
          },
          "metadata": {
            "tags": []
          },
          "execution_count": 16
        }
      ]
    },
    {
      "metadata": {
        "id": "escF_Uwko8sr",
        "colab_type": "code",
        "outputId": "4dbfc888-528a-4bff-e4bf-da594c2a943b",
        "colab": {
          "base_uri": "https://localhost:8080/",
          "height": 119
        }
      },
      "cell_type": "code",
      "source": [
        "# Making date features\n",
        "df = pd.read_csv('drive/My Drive/train_2.csv', nrows=1)\n",
        "df.columns"
      ],
      "execution_count": 23,
      "outputs": [
        {
          "output_type": "execute_result",
          "data": {
            "text/plain": [
              "Index(['Page', '2015-07-01', '2015-07-02', '2015-07-03', '2015-07-04',\n",
              "       '2015-07-05', '2015-07-06', '2015-07-07', '2015-07-08', '2015-07-09',\n",
              "       ...\n",
              "       '2017-09-01', '2017-09-02', '2017-09-03', '2017-09-04', '2017-09-05',\n",
              "       '2017-09-06', '2017-09-07', '2017-09-08', '2017-09-09', '2017-09-10'],\n",
              "      dtype='object', length=804)"
            ]
          },
          "metadata": {
            "tags": []
          },
          "execution_count": 23
        }
      ]
    },
    {
      "metadata": {
        "id": "lHb5i56xqS2D",
        "colab_type": "code",
        "colab": {}
      },
      "cell_type": "code",
      "source": [
        "dates = df.columns.values[1:]\n",
        "dts = []\n",
        "for date in dates:\n",
        "  dt = datetime.strptime(date, '%Y-%m-%d')\n",
        "  # [year, month, day, weekday, is_weekend]\n",
        "  dts.append([dt.year, dt.month, dt.day, dt.weekday(), \n",
        "              int(dt.weekday()//5 == 1)])"
      ],
      "execution_count": 0,
      "outputs": []
    },
    {
      "metadata": {
        "id": "l0Ea5JdKoEe7",
        "colab_type": "code",
        "colab": {
          "base_uri": "https://localhost:8080/",
          "height": 34
        },
        "outputId": "a26c720a-596d-43f8-b146-29af428cf5c2"
      },
      "cell_type": "code",
      "source": [
        "len(dts)"
      ],
      "execution_count": 26,
      "outputs": [
        {
          "output_type": "execute_result",
          "data": {
            "text/plain": [
              "803"
            ]
          },
          "metadata": {
            "tags": []
          },
          "execution_count": 26
        }
      ]
    },
    {
      "metadata": {
        "id": "Wz1pDTWbpFrI",
        "colab_type": "code",
        "colab": {
          "base_uri": "https://localhost:8080/",
          "height": 51
        },
        "outputId": "f43fd8e6-c564-4a6a-a886-341fd451c5f7"
      },
      "cell_type": "code",
      "source": [
        "num_features = 1 + 5 + 3\n",
        "train_set = np.zeros((train.shape[0], train.shape[1], num_features))\n",
        "test_set = np.zeros((test.shape[0], test.shape[1], num_features))\n",
        "for i in range(train.shape[0]):\n",
        "  x_train = np.column_stack(( train[i], \n",
        "                              dts[train_start:train_end], \n",
        "                              np.full((train.shape[1]),np.sum(train[i])), \n",
        "                              np.full((train.shape[1]),np.median(train[i])),\n",
        "                              np.full((train.shape[1]),np.std(train[i]))))\n",
        "  x_test = np.column_stack((  test[i], \n",
        "                              dts[test_start:test_end], \n",
        "                              np.full((test.shape[1]),np.sum(train[i])), \n",
        "                              np.full((test.shape[1]),np.median(train[i])),\n",
        "                              np.full((test.shape[1]),np.std(train[i]))))\n",
        "  train_set[i, :, :] = x_train\n",
        "  test_set[i, :, :] = x_test \n",
        "print(train_set.shape)\n",
        "print(test_set.shape)"
      ],
      "execution_count": 27,
      "outputs": [
        {
          "output_type": "stream",
          "text": [
            "(27222, 100, 9)\n",
            "(27222, 100, 9)\n"
          ],
          "name": "stdout"
        }
      ]
    },
    {
      "metadata": {
        "id": "K1m3gi7It0Sk",
        "colab_type": "code",
        "colab": {}
      },
      "cell_type": "code",
      "source": [
        "np.save('train_set.npy', train_set)\n",
        "np.save('test_set.npy', test_set)"
      ],
      "execution_count": 0,
      "outputs": []
    },
    {
      "metadata": {
        "id": "spwkocWfuOLN",
        "colab_type": "code",
        "colab": {}
      },
      "cell_type": "code",
      "source": [
        ""
      ],
      "execution_count": 0,
      "outputs": []
    }
  ]
}