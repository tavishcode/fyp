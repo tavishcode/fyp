{
  "nbformat": 4,
  "nbformat_minor": 0,
  "metadata": {
    "colab": {
      "name": "clean_dataset.ipynb",
      "version": "0.3.2",
      "provenance": [],
      "collapsed_sections": [],
      "include_colab_link": true
    },
    "kernelspec": {
      "name": "python3",
      "display_name": "Python 3"
    }
  },
  "cells": [
    {
      "cell_type": "markdown",
      "metadata": {
        "id": "view-in-github",
        "colab_type": "text"
      },
      "source": [
        "<a href=\"https://colab.research.google.com/github/tavishcode/fyp/blob/master/clean_dataset.ipynb\" target=\"_parent\"><img src=\"https://colab.research.google.com/assets/colab-badge.svg\" alt=\"Open In Colab\"/></a>"
      ]
    },
    {
      "metadata": {
        "id": "ZtEmgeD0BB3E",
        "colab_type": "code",
        "colab": {}
      },
      "cell_type": "code",
      "source": [
        "import pandas as pd\n",
        "import numpy as np\n",
        "from sklearn.compose import ColumnTransformer\n",
        "from sklearn.preprocessing import OneHotEncoder, MinMaxScaler\n",
        "from google.colab import drive\n",
        "from datetime import datetime\n",
        "drive.mount('/content/drive')"
      ],
      "execution_count": 0,
      "outputs": []
    },
    {
      "metadata": {
        "id": "t321YpG6BGYd",
        "colab_type": "code",
        "colab": {}
      },
      "cell_type": "code",
      "source": [
        "df = pd.read_csv('drive/My Drive/train_1.csv')\n",
        "df.fillna(0, inplace = True)"
      ],
      "execution_count": 0,
      "outputs": []
    },
    {
      "metadata": {
        "id": "bfYlKu4t4nmA",
        "colab_type": "text"
      },
      "cell_type": "markdown",
      "source": [
        "Processing Categorical Features"
      ]
    },
    {
      "metadata": {
        "id": "7CFFe4oIJGW6",
        "colab_type": "code",
        "colab": {}
      },
      "cell_type": "code",
      "source": [
        "df['Agent'] = df['Page'].str.split('_').str[-1].astype('category')\n",
        "df['Access'] = df['Page'].str.split('_').str[-2].astype('category')\n",
        "df['Type'] = df['Page'].str.split('_').str[-3].astype('category')\n",
        "# df['Title'] = df['Page'].str.split('_').str[:-3].apply('_'.join).astype('category') ignored right now as too large to encode\n",
        "df.drop('Page', axis=1, inplace=True)"
      ],
      "execution_count": 0,
      "outputs": []
    },
    {
      "metadata": {
        "id": "S-DMYTFANlQm",
        "colab_type": "code",
        "colab": {}
      },
      "cell_type": "code",
      "source": [
        "df['Agent'].unique()"
      ],
      "execution_count": 0,
      "outputs": []
    },
    {
      "metadata": {
        "id": "ymFSd4GFP2cR",
        "colab_type": "code",
        "colab": {}
      },
      "cell_type": "code",
      "source": [
        "sampled_df = df.sample(frac=0.05)"
      ],
      "execution_count": 0,
      "outputs": []
    },
    {
      "metadata": {
        "id": "7MdoWaJ2Qdp7",
        "colab_type": "code",
        "colab": {}
      },
      "cell_type": "code",
      "source": [
        "# One Hot Encoding of categorical features (Agent, Access, Type, Title)"
      ],
      "execution_count": 0,
      "outputs": []
    },
    {
      "metadata": {
        "id": "veBPb2cm9egr",
        "colab_type": "code",
        "colab": {}
      },
      "cell_type": "code",
      "source": [
        "train_start = 0\n",
        "train_end = 100\n",
        "val_start = train_end\n",
        "val_end = val_start + 100\n",
        "test_start = val_end\n",
        "test_end = test_start + 100"
      ],
      "execution_count": 0,
      "outputs": []
    },
    {
      "metadata": {
        "id": "HKOPE4AdgkR-",
        "colab_type": "code",
        "colab": {}
      },
      "cell_type": "code",
      "source": [
        "dataset_arr = sampled_df.values"
      ],
      "execution_count": 0,
      "outputs": []
    },
    {
      "metadata": {
        "id": "NCGNxLXFg70e",
        "colab_type": "code",
        "colab": {}
      },
      "cell_type": "code",
      "source": [
        "numerical_dataset = dataset_arr[:,:-3]\n",
        "categorical_dataset = dataset_arr[:,-3:]\n",
        "ct = ColumnTransformer(\n",
        "    [('oh_enc', OneHotEncoder(sparse=False), [-1, -2, -3])]\n",
        ")\n",
        "categorical_dataset = ct.fit_transform(dataset_arr)"
      ],
      "execution_count": 0,
      "outputs": []
    },
    {
      "metadata": {
        "id": "10KYtUOA9Kwp",
        "colab_type": "code",
        "colab": {}
      },
      "cell_type": "code",
      "source": [
        "train = numerical_dataset[:,train_start:train_end].astype('float')\n",
        "val = numerical_dataset[:,val_start:val_end].astype('float')\n",
        "test = numerical_dataset[:,test_start:test_end].astype('float')"
      ],
      "execution_count": 0,
      "outputs": []
    },
    {
      "metadata": {
        "id": "YhuemlkB0bKB",
        "colab_type": "code",
        "outputId": "1fc10a8a-339e-4051-b5c3-c3f46830d564",
        "colab": {
          "base_uri": "https://localhost:8080/",
          "height": 255
        }
      },
      "cell_type": "code",
      "source": [
        "ct.get_feature_names()"
      ],
      "execution_count": 0,
      "outputs": [
        {
          "output_type": "execute_result",
          "data": {
            "text/plain": [
              "['oh_enc__x0_commons.wikimedia.org',\n",
              " 'oh_enc__x0_de.wikipedia.org',\n",
              " 'oh_enc__x0_en.wikipedia.org',\n",
              " 'oh_enc__x0_es.wikipedia.org',\n",
              " 'oh_enc__x0_fr.wikipedia.org',\n",
              " 'oh_enc__x0_ja.wikipedia.org',\n",
              " 'oh_enc__x0_ru.wikipedia.org',\n",
              " 'oh_enc__x0_www.mediawiki.org',\n",
              " 'oh_enc__x0_zh.wikipedia.org',\n",
              " 'oh_enc__x1_all-access',\n",
              " 'oh_enc__x1_desktop',\n",
              " 'oh_enc__x1_mobile-web',\n",
              " 'oh_enc__x2_all-agents',\n",
              " 'oh_enc__x2_spider']"
            ]
          },
          "metadata": {
            "tags": []
          },
          "execution_count": 10
        }
      ]
    },
    {
      "metadata": {
        "id": "rU8ndnsM4tts",
        "colab_type": "text"
      },
      "cell_type": "markdown",
      "source": [
        "Processing Date Features"
      ]
    },
    {
      "metadata": {
        "id": "Hhkjs8tW4cv9",
        "colab_type": "code",
        "colab": {}
      },
      "cell_type": "code",
      "source": [
        "dates = sampled_df.columns.values[:-3]\n",
        "date_features = []\n",
        "for date in dates:\n",
        "  dt = datetime.strptime(date, '%Y-%m-%d')\n",
        "  # [month, weekday, is_weekend]\n",
        "  date_features.append([dt.month, dt.weekday(), int(dt.weekday()//5 == 1)])"
      ],
      "execution_count": 0,
      "outputs": []
    },
    {
      "metadata": {
        "id": "F0vqMikYtVjg",
        "colab_type": "code",
        "colab": {}
      },
      "cell_type": "code",
      "source": [
        "# One Hot Encoding of date features"
      ],
      "execution_count": 0,
      "outputs": []
    },
    {
      "metadata": {
        "id": "xPS6F3F-tboU",
        "colab_type": "code",
        "outputId": "62e50e96-6fdd-4f74-d60a-0e1e1d25b48d",
        "colab": {
          "base_uri": "https://localhost:8080/",
          "height": 105
        }
      },
      "cell_type": "code",
      "source": [
        "date_enc = OneHotEncoder(sparse=False)\n",
        "enc_date_features = date_enc.fit_transform(date_features)"
      ],
      "execution_count": 0,
      "outputs": [
        {
          "output_type": "stream",
          "text": [
            "/usr/local/lib/python3.6/dist-packages/sklearn/preprocessing/_encoders.py:371: FutureWarning: The handling of integer data will change in version 0.22. Currently, the categories are determined based on the range [0, max(values)], while in the future they will be determined based on the unique values.\n",
            "If you want the future behaviour and silence this warning, you can specify \"categories='auto'\".\n",
            "In case you used a LabelEncoder before this OneHotEncoder to convert the categories to integers, then you can now use the OneHotEncoder directly.\n",
            "  warnings.warn(msg, FutureWarning)\n"
          ],
          "name": "stderr"
        }
      ]
    },
    {
      "metadata": {
        "id": "AyO-X0Q7tzFK",
        "colab_type": "code",
        "outputId": "a40b13ea-4a98-4867-a30b-2ab696f47d92",
        "colab": {
          "base_uri": "https://localhost:8080/",
          "height": 34
        }
      },
      "cell_type": "code",
      "source": [
        "enc_date_features.shape"
      ],
      "execution_count": 0,
      "outputs": [
        {
          "output_type": "execute_result",
          "data": {
            "text/plain": [
              "(550, 21)"
            ]
          },
          "metadata": {
            "tags": []
          },
          "execution_count": 14
        }
      ]
    },
    {
      "metadata": {
        "id": "pufFMIFjsHS5",
        "colab_type": "text"
      },
      "cell_type": "markdown",
      "source": [
        "Feature Normalization"
      ]
    },
    {
      "metadata": {
        "id": "eiMN569esGfu",
        "colab_type": "code",
        "colab": {}
      },
      "cell_type": "code",
      "source": [
        "scaler = MinMaxScaler()\n",
        "train = scaler.fit_transform(train)\n",
        "val = scaler.transform(val)\n",
        "test = scaler.transform(test)"
      ],
      "execution_count": 0,
      "outputs": []
    },
    {
      "metadata": {
        "id": "Njtnyhw2w0WO",
        "colab_type": "text"
      },
      "cell_type": "markdown",
      "source": [
        "Processing Statistical Features\n"
      ]
    },
    {
      "metadata": {
        "id": "aSOmkl93wxk9",
        "colab_type": "code",
        "colab": {}
      },
      "cell_type": "code",
      "source": [
        "means = np.mean(train, axis=1)\n",
        "medians = np.median(train, axis=1)\n",
        "stds = np.std(train, axis=1)"
      ],
      "execution_count": 0,
      "outputs": []
    },
    {
      "metadata": {
        "id": "Hro8Wjnmmu0Y",
        "colab_type": "text"
      },
      "cell_type": "markdown",
      "source": [
        "Constructing 3D datasets (series, timesteps, features)\n"
      ]
    },
    {
      "metadata": {
        "id": "4tkECKJo7PmL",
        "colab_type": "code",
        "outputId": "713193fd-de2d-459b-8946-14dd3847024d",
        "colab": {
          "base_uri": "https://localhost:8080/",
          "height": 68
        }
      },
      "cell_type": "code",
      "source": [
        "# visit, 21 date features, 14 categorical_features, 3 statistical features\n",
        "num_features = 1 + 21 + 14 + 3\n",
        "train_set = np.zeros((train.shape[0], train.shape[1], num_features))\n",
        "val_set = np.zeros((val.shape[0], val.shape[1], num_features))\n",
        "test_set = np.zeros((test.shape[0], test.shape[1], num_features))\n",
        "for i in range(train.shape[0]):\n",
        "  row_train = np.column_stack((train[i], \n",
        "                              enc_date_features[train_start:train_end],\n",
        "                              np.tile(categorical_dataset[i], \n",
        "                                      (train.shape[1],1)),\n",
        "                              np.full(train.shape[1], means[i]), \n",
        "                              np.full(train.shape[1], medians[i]),\n",
        "                              np.full(train.shape[1], stds[i])))\n",
        "  row_val = np.column_stack(( val[i], \n",
        "                              enc_date_features[train_start:train_end],\n",
        "                              np.tile(categorical_dataset[i], \n",
        "                                      (val.shape[1],1)),\n",
        "                              np.full(val.shape[1], means[i]), \n",
        "                              np.full(val.shape[1], medians[i]),\n",
        "                              np.full(val.shape[1], stds[i])))\n",
        "  row_test = np.column_stack((test[i], \n",
        "                              enc_date_features[train_start:train_end],\n",
        "                              np.tile(categorical_dataset[i], \n",
        "                                      (test.shape[1],1)),\n",
        "                              np.full(test.shape[1], means[i]), \n",
        "                              np.full(test.shape[1], medians[i]),\n",
        "                              np.full(test.shape[1], stds[i])))\n",
        "  train_set[i, :, :] = row_train\n",
        "  val_set[i, :, :] = row_val\n",
        "  test_set[i, :, :] = row_test \n",
        "print(train_set.shape)\n",
        "print(val_set.shape)\n",
        "print(test_set.shape)"
      ],
      "execution_count": 0,
      "outputs": [
        {
          "output_type": "stream",
          "text": [
            "(7253, 100, 39)\n",
            "(7253, 100, 39)\n",
            "(7253, 100, 39)\n"
          ],
          "name": "stdout"
        }
      ]
    },
    {
      "metadata": {
        "id": "GMN70HZRq4HW",
        "colab_type": "code",
        "colab": {}
      },
      "cell_type": "code",
      "source": [
        "# saving arrays\n",
        "np.save('drive/My Drive/train_set2.npy', train_set)\n",
        "np.save('drive/My Drive/val_set2.npy', val_set)\n",
        "np.save('drive/My Drive/test_set2.npy', train_set)"
      ],
      "execution_count": 0,
      "outputs": []
    },
    {
      "metadata": {
        "id": "moptpis8rSAK",
        "colab_type": "code",
        "colab": {}
      },
      "cell_type": "code",
      "source": [
        ""
      ],
      "execution_count": 0,
      "outputs": []
    }
  ]
}