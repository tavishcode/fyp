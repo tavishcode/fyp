{
 "cells": [
  {
   "cell_type": "code",
   "execution_count": 2,
   "metadata": {},
   "outputs": [],
   "source": [
    "import pandas as pd\n",
    "import numpy as np\n",
    "import matplotlib.pyplot as plt\n",
    "%matplotlib inline"
   ]
  },
  {
   "cell_type": "code",
   "execution_count": 3,
   "metadata": {},
   "outputs": [],
   "source": [
    "df = pd.read_csv('wikipedia/web-traffic-time-series-forecasting/train_1.csv')"
   ]
  },
  {
   "cell_type": "code",
   "execution_count": 4,
   "metadata": {},
   "outputs": [
    {
     "data": {
      "text/html": [
       "<div>\n",
       "<style scoped>\n",
       "    .dataframe tbody tr th:only-of-type {\n",
       "        vertical-align: middle;\n",
       "    }\n",
       "\n",
       "    .dataframe tbody tr th {\n",
       "        vertical-align: top;\n",
       "    }\n",
       "\n",
       "    .dataframe thead th {\n",
       "        text-align: right;\n",
       "    }\n",
       "</style>\n",
       "<table border=\"1\" class=\"dataframe\">\n",
       "  <thead>\n",
       "    <tr style=\"text-align: right;\">\n",
       "      <th></th>\n",
       "      <th>Page</th>\n",
       "      <th>2015-07-01</th>\n",
       "      <th>2015-07-02</th>\n",
       "      <th>2015-07-03</th>\n",
       "      <th>2015-07-04</th>\n",
       "      <th>2015-07-05</th>\n",
       "      <th>2015-07-06</th>\n",
       "      <th>2015-07-07</th>\n",
       "      <th>2015-07-08</th>\n",
       "      <th>2015-07-09</th>\n",
       "      <th>...</th>\n",
       "      <th>2016-12-22</th>\n",
       "      <th>2016-12-23</th>\n",
       "      <th>2016-12-24</th>\n",
       "      <th>2016-12-25</th>\n",
       "      <th>2016-12-26</th>\n",
       "      <th>2016-12-27</th>\n",
       "      <th>2016-12-28</th>\n",
       "      <th>2016-12-29</th>\n",
       "      <th>2016-12-30</th>\n",
       "      <th>2016-12-31</th>\n",
       "    </tr>\n",
       "  </thead>\n",
       "  <tbody>\n",
       "    <tr>\n",
       "      <th>0</th>\n",
       "      <td>2NE1_zh.wikipedia.org_all-access_spider</td>\n",
       "      <td>18.0</td>\n",
       "      <td>11.0</td>\n",
       "      <td>5.0</td>\n",
       "      <td>13.0</td>\n",
       "      <td>14.0</td>\n",
       "      <td>9.0</td>\n",
       "      <td>9.0</td>\n",
       "      <td>22.0</td>\n",
       "      <td>26.0</td>\n",
       "      <td>...</td>\n",
       "      <td>32.0</td>\n",
       "      <td>63.0</td>\n",
       "      <td>15.0</td>\n",
       "      <td>26.0</td>\n",
       "      <td>14.0</td>\n",
       "      <td>20.0</td>\n",
       "      <td>22.0</td>\n",
       "      <td>19.0</td>\n",
       "      <td>18.0</td>\n",
       "      <td>20.0</td>\n",
       "    </tr>\n",
       "    <tr>\n",
       "      <th>1</th>\n",
       "      <td>2PM_zh.wikipedia.org_all-access_spider</td>\n",
       "      <td>11.0</td>\n",
       "      <td>14.0</td>\n",
       "      <td>15.0</td>\n",
       "      <td>18.0</td>\n",
       "      <td>11.0</td>\n",
       "      <td>13.0</td>\n",
       "      <td>22.0</td>\n",
       "      <td>11.0</td>\n",
       "      <td>10.0</td>\n",
       "      <td>...</td>\n",
       "      <td>17.0</td>\n",
       "      <td>42.0</td>\n",
       "      <td>28.0</td>\n",
       "      <td>15.0</td>\n",
       "      <td>9.0</td>\n",
       "      <td>30.0</td>\n",
       "      <td>52.0</td>\n",
       "      <td>45.0</td>\n",
       "      <td>26.0</td>\n",
       "      <td>20.0</td>\n",
       "    </tr>\n",
       "    <tr>\n",
       "      <th>2</th>\n",
       "      <td>3C_zh.wikipedia.org_all-access_spider</td>\n",
       "      <td>1.0</td>\n",
       "      <td>0.0</td>\n",
       "      <td>1.0</td>\n",
       "      <td>1.0</td>\n",
       "      <td>0.0</td>\n",
       "      <td>4.0</td>\n",
       "      <td>0.0</td>\n",
       "      <td>3.0</td>\n",
       "      <td>4.0</td>\n",
       "      <td>...</td>\n",
       "      <td>3.0</td>\n",
       "      <td>1.0</td>\n",
       "      <td>1.0</td>\n",
       "      <td>7.0</td>\n",
       "      <td>4.0</td>\n",
       "      <td>4.0</td>\n",
       "      <td>6.0</td>\n",
       "      <td>3.0</td>\n",
       "      <td>4.0</td>\n",
       "      <td>17.0</td>\n",
       "    </tr>\n",
       "    <tr>\n",
       "      <th>3</th>\n",
       "      <td>4minute_zh.wikipedia.org_all-access_spider</td>\n",
       "      <td>35.0</td>\n",
       "      <td>13.0</td>\n",
       "      <td>10.0</td>\n",
       "      <td>94.0</td>\n",
       "      <td>4.0</td>\n",
       "      <td>26.0</td>\n",
       "      <td>14.0</td>\n",
       "      <td>9.0</td>\n",
       "      <td>11.0</td>\n",
       "      <td>...</td>\n",
       "      <td>32.0</td>\n",
       "      <td>10.0</td>\n",
       "      <td>26.0</td>\n",
       "      <td>27.0</td>\n",
       "      <td>16.0</td>\n",
       "      <td>11.0</td>\n",
       "      <td>17.0</td>\n",
       "      <td>19.0</td>\n",
       "      <td>10.0</td>\n",
       "      <td>11.0</td>\n",
       "    </tr>\n",
       "    <tr>\n",
       "      <th>4</th>\n",
       "      <td>52_Hz_I_Love_You_zh.wikipedia.org_all-access_s...</td>\n",
       "      <td>NaN</td>\n",
       "      <td>NaN</td>\n",
       "      <td>NaN</td>\n",
       "      <td>NaN</td>\n",
       "      <td>NaN</td>\n",
       "      <td>NaN</td>\n",
       "      <td>NaN</td>\n",
       "      <td>NaN</td>\n",
       "      <td>NaN</td>\n",
       "      <td>...</td>\n",
       "      <td>48.0</td>\n",
       "      <td>9.0</td>\n",
       "      <td>25.0</td>\n",
       "      <td>13.0</td>\n",
       "      <td>3.0</td>\n",
       "      <td>11.0</td>\n",
       "      <td>27.0</td>\n",
       "      <td>13.0</td>\n",
       "      <td>36.0</td>\n",
       "      <td>10.0</td>\n",
       "    </tr>\n",
       "  </tbody>\n",
       "</table>\n",
       "<p>5 rows × 551 columns</p>\n",
       "</div>"
      ],
      "text/plain": [
       "                                                Page  2015-07-01  2015-07-02  \\\n",
       "0            2NE1_zh.wikipedia.org_all-access_spider        18.0        11.0   \n",
       "1             2PM_zh.wikipedia.org_all-access_spider        11.0        14.0   \n",
       "2              3C_zh.wikipedia.org_all-access_spider         1.0         0.0   \n",
       "3         4minute_zh.wikipedia.org_all-access_spider        35.0        13.0   \n",
       "4  52_Hz_I_Love_You_zh.wikipedia.org_all-access_s...         NaN         NaN   \n",
       "\n",
       "   2015-07-03  2015-07-04  2015-07-05  2015-07-06  2015-07-07  2015-07-08  \\\n",
       "0         5.0        13.0        14.0         9.0         9.0        22.0   \n",
       "1        15.0        18.0        11.0        13.0        22.0        11.0   \n",
       "2         1.0         1.0         0.0         4.0         0.0         3.0   \n",
       "3        10.0        94.0         4.0        26.0        14.0         9.0   \n",
       "4         NaN         NaN         NaN         NaN         NaN         NaN   \n",
       "\n",
       "   2015-07-09     ...      2016-12-22  2016-12-23  2016-12-24  2016-12-25  \\\n",
       "0        26.0     ...            32.0        63.0        15.0        26.0   \n",
       "1        10.0     ...            17.0        42.0        28.0        15.0   \n",
       "2         4.0     ...             3.0         1.0         1.0         7.0   \n",
       "3        11.0     ...            32.0        10.0        26.0        27.0   \n",
       "4         NaN     ...            48.0         9.0        25.0        13.0   \n",
       "\n",
       "   2016-12-26  2016-12-27  2016-12-28  2016-12-29  2016-12-30  2016-12-31  \n",
       "0        14.0        20.0        22.0        19.0        18.0        20.0  \n",
       "1         9.0        30.0        52.0        45.0        26.0        20.0  \n",
       "2         4.0         4.0         6.0         3.0         4.0        17.0  \n",
       "3        16.0        11.0        17.0        19.0        10.0        11.0  \n",
       "4         3.0        11.0        27.0        13.0        36.0        10.0  \n",
       "\n",
       "[5 rows x 551 columns]"
      ]
     },
     "execution_count": 4,
     "metadata": {},
     "output_type": "execute_result"
    }
   ],
   "source": [
    "df.head()"
   ]
  },
  {
   "cell_type": "code",
   "execution_count": 5,
   "metadata": {},
   "outputs": [
    {
     "name": "stdout",
     "output_type": "stream",
     "text": [
      "Data ranges from 2015-07-01 to 2016-12-31\n"
     ]
    }
   ],
   "source": [
    "data_start_date = df.columns[1]\n",
    "data_end_date = df.columns[-1]\n",
    "print('Data ranges from %s to %s' % (data_start_date, data_end_date))"
   ]
  },
  {
   "cell_type": "code",
   "execution_count": 6,
   "metadata": {},
   "outputs": [],
   "source": [
    "from datetime import timedelta\n",
    "\n",
    "pred_steps = 14\n",
    "pred_length=timedelta(pred_steps)\n",
    "\n",
    "first_day = pd.to_datetime(data_start_date) \n",
    "last_day = pd.to_datetime(data_end_date)\n",
    "\n",
    "val_pred_start = last_day - pred_length + timedelta(1)\n",
    "val_pred_end = last_day\n",
    "\n",
    "train_pred_start = val_pred_start - pred_length\n",
    "train_pred_end = val_pred_start - timedelta(days=1)"
   ]
  },
  {
   "cell_type": "code",
   "execution_count": 7,
   "metadata": {},
   "outputs": [],
   "source": [
    "enc_length = train_pred_start - first_day\n",
    "\n",
    "train_enc_start = first_day\n",
    "train_enc_end = train_enc_start + enc_length - timedelta(1)\n",
    "\n",
    "val_enc_start = train_enc_start + pred_length\n",
    "val_enc_end = val_enc_start + enc_length - timedelta(1)"
   ]
  },
  {
   "cell_type": "code",
   "execution_count": 8,
   "metadata": {},
   "outputs": [
    {
     "name": "stdout",
     "output_type": "stream",
     "text": [
      "Train encoding: 2015-07-01 00:00:00 - 2016-12-03 00:00:00\n",
      "Train prediction: 2016-12-04 00:00:00 - 2016-12-17 00:00:00 \n",
      "\n",
      "Val encoding: 2015-07-15 00:00:00 - 2016-12-17 00:00:00\n",
      "Val prediction: 2016-12-18 00:00:00 - 2016-12-31 00:00:00\n",
      "\n",
      "Encoding interval: 522\n",
      "Prediction interval: 14\n"
     ]
    }
   ],
   "source": [
    "print('Train encoding:', train_enc_start, '-', train_enc_end)\n",
    "print('Train prediction:', train_pred_start, '-', train_pred_end, '\\n')\n",
    "print('Val encoding:', val_enc_start, '-', val_enc_end)\n",
    "print('Val prediction:', val_pred_start, '-', val_pred_end)\n",
    "\n",
    "print('\\nEncoding interval:', enc_length.days)\n",
    "print('Prediction interval:', pred_length.days)"
   ]
  },
  {
   "cell_type": "code",
   "execution_count": 9,
   "metadata": {},
   "outputs": [],
   "source": [
    "date_to_index = pd.Series(index=pd.Index([pd.to_datetime(c) for c in df.columns[1:]]),\n",
    "                          data=[i for i in range(len(df.columns[1:]))])\n",
    "\n",
    "series_array = df[df.columns[1:]].values\n",
    "\n",
    "def get_time_block_series(series_array, date_to_index, start_date, end_date):\n",
    "    \n",
    "    inds = date_to_index[start_date:end_date]\n",
    "    return series_array[:,inds]\n",
    "\n",
    "def transform_series_encode(series_array):\n",
    "    \n",
    "    series_array = np.log1p(np.nan_to_num(series_array)) # filling NaN with 0\n",
    "    series_mean = series_array.mean(axis=1).reshape(-1,1) \n",
    "    series_array = series_array - series_mean\n",
    "    series_array = series_array.reshape((series_array.shape[0],series_array.shape[1], 1))\n",
    "    \n",
    "    return series_array, series_mean\n",
    "\n",
    "def transform_series_decode(series_array, encode_series_mean):\n",
    "    \n",
    "    series_array = np.log1p(np.nan_to_num(series_array)) # filling NaN with 0\n",
    "    series_array = series_array - encode_series_mean\n",
    "    series_array = series_array.reshape((series_array.shape[0],series_array.shape[1], 1))\n",
    "    \n",
    "    return series_array"
   ]
  },
  {
   "cell_type": "code",
   "execution_count": 10,
   "metadata": {},
   "outputs": [
    {
     "name": "stderr",
     "output_type": "stream",
     "text": [
      "/home/tavish/miniconda3/envs/py35/lib/python3.5/site-packages/h5py/__init__.py:36: FutureWarning: Conversion of the second argument of issubdtype from `float` to `np.floating` is deprecated. In future, it will be treated as `np.float64 == np.dtype(float).type`.\n",
      "  from ._conv import register_converters as _register_converters\n",
      "Using TensorFlow backend.\n"
     ]
    }
   ],
   "source": [
    "from keras.models import Model\n",
    "from keras.layers import Input, LSTM, Dense\n",
    "from keras.optimizers import Adam\n",
    "\n",
    "latent_dim = 50 # LSTM hidden units\n",
    "dropout = .20 \n",
    "\n",
    "# Define an input series and encode it with an LSTM. \n",
    "encoder_inputs = Input(shape=(None, 1)) \n",
    "encoder = LSTM(latent_dim, dropout=dropout, return_state=True)\n",
    "encoder_outputs, state_h, state_c = encoder(encoder_inputs)\n",
    "\n",
    "# We discard `encoder_outputs` and only keep the final states. These represent the \"context\"\n",
    "# vector that we use as the basis for decoding.\n",
    "encoder_states = [state_h, state_c]\n",
    "\n",
    "# Set up the decoder, using `encoder_states` as initial state.\n",
    "# This is where teacher forcing inputs are fed in.\n",
    "decoder_inputs = Input(shape=(None, 1)) \n",
    "\n",
    "# We set up our decoder using `encoder_states` as initial state.  \n",
    "# We return full output sequences and return internal states as well. \n",
    "# We don't use the return states in the training model, but we will use them in inference.\n",
    "decoder_lstm = LSTM(latent_dim, dropout=dropout, return_sequences=True, return_state=True)\n",
    "decoder_outputs, _, _ = decoder_lstm(decoder_inputs,\n",
    "                                     initial_state=encoder_states)\n",
    "\n",
    "decoder_dense = Dense(1) # 1 continuous output at each timestep\n",
    "decoder_outputs = decoder_dense(decoder_outputs)\n",
    "\n",
    "# Define the model that will turn\n",
    "# `encoder_input_data` & `decoder_input_data` into `decoder_target_data`\n",
    "model = Model([encoder_inputs, decoder_inputs], decoder_outputs)\n"
   ]
  },
  {
   "cell_type": "code",
   "execution_count": 11,
   "metadata": {},
   "outputs": [
    {
     "name": "stdout",
     "output_type": "stream",
     "text": [
      "__________________________________________________________________________________________________\n",
      "Layer (type)                    Output Shape         Param #     Connected to                     \n",
      "==================================================================================================\n",
      "input_1 (InputLayer)            (None, None, 1)      0                                            \n",
      "__________________________________________________________________________________________________\n",
      "input_2 (InputLayer)            (None, None, 1)      0                                            \n",
      "__________________________________________________________________________________________________\n",
      "lstm_1 (LSTM)                   [(None, 50), (None,  10400       input_1[0][0]                    \n",
      "__________________________________________________________________________________________________\n",
      "lstm_2 (LSTM)                   [(None, None, 50), ( 10400       input_2[0][0]                    \n",
      "                                                                 lstm_1[0][1]                     \n",
      "                                                                 lstm_1[0][2]                     \n",
      "__________________________________________________________________________________________________\n",
      "dense_1 (Dense)                 (None, None, 1)      51          lstm_2[0][0]                     \n",
      "==================================================================================================\n",
      "Total params: 20,851\n",
      "Trainable params: 20,851\n",
      "Non-trainable params: 0\n",
      "__________________________________________________________________________________________________\n"
     ]
    }
   ],
   "source": [
    "model.summary()"
   ]
  },
  {
   "cell_type": "code",
   "execution_count": 12,
   "metadata": {},
   "outputs": [],
   "source": [
    "first_n_samples = 20000\n",
    "batch_size = 2**11\n",
    "epochs = 100\n",
    "\n",
    "# sample of series from train_enc_start to train_enc_end  \n",
    "encoder_input_data = get_time_block_series(series_array, date_to_index, \n",
    "                                           train_enc_start, train_enc_end)[:first_n_samples]\n",
    "encoder_input_data, encode_series_mean = transform_series_encode(encoder_input_data)\n",
    "\n",
    "# sample of series from train_pred_start to train_pred_end \n",
    "decoder_target_data = get_time_block_series(series_array, date_to_index, \n",
    "                                            train_pred_start, train_pred_end)[:first_n_samples]\n",
    "decoder_target_data = transform_series_decode(decoder_target_data, encode_series_mean)\n",
    "\n",
    "# lagged target series for teacher forcing\n",
    "decoder_input_data = np.zeros(decoder_target_data.shape)\n",
    "decoder_input_data[:,1:,0] = decoder_target_data[:,:-1,0]\n",
    "decoder_input_data[:,0,0] = encoder_input_data[:,-1,0]"
   ]
  },
  {
   "cell_type": "code",
   "execution_count": 13,
   "metadata": {
    "scrolled": true
   },
   "outputs": [
    {
     "data": {
      "text/plain": [
       "(20000, 522, 1)"
      ]
     },
     "execution_count": 13,
     "metadata": {},
     "output_type": "execute_result"
    }
   ],
   "source": [
    "encoder_input_data.shape"
   ]
  },
  {
   "cell_type": "code",
   "execution_count": 14,
   "metadata": {},
   "outputs": [
    {
     "data": {
      "text/plain": [
       "(20000, 14, 1)"
      ]
     },
     "execution_count": 14,
     "metadata": {},
     "output_type": "execute_result"
    }
   ],
   "source": [
    "decoder_input_data.shape"
   ]
  },
  {
   "cell_type": "code",
   "execution_count": 15,
   "metadata": {
    "scrolled": true
   },
   "outputs": [
    {
     "name": "stdout",
     "output_type": "stream",
     "text": [
      "Train on 16000 samples, validate on 4000 samples\n",
      "Epoch 1/100\n",
      "16000/16000 [==============================] - 131s 8ms/step - loss: 0.7563 - val_loss: 0.6190\n",
      "Epoch 2/100\n",
      "16000/16000 [==============================] - 24s 2ms/step - loss: 0.6514 - val_loss: 0.5014\n",
      "Epoch 3/100\n",
      "16000/16000 [==============================] - 24s 2ms/step - loss: 0.5455 - val_loss: 0.4027\n",
      "Epoch 4/100\n",
      "16000/16000 [==============================] - 24s 2ms/step - loss: 0.4853 - val_loss: 0.3654\n",
      "Epoch 5/100\n",
      "16000/16000 [==============================] - 25s 2ms/step - loss: 0.4586 - val_loss: 0.3456\n",
      "Epoch 6/100\n",
      "16000/16000 [==============================] - 25s 2ms/step - loss: 0.4387 - val_loss: 0.3249\n",
      "Epoch 7/100\n",
      "16000/16000 [==============================] - 25s 2ms/step - loss: 0.4234 - val_loss: 0.3196\n",
      "Epoch 8/100\n",
      "16000/16000 [==============================] - 25s 2ms/step - loss: 0.4118 - val_loss: 0.3124\n",
      "Epoch 9/100\n",
      "16000/16000 [==============================] - 25s 2ms/step - loss: 0.4003 - val_loss: 0.3081\n",
      "Epoch 10/100\n",
      "16000/16000 [==============================] - 25s 2ms/step - loss: 0.3964 - val_loss: 0.3036\n",
      "Epoch 11/100\n",
      "16000/16000 [==============================] - 25s 2ms/step - loss: 0.3867 - val_loss: 0.3074\n",
      "Epoch 12/100\n",
      "16000/16000 [==============================] - 25s 2ms/step - loss: 0.3771 - val_loss: 0.3081\n",
      "Epoch 13/100\n",
      "16000/16000 [==============================] - 25s 2ms/step - loss: 0.3671 - val_loss: 0.3014\n",
      "Epoch 14/100\n",
      "16000/16000 [==============================] - 24s 2ms/step - loss: 0.3603 - val_loss: 0.3037\n",
      "Epoch 15/100\n",
      "16000/16000 [==============================] - 24s 2ms/step - loss: 0.3580 - val_loss: 0.2908\n",
      "Epoch 16/100\n",
      "16000/16000 [==============================] - 24s 2ms/step - loss: 0.3542 - val_loss: 0.2948\n",
      "Epoch 17/100\n",
      "16000/16000 [==============================] - 24s 2ms/step - loss: 0.3498 - val_loss: 0.2966\n",
      "Epoch 18/100\n",
      "16000/16000 [==============================] - 25s 2ms/step - loss: 0.3469 - val_loss: 0.2932\n",
      "Epoch 19/100\n",
      "16000/16000 [==============================] - 25s 2ms/step - loss: 0.3426 - val_loss: 0.2934\n",
      "Epoch 20/100\n",
      "16000/16000 [==============================] - 40s 2ms/step - loss: 0.3418 - val_loss: 0.2930\n",
      "Epoch 21/100\n",
      "16000/16000 [==============================] - 34s 2ms/step - loss: 0.3389 - val_loss: 0.2896\n",
      "Epoch 22/100\n",
      "16000/16000 [==============================] - 25s 2ms/step - loss: 0.3351 - val_loss: 0.2920\n",
      "Epoch 23/100\n",
      "16000/16000 [==============================] - 24s 2ms/step - loss: 0.3340 - val_loss: 0.2932\n",
      "Epoch 24/100\n",
      "16000/16000 [==============================] - 24s 2ms/step - loss: 0.3332 - val_loss: 0.2871\n",
      "Epoch 25/100\n",
      "16000/16000 [==============================] - 24s 2ms/step - loss: 0.3287 - val_loss: 0.2906\n",
      "Epoch 26/100\n",
      "16000/16000 [==============================] - 24s 2ms/step - loss: 0.3270 - val_loss: 0.2926\n",
      "Epoch 27/100\n",
      "16000/16000 [==============================] - 24s 2ms/step - loss: 0.3257 - val_loss: 0.2862\n",
      "Epoch 28/100\n",
      "16000/16000 [==============================] - 24s 2ms/step - loss: 0.3247 - val_loss: 0.2822\n",
      "Epoch 29/100\n",
      "16000/16000 [==============================] - 24s 2ms/step - loss: 0.3234 - val_loss: 0.2880\n",
      "Epoch 30/100\n",
      "16000/16000 [==============================] - 24s 2ms/step - loss: 0.3225 - val_loss: 0.2880\n",
      "Epoch 31/100\n",
      "16000/16000 [==============================] - 24s 2ms/step - loss: 0.3209 - val_loss: 0.2832\n",
      "Epoch 32/100\n",
      "16000/16000 [==============================] - 24s 2ms/step - loss: 0.3207 - val_loss: 0.2813\n",
      "Epoch 33/100\n",
      "16000/16000 [==============================] - 24s 2ms/step - loss: 0.3185 - val_loss: 0.2836\n",
      "Epoch 34/100\n",
      "16000/16000 [==============================] - 24s 2ms/step - loss: 0.3191 - val_loss: 0.2841\n",
      "Epoch 35/100\n",
      "16000/16000 [==============================] - 24s 2ms/step - loss: 0.3177 - val_loss: 0.2839\n",
      "Epoch 36/100\n",
      "16000/16000 [==============================] - 24s 2ms/step - loss: 0.3175 - val_loss: 0.2810\n",
      "Epoch 37/100\n",
      "16000/16000 [==============================] - 24s 2ms/step - loss: 0.3184 - val_loss: 0.2807\n",
      "Epoch 38/100\n",
      "16000/16000 [==============================] - 24s 2ms/step - loss: 0.3160 - val_loss: 0.2803\n",
      "Epoch 39/100\n",
      "16000/16000 [==============================] - 24s 2ms/step - loss: 0.3164 - val_loss: 0.2887\n",
      "Epoch 40/100\n",
      "16000/16000 [==============================] - 24s 2ms/step - loss: 0.3158 - val_loss: 0.2813\n",
      "Epoch 41/100\n",
      "16000/16000 [==============================] - 24s 2ms/step - loss: 0.3159 - val_loss: 0.2791\n",
      "Epoch 42/100\n",
      "16000/16000 [==============================] - 24s 2ms/step - loss: 0.3146 - val_loss: 0.2840\n",
      "Epoch 43/100\n",
      "16000/16000 [==============================] - 24s 2ms/step - loss: 0.3139 - val_loss: 0.2854\n",
      "Epoch 44/100\n",
      "16000/16000 [==============================] - 24s 2ms/step - loss: 0.3142 - val_loss: 0.2847\n",
      "Epoch 45/100\n",
      "16000/16000 [==============================] - 24s 2ms/step - loss: 0.3138 - val_loss: 0.2809\n",
      "Epoch 46/100\n",
      "16000/16000 [==============================] - 24s 2ms/step - loss: 0.3120 - val_loss: 0.2814\n",
      "Epoch 47/100\n",
      "16000/16000 [==============================] - 24s 2ms/step - loss: 0.3132 - val_loss: 0.2795\n",
      "Epoch 48/100\n",
      "16000/16000 [==============================] - 24s 2ms/step - loss: 0.3139 - val_loss: 0.2833\n",
      "Epoch 49/100\n",
      "16000/16000 [==============================] - 24s 2ms/step - loss: 0.3131 - val_loss: 0.2810\n",
      "Epoch 50/100\n",
      "16000/16000 [==============================] - 24s 2ms/step - loss: 0.3112 - val_loss: 0.2788\n",
      "Epoch 51/100\n",
      "16000/16000 [==============================] - 24s 2ms/step - loss: 0.3124 - val_loss: 0.2795\n",
      "Epoch 52/100\n",
      "16000/16000 [==============================] - 24s 2ms/step - loss: 0.3121 - val_loss: 0.2830\n",
      "Epoch 53/100\n",
      "16000/16000 [==============================] - 24s 2ms/step - loss: 0.3118 - val_loss: 0.2783\n",
      "Epoch 54/100\n",
      "16000/16000 [==============================] - 24s 2ms/step - loss: 0.3114 - val_loss: 0.2803\n",
      "Epoch 55/100\n",
      "16000/16000 [==============================] - 24s 2ms/step - loss: 0.3111 - val_loss: 0.2823\n",
      "Epoch 56/100\n",
      "16000/16000 [==============================] - 24s 2ms/step - loss: 0.3105 - val_loss: 0.2776\n",
      "Epoch 57/100\n",
      "16000/16000 [==============================] - 25s 2ms/step - loss: 0.3107 - val_loss: 0.2793\n",
      "Epoch 58/100\n",
      "16000/16000 [==============================] - 24s 2ms/step - loss: 0.3112 - val_loss: 0.2859\n",
      "Epoch 59/100\n",
      "16000/16000 [==============================] - 25s 2ms/step - loss: 0.3104 - val_loss: 0.2807\n",
      "Epoch 60/100\n",
      "16000/16000 [==============================] - 24s 2ms/step - loss: 0.3103 - val_loss: 0.2820\n",
      "Epoch 61/100\n",
      "16000/16000 [==============================] - 24s 2ms/step - loss: 0.3099 - val_loss: 0.2851\n",
      "Epoch 62/100\n",
      "16000/16000 [==============================] - 24s 2ms/step - loss: 0.3088 - val_loss: 0.2777\n",
      "Epoch 63/100\n",
      "16000/16000 [==============================] - 24s 2ms/step - loss: 0.3087 - val_loss: 0.2920\n",
      "Epoch 64/100\n",
      "16000/16000 [==============================] - 24s 2ms/step - loss: 0.3109 - val_loss: 0.2756\n",
      "Epoch 65/100\n",
      "16000/16000 [==============================] - 24s 2ms/step - loss: 0.3099 - val_loss: 0.2827\n",
      "Epoch 66/100\n",
      "16000/16000 [==============================] - 24s 2ms/step - loss: 0.3092 - val_loss: 0.2837\n",
      "Epoch 67/100\n",
      "16000/16000 [==============================] - 24s 2ms/step - loss: 0.3097 - val_loss: 0.2814\n",
      "Epoch 68/100\n",
      "16000/16000 [==============================] - 24s 2ms/step - loss: 0.3089 - val_loss: 0.2792\n",
      "Epoch 69/100\n",
      "16000/16000 [==============================] - 25s 2ms/step - loss: 0.3088 - val_loss: 0.2824\n",
      "Epoch 70/100\n",
      "16000/16000 [==============================] - 24s 2ms/step - loss: 0.3087 - val_loss: 0.2854\n",
      "Epoch 71/100\n",
      "16000/16000 [==============================] - 25s 2ms/step - loss: 0.3091 - val_loss: 0.2804\n",
      "Epoch 72/100\n",
      "16000/16000 [==============================] - 24s 2ms/step - loss: 0.3076 - val_loss: 0.2815\n",
      "Epoch 73/100\n",
      "16000/16000 [==============================] - 24s 2ms/step - loss: 0.3078 - val_loss: 0.2777\n",
      "Epoch 74/100\n",
      "16000/16000 [==============================] - 24s 2ms/step - loss: 0.3078 - val_loss: 0.2798\n",
      "Epoch 75/100\n",
      "16000/16000 [==============================] - 24s 2ms/step - loss: 0.3078 - val_loss: 0.2788\n",
      "Epoch 76/100\n",
      "16000/16000 [==============================] - 24s 2ms/step - loss: 0.3068 - val_loss: 0.2832\n",
      "Epoch 77/100\n"
     ]
    },
    {
     "name": "stdout",
     "output_type": "stream",
     "text": [
      "16000/16000 [==============================] - 24s 2ms/step - loss: 0.3070 - val_loss: 0.2789\n",
      "Epoch 78/100\n",
      "16000/16000 [==============================] - 24s 2ms/step - loss: 0.3073 - val_loss: 0.2839\n",
      "Epoch 79/100\n",
      "16000/16000 [==============================] - 24s 2ms/step - loss: 0.3068 - val_loss: 0.2799\n",
      "Epoch 80/100\n",
      "16000/16000 [==============================] - 24s 2ms/step - loss: 0.3066 - val_loss: 0.2832\n",
      "Epoch 81/100\n",
      "16000/16000 [==============================] - 24s 2ms/step - loss: 0.3064 - val_loss: 0.2845\n",
      "Epoch 82/100\n",
      "16000/16000 [==============================] - 24s 2ms/step - loss: 0.3063 - val_loss: 0.2786\n",
      "Epoch 83/100\n",
      "16000/16000 [==============================] - 24s 2ms/step - loss: 0.3056 - val_loss: 0.2803\n",
      "Epoch 84/100\n",
      "16000/16000 [==============================] - 24s 2ms/step - loss: 0.3060 - val_loss: 0.2883\n",
      "Epoch 85/100\n",
      "16000/16000 [==============================] - 24s 2ms/step - loss: 0.3059 - val_loss: 0.2823\n",
      "Epoch 86/100\n",
      "16000/16000 [==============================] - 24s 2ms/step - loss: 0.3063 - val_loss: 0.2779\n",
      "Epoch 87/100\n",
      "16000/16000 [==============================] - 24s 2ms/step - loss: 0.3054 - val_loss: 0.2876\n",
      "Epoch 88/100\n",
      "16000/16000 [==============================] - 24s 2ms/step - loss: 0.3059 - val_loss: 0.2841\n",
      "Epoch 89/100\n",
      "16000/16000 [==============================] - 24s 2ms/step - loss: 0.3049 - val_loss: 0.2790\n",
      "Epoch 90/100\n",
      "16000/16000 [==============================] - 24s 2ms/step - loss: 0.3051 - val_loss: 0.2827\n",
      "Epoch 91/100\n",
      "16000/16000 [==============================] - 24s 2ms/step - loss: 0.3038 - val_loss: 0.2817\n",
      "Epoch 92/100\n",
      "16000/16000 [==============================] - 26s 2ms/step - loss: 0.3048 - val_loss: 0.2840\n",
      "Epoch 93/100\n",
      "16000/16000 [==============================] - 25s 2ms/step - loss: 0.3037 - val_loss: 0.2886\n",
      "Epoch 94/100\n",
      "16000/16000 [==============================] - 26s 2ms/step - loss: 0.3038 - val_loss: 0.2869\n",
      "Epoch 95/100\n",
      "16000/16000 [==============================] - 26s 2ms/step - loss: 0.3069 - val_loss: 0.2765\n",
      "Epoch 96/100\n",
      "16000/16000 [==============================] - 25s 2ms/step - loss: 0.3068 - val_loss: 0.2820\n",
      "Epoch 97/100\n",
      "16000/16000 [==============================] - 25s 2ms/step - loss: 0.3059 - val_loss: 0.2840\n",
      "Epoch 98/100\n",
      "16000/16000 [==============================] - 25s 2ms/step - loss: 0.3048 - val_loss: 0.2809\n",
      "Epoch 99/100\n",
      "16000/16000 [==============================] - 26s 2ms/step - loss: 0.3055 - val_loss: 0.2794\n",
      "Epoch 100/100\n",
      "16000/16000 [==============================] - 26s 2ms/step - loss: 0.3039 - val_loss: 0.2847\n"
     ]
    }
   ],
   "source": [
    "model.compile(Adam(), loss='mean_absolute_error')\n",
    "history = model.fit([encoder_input_data, decoder_input_data], decoder_target_data,\n",
    "                     batch_size=batch_size,\n",
    "                     epochs=epochs,\n",
    "                     validation_split=0.2)"
   ]
  },
  {
   "cell_type": "code",
   "execution_count": 16,
   "metadata": {},
   "outputs": [
    {
     "data": {
      "text/plain": [
       "<matplotlib.legend.Legend at 0x7f2af84b4198>"
      ]
     },
     "execution_count": 16,
     "metadata": {},
     "output_type": "execute_result"
    },
    {
     "data": {
      "image/png": "[encoded data removed]",
      "text/plain": [
       "<Figure size 432x288 with 1 Axes>"
      ]
     },
     "metadata": {},
     "output_type": "display_data"
    }
   ],
   "source": [
    "plt.plot(history.history['loss'])\n",
    "plt.plot(history.history['val_loss'])\n",
    "\n",
    "plt.xlabel('Epoch')\n",
    "plt.ylabel('Mean Absolute Error Loss')\n",
    "plt.title('Loss Over Time')\n",
    "plt.legend(['Train','Valid'])"
   ]
  },
  {
   "cell_type": "code",
   "execution_count": 17,
   "metadata": {},
   "outputs": [],
   "source": [
    "# from our previous model - mapping encoder sequence to state vectors\n",
    "encoder_model = Model(encoder_inputs, encoder_states)\n",
    "\n",
    "# A modified version of the decoding stage that takes in predicted target inputs\n",
    "# and encoded state vectors, returning predicted target outputs and decoder state vectors.\n",
    "# We need to hang onto these state vectors to run the next step of the inference loop.\n",
    "decoder_state_input_h = Input(shape=(latent_dim,))\n",
    "decoder_state_input_c = Input(shape=(latent_dim,))\n",
    "decoder_states_inputs = [decoder_state_input_h, decoder_state_input_c]\n",
    "\n",
    "decoder_outputs, state_h, state_c = decoder_lstm(decoder_inputs, initial_state=decoder_states_inputs)\n",
    "decoder_states = [state_h, state_c]\n",
    "\n",
    "decoder_outputs = decoder_dense(decoder_outputs)\n",
    "decoder_model = Model([decoder_inputs] + decoder_states_inputs,\n",
    "                      [decoder_outputs] + decoder_states)\n",
    "\n",
    "def decode_sequence(input_seq):\n",
    "    \n",
    "    # Encode the input as state vectors.\n",
    "    states_value = encoder_model.predict(input_seq)\n",
    "\n",
    "    # Generate empty target sequence of length 1.\n",
    "    target_seq = np.zeros((1, 1, 1))\n",
    "    \n",
    "    # Populate the first target sequence with end of encoding series pageviews\n",
    "    target_seq[0, 0, 0] = input_seq[0, -1, 0]\n",
    "\n",
    "    # Sampling loop for a batch of sequences - we will fill decoded_seq with predictions\n",
    "    # (to simplify, here we assume a batch of size 1).\n",
    "\n",
    "    decoded_seq = np.zeros((1,pred_steps,1))\n",
    "    \n",
    "    for i in range(pred_steps):\n",
    "        \n",
    "        output, h, c = decoder_model.predict([target_seq] + states_value)\n",
    "        \n",
    "        decoded_seq[0,i,0] = output[0,0,0]\n",
    "\n",
    "        # Update the target sequence (of length 1).\n",
    "        target_seq = np.zeros((1, 1, 1))\n",
    "        target_seq[0, 0, 0] = output[0,0,0]\n",
    "\n",
    "        # Update states\n",
    "        states_value = [h, c]\n",
    "\n",
    "    return decoded_seq"
   ]
  },
  {
   "cell_type": "code",
   "execution_count": 18,
   "metadata": {},
   "outputs": [],
   "source": [
    "encoder_input_data = get_time_block_series(series_array, date_to_index, val_enc_start, val_enc_end)\n",
    "encoder_input_data, encode_series_mean = transform_series_encode(encoder_input_data)\n",
    "\n",
    "decoder_target_data = get_time_block_series(series_array, date_to_index, val_pred_start, val_pred_end)\n",
    "decoder_target_data = transform_series_decode(decoder_target_data, encode_series_mean)"
   ]
  },
  {
   "cell_type": "code",
   "execution_count": 19,
   "metadata": {},
   "outputs": [],
   "source": [
    "def predict_and_plot(encoder_input_data, decoder_target_data, sample_ind, enc_tail_len=50):\n",
    "\n",
    "    encode_series = encoder_input_data[sample_ind:sample_ind+1,:,:] \n",
    "    pred_series = decode_sequence(encode_series)\n",
    "    \n",
    "    encode_series = encode_series.reshape(-1,1)\n",
    "    pred_series = pred_series.reshape(-1,1)   \n",
    "    target_series = decoder_target_data[sample_ind,:,:1].reshape(-1,1) \n",
    "    \n",
    "    encode_series_tail = np.concatenate([encode_series[-enc_tail_len:],target_series[:1]])\n",
    "    x_encode = encode_series_tail.shape[0]\n",
    "    \n",
    "    plt.figure(figsize=(10,6))   \n",
    "    \n",
    "    plt.plot(range(1,x_encode+1),encode_series_tail)\n",
    "    plt.plot(range(x_encode,x_encode+pred_steps),target_series,color='orange')\n",
    "    plt.plot(range(x_encode,x_encode+pred_steps),pred_series,color='teal',linestyle='--')\n",
    "    \n",
    "    plt.title('Encoder Series Tail of Length %d, Target Series, and Predictions' % enc_tail_len)\n",
    "    plt.legend(['Encoding Series','Target Series','Predictions'])"
   ]
  },
  {
   "cell_type": "code",
   "execution_count": 20,
   "metadata": {},
   "outputs": [
    {
     "data": {
      "image/png": "[encoded data removed]",
      "text/plain": [
       "<Figure size 720x432 with 1 Axes>"
      ]
     },
     "metadata": {},
     "output_type": "display_data"
    }
   ],
   "source": [
    "predict_and_plot(encoder_input_data, decoder_target_data, 100)\n"
   ]
  },
  {
   "cell_type": "code",
   "execution_count": 21,
   "metadata": {},
   "outputs": [
    {
     "data": {
      "image/png": "[encoded data removed]",
      "text/plain": [
       "<Figure size 720x432 with 1 Axes>"
      ]
     },
     "metadata": {},
     "output_type": "display_data"
    }
   ],
   "source": [
    "predict_and_plot(encoder_input_data, decoder_target_data, 33000)\n"
   ]
  },
  {
   "cell_type": "code",
   "execution_count": null,
   "metadata": {},
   "outputs": [],
   "source": []
  }
 ],
 "metadata": {
  "kernelspec": {
   "display_name": "Python 3",
   "language": "python",
   "name": "python3"
  },
  "language_info": {
   "codemirror_mode": {
    "name": "ipython",
    "version": 3
   },
   "file_extension": ".py",
   "mimetype": "text/x-python",
   "name": "python",
   "nbconvert_exporter": "python",
   "pygments_lexer": "ipython3",
   "version": "3.5.5"
  }
 },
 "nbformat": 4,
 "nbformat_minor": 2
}
