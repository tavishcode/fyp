{
 "cells": [
  {
   "cell_type": "code",
   "execution_count": 1,
   "metadata": {},
   "outputs": [
    {
     "name": "stderr",
     "output_type": "stream",
     "text": [
      "/home/tavish/miniconda3/envs/py35/lib/python3.5/site-packages/h5py/__init__.py:36: FutureWarning: Conversion of the second argument of issubdtype from `float` to `np.floating` is deprecated. In future, it will be treated as `np.float64 == np.dtype(float).type`.\n",
      "  from ._conv import register_converters as _register_converters\n",
      "Using TensorFlow backend.\n"
     ]
    }
   ],
   "source": [
    "import pandas as pd\n",
    "from matplotlib import pyplot as plt\n",
    "import numpy as np\n",
    "from keras.models import Sequential, Model\n",
    "from keras.layers import Input, Activation, GRU, Dense\n",
    "from sklearn.metrics import mean_squared_error as mse\n",
    "from sklearn.preprocessing import scale, StandardScaler, RobustScaler\n",
    "from collections import OrderedDict, defaultdict, Counter\n",
    "plt.rcParams['figure.figsize'] = [10, 8]"
   ]
  },
  {
   "cell_type": "code",
   "execution_count": 18,
   "metadata": {},
   "outputs": [
    {
     "data": {
      "text/plain": [
       "(145063, 1)"
      ]
     },
     "execution_count": 18,
     "metadata": {},
     "output_type": "execute_result"
    }
   ],
   "source": [
    "df = pd.read_csv('wikipedia/web-traffic-time-series-forecasting/train_2.csv', usecols = [0])\n",
    "df.shape"
   ]
  },
  {
   "cell_type": "code",
   "execution_count": 19,
   "metadata": {},
   "outputs": [
    {
     "data": {
      "text/plain": [
       "(1, 804)"
      ]
     },
     "execution_count": 19,
     "metadata": {},
     "output_type": "execute_result"
    }
   ],
   "source": [
    "df = pd.read_csv('wikipedia/web-traffic-time-series-forecasting/train_2.csv', nrows=1)\n",
    "df.shape"
   ]
  },
  {
   "cell_type": "code",
   "execution_count": 20,
   "metadata": {},
   "outputs": [
    {
     "data": {
      "text/html": [
       "<div>\n",
       "<style scoped>\n",
       "    .dataframe tbody tr th:only-of-type {\n",
       "        vertical-align: middle;\n",
       "    }\n",
       "\n",
       "    .dataframe tbody tr th {\n",
       "        vertical-align: top;\n",
       "    }\n",
       "\n",
       "    .dataframe thead th {\n",
       "        text-align: right;\n",
       "    }\n",
       "</style>\n",
       "<table border=\"1\" class=\"dataframe\">\n",
       "  <thead>\n",
       "    <tr style=\"text-align: right;\">\n",
       "      <th></th>\n",
       "      <th>2015-07-01</th>\n",
       "    </tr>\n",
       "  </thead>\n",
       "  <tbody>\n",
       "    <tr>\n",
       "      <th>38573</th>\n",
       "      <td>20381245.0</td>\n",
       "    </tr>\n",
       "    <tr>\n",
       "      <th>9774</th>\n",
       "      <td>11952559.0</td>\n",
       "    </tr>\n",
       "    <tr>\n",
       "      <th>74114</th>\n",
       "      <td>8039732.0</td>\n",
       "    </tr>\n",
       "    <tr>\n",
       "      <th>139119</th>\n",
       "      <td>2983623.0</td>\n",
       "    </tr>\n",
       "    <tr>\n",
       "      <th>116196</th>\n",
       "      <td>2038711.0</td>\n",
       "    </tr>\n",
       "  </tbody>\n",
       "</table>\n",
       "</div>"
      ],
      "text/plain": [
       "        2015-07-01\n",
       "38573   20381245.0\n",
       "9774    11952559.0\n",
       "74114    8039732.0\n",
       "139119   2983623.0\n",
       "116196   2038711.0"
      ]
     },
     "execution_count": 20,
     "metadata": {},
     "output_type": "execute_result"
    }
   ],
   "source": [
    "# read requests for 145k articles on day 1\n",
    "df = pd.read_csv('wikipedia/web-traffic-time-series-forecasting/train_2.csv', usecols = [1])\n",
    "df.fillna(0, inplace=True) # fill missing vals with 0\n",
    "df.sort_values(by=[df.columns[0]], ascending=False, inplace=True)\n",
    "df.head()"
   ]
  },
  {
   "cell_type": "code",
   "execution_count": 21,
   "metadata": {},
   "outputs": [
    {
     "data": {
      "text/plain": [
       "2015-07-01    148672476.0\n",
       "dtype: float64"
      ]
     },
     "execution_count": 21,
     "metadata": {},
     "output_type": "execute_result"
    }
   ],
   "source": [
    "# total requests on day 1\n",
    "df.sum()"
   ]
  },
  {
   "cell_type": "code",
   "execution_count": 22,
   "metadata": {},
   "outputs": [
    {
     "data": {
      "text/plain": [
       "array([0.13708822, 0.08039524, 0.0540768 , ..., 0.        , 0.        ,\n",
       "       0.        ])"
      ]
     },
     "execution_count": 22,
     "metadata": {},
     "output_type": "execute_result"
    }
   ],
   "source": [
    "weights = (df[df.columns[0]]/sum(df[df.columns[0]])).values\n",
    "weights"
   ]
  },
  {
   "cell_type": "code",
   "execution_count": null,
   "metadata": {},
   "outputs": [],
   "source": [
    "counter = Counter()\n",
    "for j in range(500000):\n",
    "    c = np.random.choice(df.index, 1, p=weights)[0]\n",
    "    counter[c] += 1"
   ]
  },
  {
   "cell_type": "code",
   "execution_count": 66,
   "metadata": {},
   "outputs": [
    {
     "data": {
      "text/plain": [
       "[(38573, 68507),\n",
       " (9774, 40149),\n",
       " (74114, 27141),\n",
       " (139119, 9985),\n",
       " (116196, 6955),\n",
       " (39180, 6915),\n",
       " (92205, 5955),\n",
       " (27330, 5560),\n",
       " (10403, 5392),\n",
       " (99322, 5006),\n",
       " (95855, 4543),\n",
       " (55104, 4195),\n",
       " (67049, 2785),\n",
       " (103123, 2486),\n",
       " (17670, 2236),\n",
       " (140151, 1506),\n",
       " (66736, 1420),\n",
       " (120336, 1380),\n",
       " (74690, 1304),\n",
       " (71199, 1119),\n",
       " (7344, 1016),\n",
       " (90810, 966),\n",
       " (86431, 938),\n",
       " (69939, 918),\n",
       " (10761, 840),\n",
       " (28727, 743),\n",
       " (103349, 630),\n",
       " (99537, 628),\n",
       " (40689, 626),\n",
       " (10399, 586),\n",
       " (104195, 576),\n",
       " (12662, 567),\n",
       " (39172, 567),\n",
       " (100414, 527),\n",
       " (27825, 519),\n",
       " (41990, 516),\n",
       " (8221, 487),\n",
       " (123025, 464),\n",
       " (61350, 438),\n",
       " (89202, 426),\n",
       " (40124, 396),\n",
       " (57309, 370),\n",
       " (45071, 368),\n",
       " (97793, 361),\n",
       " (38144, 354),\n",
       " (40248, 341),\n",
       " (81665, 338),\n",
       " (101602, 333),\n",
       " (38258, 332),\n",
       " (37701, 330)]"
      ]
     },
     "execution_count": 66,
     "metadata": {},
     "output_type": "execute_result"
    }
   ],
   "source": [
    "counter.most_common(50)"
   ]
  },
  {
   "cell_type": "code",
   "execution_count": 24,
   "metadata": {},
   "outputs": [
    {
     "name": "stdout",
     "output_type": "stream",
     "text": [
      "[3028.] [25584989.]\n"
     ]
    },
    {
     "data": {
      "image/png": "[encoded data removed]",
      "text/plain": [
       "<Figure size 432x288 with 1 Axes>"
      ]
     },
     "metadata": {},
     "output_type": "display_data"
    }
   ],
   "source": [
    "# request frequency distributions for all top 10k contents on day 1\n",
    "plt.plot(x[:10000],y[:10000])\n",
    "print(min(y[:10000]), max(y[:10000]))"
   ]
  },
  {
   "cell_type": "code",
   "execution_count": 25,
   "metadata": {},
   "outputs": [
    {
     "name": "stdout",
     "output_type": "stream",
     "text": [
      "[0.] [47.]\n"
     ]
    },
    {
     "data": {
      "image/png": "[encoded data removed]",
      "text/plain": [
       "<Figure size 432x288 with 1 Axes>"
      ]
     },
     "metadata": {},
     "output_type": "display_data"
    }
   ],
   "source": [
    "# request frequency distributions for all bottom 50k contents on day 1\n",
    "plt.plot(x[:50000],y[-50000:])\n",
    "print(min(y[-50000:]), max(y[-50000:]))"
   ]
  },
  {
   "cell_type": "code",
   "execution_count": 26,
   "metadata": {},
   "outputs": [
    {
     "name": "stdout",
     "output_type": "stream",
     "text": [
      "[18801.] [46121.]\n"
     ]
    },
    {
     "data": {
      "image/png": "[encoded data removed]",
      "text/plain": [
       "<Figure size 432x288 with 1 Axes>"
      ]
     },
     "metadata": {},
     "output_type": "display_data"
    }
   ],
   "source": [
    "# Will a cache with size 1% have an easy time caching the best contents?\n",
    "# Since 1% of 50k contents is 500, lets look at the popularities of contents 200-800\n",
    "plt.plot(x[:600],y[200:800])\n",
    "print(min(y[200:800]), max(y[200:800]))"
   ]
  },
  {
   "cell_type": "code",
   "execution_count": 14,
   "metadata": {},
   "outputs": [],
   "source": [
    "# popularities of contents above are fairly similar, this demonstrates that caching will still be \n",
    "# a difficult problem eventhough the dataset skewed"
   ]
  },
  {
   "cell_type": "code",
   "execution_count": 27,
   "metadata": {},
   "outputs": [],
   "source": [
    "borderline_ixs = list(df[450:550].index)"
   ]
  },
  {
   "cell_type": "code",
   "execution_count": 28,
   "metadata": {},
   "outputs": [
    {
     "data": {
      "image/png": "[encoded data removed]",
      "text/plain": [
       "<Figure size 432x288 with 1 Axes>"
      ]
     },
     "metadata": {},
     "output_type": "display_data"
    }
   ],
   "source": [
    "for ix in borderline_ixs:\n",
    "    tempdf = pd.read_csv('wikipedia/web-traffic-time-series-forecasting/train_2.csv', skiprows=range(1,ix+1), nrows=1)\n",
    "    tempdf.drop('Page', axis=1, inplace=True)\n",
    "    plt.plot(tempdf.values.flatten())"
   ]
  },
  {
   "cell_type": "code",
   "execution_count": 82,
   "metadata": {},
   "outputs": [],
   "source": [
    "# the borderline ixs are also inconsistent throughout the entire period (seen through different colored spikes)\n",
    "# this shows that their popularity is dynamically changing, \n",
    "# a property which would make the caching problem more challenging"
   ]
  },
  {
   "cell_type": "code",
   "execution_count": null,
   "metadata": {},
   "outputs": [],
   "source": []
  }
 ],
 "metadata": {
  "kernelspec": {
   "display_name": "Python 3",
   "language": "python",
   "name": "python3"
  },
  "language_info": {
   "codemirror_mode": {
    "name": "ipython",
    "version": 3
   },
   "file_extension": ".py",
   "mimetype": "text/x-python",
   "name": "python",
   "nbconvert_exporter": "python",
   "pygments_lexer": "ipython3",
   "version": "3.5.5"
  }
 },
 "nbformat": 4,
 "nbformat_minor": 2
}
