{
  "nbformat": 4,
  "nbformat_minor": 0,
  "metadata": {
    "colab": {
      "name": "clean_dataset.ipynb",
      "version": "0.3.2",
      "provenance": [],
      "collapsed_sections": [],
      "include_colab_link": true
    },
    "kernelspec": {
      "display_name": "Python 3",
      "language": "python",
      "name": "python3"
    }
  },
  "cells": [
    {
      "cell_type": "markdown",
      "metadata": {
        "id": "view-in-github",
        "colab_type": "text"
      },
      "source": [
        "<a href=\"https://colab.research.google.com/github/tavishcode/fyp/blob/master/notebooks/clean_dataset.ipynb\" target=\"_parent\"><img src=\"https://colab.research.google.com/assets/colab-badge.svg\" alt=\"Open In Colab\"/></a>"
      ]
    },
    {
      "metadata": {
        "colab_type": "code",
        "id": "ZtEmgeD0BB3E",
        "outputId": "352bacdb-8183-4f97-f20d-f08874584032",
        "colab": {
          "base_uri": "https://localhost:8080/",
          "height": 34
        }
      },
      "cell_type": "code",
      "source": [
        "import pandas as pd\n",
        "import numpy as np\n",
        "from google.colab import drive\n",
        "from sklearn.compose import ColumnTransformer\n",
        "from sklearn.preprocessing import OneHotEncoder, MinMaxScaler\n",
        "from datetime import datetime\n",
        "drive.mount('/content/drive', force_remount=True)"
      ],
      "execution_count": 0,
      "outputs": [
        {
          "output_type": "stream",
          "text": [
            "Mounted at /content/drive\n"
          ],
          "name": "stdout"
        }
      ]
    },
    {
      "metadata": {
        "colab_type": "code",
        "id": "t321YpG6BGYd",
        "colab": {}
      },
      "cell_type": "code",
      "source": [
        "df = pd.read_csv('drive/My Drive/portals-1.csv', index_col=0)"
      ],
      "execution_count": 0,
      "outputs": []
    },
    {
      "metadata": {
        "id": "cRfX6pfIKAns",
        "colab_type": "code",
        "colab": {}
      },
      "cell_type": "code",
      "source": [
        "portals = df['portals'].str.get_dummies(sep=';')"
      ],
      "execution_count": 0,
      "outputs": []
    },
    {
      "metadata": {
        "id": "Fv1FsU6tPDMO",
        "colab_type": "code",
        "colab": {}
      },
      "cell_type": "code",
      "source": [
        "portals_sum = portals.sum().sort_values(ascending=False)"
      ],
      "execution_count": 0,
      "outputs": []
    },
    {
      "metadata": {
        "id": "vILpFNFpPfgz",
        "colab_type": "code",
        "colab": {}
      },
      "cell_type": "code",
      "source": [
        "portals_sliced = portals[portals_sum.index[:10]]"
      ],
      "execution_count": 0,
      "outputs": []
    },
    {
      "metadata": {
        "id": "voLIdJm0P6BA",
        "colab_type": "code",
        "outputId": "263b195e-b8ee-4d6e-9db9-3c5b76621fff",
        "colab": {
          "base_uri": "https://localhost:8080/",
          "height": 34
        }
      },
      "cell_type": "code",
      "source": [
        "portals_sliced.shape"
      ],
      "execution_count": 0,
      "outputs": [
        {
          "output_type": "execute_result",
          "data": {
            "text/plain": [
              "(16384, 10)"
            ]
          },
          "metadata": {
            "tags": []
          },
          "execution_count": 116
        }
      ]
    },
    {
      "metadata": {
        "id": "HntzanUkQr4F",
        "colab_type": "code",
        "outputId": "ba7db8ee-098f-4969-a2df-b453c2e7ea86",
        "colab": {
          "base_uri": "https://localhost:8080/",
          "height": 197
        }
      },
      "cell_type": "code",
      "source": [
        "portals_sliced.head()"
      ],
      "execution_count": 0,
      "outputs": [
        {
          "output_type": "execute_result",
          "data": {
            "text/html": [
              "<div>\n",
              "<style scoped>\n",
              "    .dataframe tbody tr th:only-of-type {\n",
              "        vertical-align: middle;\n",
              "    }\n",
              "\n",
              "    .dataframe tbody tr th {\n",
              "        vertical-align: top;\n",
              "    }\n",
              "\n",
              "    .dataframe thead th {\n",
              "        text-align: right;\n",
              "    }\n",
              "</style>\n",
              "<table border=\"1\" class=\"dataframe\">\n",
              "  <thead>\n",
              "    <tr style=\"text-align: right;\">\n",
              "      <th></th>\n",
              "      <th>Biography</th>\n",
              "      <th>Film</th>\n",
              "      <th>United States</th>\n",
              "      <th>2010s</th>\n",
              "      <th>Politics</th>\n",
              "      <th>Television in the United States</th>\n",
              "      <th>Film in the United States</th>\n",
              "      <th>Television</th>\n",
              "      <th>Contents/Portals</th>\n",
              "      <th>Government of the United States</th>\n",
              "    </tr>\n",
              "  </thead>\n",
              "  <tbody>\n",
              "    <tr>\n",
              "      <th>11570</th>\n",
              "      <td>0</td>\n",
              "      <td>0</td>\n",
              "      <td>0</td>\n",
              "      <td>1</td>\n",
              "      <td>0</td>\n",
              "      <td>1</td>\n",
              "      <td>0</td>\n",
              "      <td>0</td>\n",
              "      <td>0</td>\n",
              "      <td>0</td>\n",
              "    </tr>\n",
              "    <tr>\n",
              "      <th>77306</th>\n",
              "      <td>0</td>\n",
              "      <td>0</td>\n",
              "      <td>0</td>\n",
              "      <td>1</td>\n",
              "      <td>0</td>\n",
              "      <td>0</td>\n",
              "      <td>0</td>\n",
              "      <td>0</td>\n",
              "      <td>0</td>\n",
              "      <td>0</td>\n",
              "    </tr>\n",
              "    <tr>\n",
              "      <th>74655</th>\n",
              "      <td>0</td>\n",
              "      <td>0</td>\n",
              "      <td>0</td>\n",
              "      <td>0</td>\n",
              "      <td>0</td>\n",
              "      <td>0</td>\n",
              "      <td>0</td>\n",
              "      <td>0</td>\n",
              "      <td>0</td>\n",
              "      <td>0</td>\n",
              "    </tr>\n",
              "    <tr>\n",
              "      <th>39449</th>\n",
              "      <td>0</td>\n",
              "      <td>0</td>\n",
              "      <td>0</td>\n",
              "      <td>0</td>\n",
              "      <td>0</td>\n",
              "      <td>0</td>\n",
              "      <td>0</td>\n",
              "      <td>0</td>\n",
              "      <td>0</td>\n",
              "      <td>0</td>\n",
              "    </tr>\n",
              "    <tr>\n",
              "      <th>9007</th>\n",
              "      <td>0</td>\n",
              "      <td>0</td>\n",
              "      <td>0</td>\n",
              "      <td>0</td>\n",
              "      <td>0</td>\n",
              "      <td>0</td>\n",
              "      <td>0</td>\n",
              "      <td>0</td>\n",
              "      <td>0</td>\n",
              "      <td>0</td>\n",
              "    </tr>\n",
              "  </tbody>\n",
              "</table>\n",
              "</div>"
            ],
            "text/plain": [
              "       Biography  Film  United States  2010s  Politics  \\\n",
              "11570          0     0              0      1         0   \n",
              "77306          0     0              0      1         0   \n",
              "74655          0     0              0      0         0   \n",
              "39449          0     0              0      0         0   \n",
              "9007           0     0              0      0         0   \n",
              "\n",
              "       Television in the United States  Film in the United States  Television  \\\n",
              "11570                                1                          0           0   \n",
              "77306                                0                          0           0   \n",
              "74655                                0                          0           0   \n",
              "39449                                0                          0           0   \n",
              "9007                                 0                          0           0   \n",
              "\n",
              "       Contents/Portals  Government of the United States  \n",
              "11570                 0                                0  \n",
              "77306                 0                                0  \n",
              "74655                 0                                0  \n",
              "39449                 0                                0  \n",
              "9007                  0                                0  "
            ]
          },
          "metadata": {
            "tags": []
          },
          "execution_count": 117
        }
      ]
    },
    {
      "metadata": {
        "id": "vi3BRX84MYWJ",
        "colab_type": "code",
        "colab": {}
      },
      "cell_type": "code",
      "source": [
        "df.drop(columns='portals', inplace=True)"
      ],
      "execution_count": 0,
      "outputs": []
    },
    {
      "metadata": {
        "id": "5wRwvVGBOwno",
        "colab_type": "code",
        "outputId": "8620ecf0-355d-4a95-f07c-562d3e873a58",
        "colab": {
          "base_uri": "https://localhost:8080/",
          "height": 326
        }
      },
      "cell_type": "code",
      "source": [
        "df.head()"
      ],
      "execution_count": 0,
      "outputs": [
        {
          "output_type": "execute_result",
          "data": {
            "text/html": [
              "<div>\n",
              "<style scoped>\n",
              "    .dataframe tbody tr th:only-of-type {\n",
              "        vertical-align: middle;\n",
              "    }\n",
              "\n",
              "    .dataframe tbody tr th {\n",
              "        vertical-align: top;\n",
              "    }\n",
              "\n",
              "    .dataframe thead th {\n",
              "        text-align: right;\n",
              "    }\n",
              "</style>\n",
              "<table border=\"1\" class=\"dataframe\">\n",
              "  <thead>\n",
              "    <tr style=\"text-align: right;\">\n",
              "      <th></th>\n",
              "      <th>2015-07-01</th>\n",
              "      <th>2015-07-02</th>\n",
              "      <th>2015-07-03</th>\n",
              "      <th>2015-07-04</th>\n",
              "      <th>2015-07-05</th>\n",
              "      <th>2015-07-06</th>\n",
              "      <th>2015-07-07</th>\n",
              "      <th>2015-07-08</th>\n",
              "      <th>2015-07-09</th>\n",
              "      <th>2015-07-10</th>\n",
              "      <th>...</th>\n",
              "      <th>2016-07-30</th>\n",
              "      <th>2016-07-31</th>\n",
              "      <th>2016-08-01</th>\n",
              "      <th>2016-08-02</th>\n",
              "      <th>2016-08-03</th>\n",
              "      <th>lang</th>\n",
              "      <th>link</th>\n",
              "      <th>Agent</th>\n",
              "      <th>Access</th>\n",
              "      <th>Type</th>\n",
              "    </tr>\n",
              "  </thead>\n",
              "  <tbody>\n",
              "    <tr>\n",
              "      <th>11570</th>\n",
              "      <td>2182.0</td>\n",
              "      <td>2223.0</td>\n",
              "      <td>1922.0</td>\n",
              "      <td>1844.0</td>\n",
              "      <td>2008.0</td>\n",
              "      <td>2162.0</td>\n",
              "      <td>2139.0</td>\n",
              "      <td>2145.0</td>\n",
              "      <td>2922.0</td>\n",
              "      <td>2752.0</td>\n",
              "      <td>...</td>\n",
              "      <td>3485.0</td>\n",
              "      <td>4061.0</td>\n",
              "      <td>4439.0</td>\n",
              "      <td>4019.0</td>\n",
              "      <td>3831.0</td>\n",
              "      <td>en</td>\n",
              "      <td>Lucifer_(TV_series)</td>\n",
              "      <td>all-agents</td>\n",
              "      <td>desktop</td>\n",
              "      <td>en.wikipedia.org</td>\n",
              "    </tr>\n",
              "    <tr>\n",
              "      <th>77306</th>\n",
              "      <td>1170.0</td>\n",
              "      <td>1163.0</td>\n",
              "      <td>1248.0</td>\n",
              "      <td>1280.0</td>\n",
              "      <td>1387.0</td>\n",
              "      <td>1152.0</td>\n",
              "      <td>1071.0</td>\n",
              "      <td>1065.0</td>\n",
              "      <td>1071.0</td>\n",
              "      <td>964.0</td>\n",
              "      <td>...</td>\n",
              "      <td>1565.0</td>\n",
              "      <td>1722.0</td>\n",
              "      <td>1553.0</td>\n",
              "      <td>1453.0</td>\n",
              "      <td>1571.0</td>\n",
              "      <td>en</td>\n",
              "      <td>Final_Fantasy_XV</td>\n",
              "      <td>all-agents</td>\n",
              "      <td>mobile-web</td>\n",
              "      <td>en.wikipedia.org</td>\n",
              "    </tr>\n",
              "    <tr>\n",
              "      <th>74655</th>\n",
              "      <td>483.0</td>\n",
              "      <td>412.0</td>\n",
              "      <td>407.0</td>\n",
              "      <td>449.0</td>\n",
              "      <td>472.0</td>\n",
              "      <td>426.0</td>\n",
              "      <td>523.0</td>\n",
              "      <td>635.0</td>\n",
              "      <td>672.0</td>\n",
              "      <td>426.0</td>\n",
              "      <td>...</td>\n",
              "      <td>1050.0</td>\n",
              "      <td>1401.0</td>\n",
              "      <td>1097.0</td>\n",
              "      <td>930.0</td>\n",
              "      <td>740.0</td>\n",
              "      <td>en</td>\n",
              "      <td>Shraddha_Nigam</td>\n",
              "      <td>all-agents</td>\n",
              "      <td>mobile-web</td>\n",
              "      <td>en.wikipedia.org</td>\n",
              "    </tr>\n",
              "    <tr>\n",
              "      <th>39449</th>\n",
              "      <td>152.0</td>\n",
              "      <td>165.0</td>\n",
              "      <td>115.0</td>\n",
              "      <td>80.0</td>\n",
              "      <td>61.0</td>\n",
              "      <td>93.0</td>\n",
              "      <td>79.0</td>\n",
              "      <td>109.0</td>\n",
              "      <td>197.0</td>\n",
              "      <td>84.0</td>\n",
              "      <td>...</td>\n",
              "      <td>248.0</td>\n",
              "      <td>249.0</td>\n",
              "      <td>291.0</td>\n",
              "      <td>308.0</td>\n",
              "      <td>349.0</td>\n",
              "      <td>en</td>\n",
              "      <td>Trump_Tower</td>\n",
              "      <td>all-agents</td>\n",
              "      <td>all-access</td>\n",
              "      <td>en.wikipedia.org</td>\n",
              "    </tr>\n",
              "    <tr>\n",
              "      <th>9007</th>\n",
              "      <td>51.0</td>\n",
              "      <td>91.0</td>\n",
              "      <td>48.0</td>\n",
              "      <td>88.0</td>\n",
              "      <td>52.0</td>\n",
              "      <td>69.0</td>\n",
              "      <td>81.0</td>\n",
              "      <td>109.0</td>\n",
              "      <td>65.0</td>\n",
              "      <td>47.0</td>\n",
              "      <td>...</td>\n",
              "      <td>48.0</td>\n",
              "      <td>45.0</td>\n",
              "      <td>46.0</td>\n",
              "      <td>49.0</td>\n",
              "      <td>32.0</td>\n",
              "      <td>en</td>\n",
              "      <td>Edmonia_Lewis</td>\n",
              "      <td>all-agents</td>\n",
              "      <td>desktop</td>\n",
              "      <td>en.wikipedia.org</td>\n",
              "    </tr>\n",
              "  </tbody>\n",
              "</table>\n",
              "<p>5 rows × 405 columns</p>\n",
              "</div>"
            ],
            "text/plain": [
              "       2015-07-01  2015-07-02  2015-07-03  2015-07-04  2015-07-05  2015-07-06  \\\n",
              "11570      2182.0      2223.0      1922.0      1844.0      2008.0      2162.0   \n",
              "77306      1170.0      1163.0      1248.0      1280.0      1387.0      1152.0   \n",
              "74655       483.0       412.0       407.0       449.0       472.0       426.0   \n",
              "39449       152.0       165.0       115.0        80.0        61.0        93.0   \n",
              "9007         51.0        91.0        48.0        88.0        52.0        69.0   \n",
              "\n",
              "       2015-07-07  2015-07-08  2015-07-09  2015-07-10        ...         \\\n",
              "11570      2139.0      2145.0      2922.0      2752.0        ...          \n",
              "77306      1071.0      1065.0      1071.0       964.0        ...          \n",
              "74655       523.0       635.0       672.0       426.0        ...          \n",
              "39449        79.0       109.0       197.0        84.0        ...          \n",
              "9007         81.0       109.0        65.0        47.0        ...          \n",
              "\n",
              "       2016-07-30  2016-07-31  2016-08-01  2016-08-02  2016-08-03  lang  \\\n",
              "11570      3485.0      4061.0      4439.0      4019.0      3831.0    en   \n",
              "77306      1565.0      1722.0      1553.0      1453.0      1571.0    en   \n",
              "74655      1050.0      1401.0      1097.0       930.0       740.0    en   \n",
              "39449       248.0       249.0       291.0       308.0       349.0    en   \n",
              "9007         48.0        45.0        46.0        49.0        32.0    en   \n",
              "\n",
              "                      link       Agent      Access              Type  \n",
              "11570  Lucifer_(TV_series)  all-agents     desktop  en.wikipedia.org  \n",
              "77306     Final_Fantasy_XV  all-agents  mobile-web  en.wikipedia.org  \n",
              "74655       Shraddha_Nigam  all-agents  mobile-web  en.wikipedia.org  \n",
              "39449          Trump_Tower  all-agents  all-access  en.wikipedia.org  \n",
              "9007         Edmonia_Lewis  all-agents     desktop  en.wikipedia.org  \n",
              "\n",
              "[5 rows x 405 columns]"
            ]
          },
          "metadata": {
            "tags": []
          },
          "execution_count": 124
        }
      ]
    },
    {
      "metadata": {
        "id": "7-0f7SNwn1My",
        "colab_type": "code",
        "colab": {}
      },
      "cell_type": "code",
      "source": [
        ""
      ],
      "execution_count": 0,
      "outputs": []
    },
    {
      "metadata": {
        "colab_type": "code",
        "id": "7CFFe4oIJGW6",
        "colab": {}
      },
      "cell_type": "code",
      "source": [
        "df['Agent'] = df['Page'].str.split('_').str[-1].astype('category')\n",
        "df['Access'] = df['Page'].str.split('_').str[-2].astype('category')\n",
        "df['Type'] = df['Page'].str.split('_').str[-3].astype('category')\n",
        "df.drop('Page', axis=1, inplace=True)"
      ],
      "execution_count": 0,
      "outputs": []
    },
    {
      "metadata": {
        "colab_type": "code",
        "id": "7MdoWaJ2Qdp7",
        "colab": {}
      },
      "cell_type": "code",
      "source": [
        "# One Hot Encoding of categorical features (Agent, Access, Type, Title)"
      ],
      "execution_count": 0,
      "outputs": []
    },
    {
      "metadata": {
        "colab_type": "code",
        "id": "veBPb2cm9egr",
        "colab": {}
      },
      "cell_type": "code",
      "source": [
        "train_start = 0\n",
        "train_end = 200\n",
        "test_start = train_end\n",
        "test_end = test_start + 200"
      ],
      "execution_count": 0,
      "outputs": []
    },
    {
      "metadata": {
        "colab_type": "code",
        "id": "HKOPE4AdgkR-",
        "colab": {}
      },
      "cell_type": "code",
      "source": [
        "dataset_arr = df.values"
      ],
      "execution_count": 0,
      "outputs": []
    },
    {
      "metadata": {
        "id": "_kE9UIjiH-IE",
        "colab_type": "code",
        "outputId": "ea9c264e-4f92-4981-a9ac-ae012226c4ca",
        "colab": {
          "base_uri": "https://localhost:8080/",
          "height": 326
        }
      },
      "cell_type": "code",
      "source": [
        "df.head()"
      ],
      "execution_count": 0,
      "outputs": [
        {
          "output_type": "execute_result",
          "data": {
            "text/html": [
              "<div>\n",
              "<style scoped>\n",
              "    .dataframe tbody tr th:only-of-type {\n",
              "        vertical-align: middle;\n",
              "    }\n",
              "\n",
              "    .dataframe tbody tr th {\n",
              "        vertical-align: top;\n",
              "    }\n",
              "\n",
              "    .dataframe thead th {\n",
              "        text-align: right;\n",
              "    }\n",
              "</style>\n",
              "<table border=\"1\" class=\"dataframe\">\n",
              "  <thead>\n",
              "    <tr style=\"text-align: right;\">\n",
              "      <th></th>\n",
              "      <th>2015-07-01</th>\n",
              "      <th>2015-07-02</th>\n",
              "      <th>2015-07-03</th>\n",
              "      <th>2015-07-04</th>\n",
              "      <th>2015-07-05</th>\n",
              "      <th>2015-07-06</th>\n",
              "      <th>2015-07-07</th>\n",
              "      <th>2015-07-08</th>\n",
              "      <th>2015-07-09</th>\n",
              "      <th>2015-07-10</th>\n",
              "      <th>...</th>\n",
              "      <th>2016-07-30</th>\n",
              "      <th>2016-07-31</th>\n",
              "      <th>2016-08-01</th>\n",
              "      <th>2016-08-02</th>\n",
              "      <th>2016-08-03</th>\n",
              "      <th>lang</th>\n",
              "      <th>link</th>\n",
              "      <th>Agent</th>\n",
              "      <th>Access</th>\n",
              "      <th>Type</th>\n",
              "    </tr>\n",
              "  </thead>\n",
              "  <tbody>\n",
              "    <tr>\n",
              "      <th>11570</th>\n",
              "      <td>2182.0</td>\n",
              "      <td>2223.0</td>\n",
              "      <td>1922.0</td>\n",
              "      <td>1844.0</td>\n",
              "      <td>2008.0</td>\n",
              "      <td>2162.0</td>\n",
              "      <td>2139.0</td>\n",
              "      <td>2145.0</td>\n",
              "      <td>2922.0</td>\n",
              "      <td>2752.0</td>\n",
              "      <td>...</td>\n",
              "      <td>3485.0</td>\n",
              "      <td>4061.0</td>\n",
              "      <td>4439.0</td>\n",
              "      <td>4019.0</td>\n",
              "      <td>3831.0</td>\n",
              "      <td>en</td>\n",
              "      <td>Lucifer_(TV_series)</td>\n",
              "      <td>all-agents</td>\n",
              "      <td>desktop</td>\n",
              "      <td>en.wikipedia.org</td>\n",
              "    </tr>\n",
              "    <tr>\n",
              "      <th>77306</th>\n",
              "      <td>1170.0</td>\n",
              "      <td>1163.0</td>\n",
              "      <td>1248.0</td>\n",
              "      <td>1280.0</td>\n",
              "      <td>1387.0</td>\n",
              "      <td>1152.0</td>\n",
              "      <td>1071.0</td>\n",
              "      <td>1065.0</td>\n",
              "      <td>1071.0</td>\n",
              "      <td>964.0</td>\n",
              "      <td>...</td>\n",
              "      <td>1565.0</td>\n",
              "      <td>1722.0</td>\n",
              "      <td>1553.0</td>\n",
              "      <td>1453.0</td>\n",
              "      <td>1571.0</td>\n",
              "      <td>en</td>\n",
              "      <td>Final_Fantasy_XV</td>\n",
              "      <td>all-agents</td>\n",
              "      <td>mobile-web</td>\n",
              "      <td>en.wikipedia.org</td>\n",
              "    </tr>\n",
              "    <tr>\n",
              "      <th>74655</th>\n",
              "      <td>483.0</td>\n",
              "      <td>412.0</td>\n",
              "      <td>407.0</td>\n",
              "      <td>449.0</td>\n",
              "      <td>472.0</td>\n",
              "      <td>426.0</td>\n",
              "      <td>523.0</td>\n",
              "      <td>635.0</td>\n",
              "      <td>672.0</td>\n",
              "      <td>426.0</td>\n",
              "      <td>...</td>\n",
              "      <td>1050.0</td>\n",
              "      <td>1401.0</td>\n",
              "      <td>1097.0</td>\n",
              "      <td>930.0</td>\n",
              "      <td>740.0</td>\n",
              "      <td>en</td>\n",
              "      <td>Shraddha_Nigam</td>\n",
              "      <td>all-agents</td>\n",
              "      <td>mobile-web</td>\n",
              "      <td>en.wikipedia.org</td>\n",
              "    </tr>\n",
              "    <tr>\n",
              "      <th>39449</th>\n",
              "      <td>152.0</td>\n",
              "      <td>165.0</td>\n",
              "      <td>115.0</td>\n",
              "      <td>80.0</td>\n",
              "      <td>61.0</td>\n",
              "      <td>93.0</td>\n",
              "      <td>79.0</td>\n",
              "      <td>109.0</td>\n",
              "      <td>197.0</td>\n",
              "      <td>84.0</td>\n",
              "      <td>...</td>\n",
              "      <td>248.0</td>\n",
              "      <td>249.0</td>\n",
              "      <td>291.0</td>\n",
              "      <td>308.0</td>\n",
              "      <td>349.0</td>\n",
              "      <td>en</td>\n",
              "      <td>Trump_Tower</td>\n",
              "      <td>all-agents</td>\n",
              "      <td>all-access</td>\n",
              "      <td>en.wikipedia.org</td>\n",
              "    </tr>\n",
              "    <tr>\n",
              "      <th>9007</th>\n",
              "      <td>51.0</td>\n",
              "      <td>91.0</td>\n",
              "      <td>48.0</td>\n",
              "      <td>88.0</td>\n",
              "      <td>52.0</td>\n",
              "      <td>69.0</td>\n",
              "      <td>81.0</td>\n",
              "      <td>109.0</td>\n",
              "      <td>65.0</td>\n",
              "      <td>47.0</td>\n",
              "      <td>...</td>\n",
              "      <td>48.0</td>\n",
              "      <td>45.0</td>\n",
              "      <td>46.0</td>\n",
              "      <td>49.0</td>\n",
              "      <td>32.0</td>\n",
              "      <td>en</td>\n",
              "      <td>Edmonia_Lewis</td>\n",
              "      <td>all-agents</td>\n",
              "      <td>desktop</td>\n",
              "      <td>en.wikipedia.org</td>\n",
              "    </tr>\n",
              "  </tbody>\n",
              "</table>\n",
              "<p>5 rows × 405 columns</p>\n",
              "</div>"
            ],
            "text/plain": [
              "       2015-07-01  2015-07-02  2015-07-03  2015-07-04  2015-07-05  2015-07-06  \\\n",
              "11570      2182.0      2223.0      1922.0      1844.0      2008.0      2162.0   \n",
              "77306      1170.0      1163.0      1248.0      1280.0      1387.0      1152.0   \n",
              "74655       483.0       412.0       407.0       449.0       472.0       426.0   \n",
              "39449       152.0       165.0       115.0        80.0        61.0        93.0   \n",
              "9007         51.0        91.0        48.0        88.0        52.0        69.0   \n",
              "\n",
              "       2015-07-07  2015-07-08  2015-07-09  2015-07-10        ...         \\\n",
              "11570      2139.0      2145.0      2922.0      2752.0        ...          \n",
              "77306      1071.0      1065.0      1071.0       964.0        ...          \n",
              "74655       523.0       635.0       672.0       426.0        ...          \n",
              "39449        79.0       109.0       197.0        84.0        ...          \n",
              "9007         81.0       109.0        65.0        47.0        ...          \n",
              "\n",
              "       2016-07-30  2016-07-31  2016-08-01  2016-08-02  2016-08-03  lang  \\\n",
              "11570      3485.0      4061.0      4439.0      4019.0      3831.0    en   \n",
              "77306      1565.0      1722.0      1553.0      1453.0      1571.0    en   \n",
              "74655      1050.0      1401.0      1097.0       930.0       740.0    en   \n",
              "39449       248.0       249.0       291.0       308.0       349.0    en   \n",
              "9007         48.0        45.0        46.0        49.0        32.0    en   \n",
              "\n",
              "                      link       Agent      Access              Type  \n",
              "11570  Lucifer_(TV_series)  all-agents     desktop  en.wikipedia.org  \n",
              "77306     Final_Fantasy_XV  all-agents  mobile-web  en.wikipedia.org  \n",
              "74655       Shraddha_Nigam  all-agents  mobile-web  en.wikipedia.org  \n",
              "39449          Trump_Tower  all-agents  all-access  en.wikipedia.org  \n",
              "9007         Edmonia_Lewis  all-agents     desktop  en.wikipedia.org  \n",
              "\n",
              "[5 rows x 405 columns]"
            ]
          },
          "metadata": {
            "tags": []
          },
          "execution_count": 126
        }
      ]
    },
    {
      "metadata": {
        "colab_type": "code",
        "id": "NCGNxLXFg70e",
        "colab": {}
      },
      "cell_type": "code",
      "source": [
        "numerical_dataset = dataset_arr[:,:-5]\n",
        "categorical_dataset = portals_sliced.values\n",
        "# categorical_dataset = dataset_arr[:,-3:]\n",
        "# ct = ColumnTransformer(\n",
        "#     [('oh_enc', OneHotEncoder(sparse=False), [-1, -2, -3])]\n",
        "# )\n",
        "# categorical_dataset = ct.fit_transform(dataset_arr)"
      ],
      "execution_count": 0,
      "outputs": []
    },
    {
      "metadata": {
        "scrolled": true,
        "id": "Ktvf0aODCryI",
        "colab_type": "code",
        "outputId": "1ffc47c5-c149-490b-820f-bfb9b5e50e97",
        "colab": {
          "base_uri": "https://localhost:8080/",
          "height": 34
        }
      },
      "cell_type": "code",
      "source": [
        "categorical_dataset.shape"
      ],
      "execution_count": 0,
      "outputs": [
        {
          "output_type": "execute_result",
          "data": {
            "text/plain": [
              "(16384, 10)"
            ]
          },
          "metadata": {
            "tags": []
          },
          "execution_count": 128
        }
      ]
    },
    {
      "metadata": {
        "id": "YPpi37Au2V0k",
        "colab_type": "code",
        "outputId": "debcde82-1d8b-49cf-ad91-ddd187522fc0",
        "colab": {
          "base_uri": "https://localhost:8080/",
          "height": 34
        }
      },
      "cell_type": "code",
      "source": [
        "numerical_dataset.shape"
      ],
      "execution_count": 0,
      "outputs": [
        {
          "output_type": "execute_result",
          "data": {
            "text/plain": [
              "(16384, 400)"
            ]
          },
          "metadata": {
            "tags": []
          },
          "execution_count": 129
        }
      ]
    },
    {
      "metadata": {
        "colab_type": "code",
        "id": "10KYtUOA9Kwp",
        "colab": {}
      },
      "cell_type": "code",
      "source": [
        "train = numerical_dataset[:,train_start:train_end].astype('float')\n",
        "test = numerical_dataset[:,test_start:test_end].astype('float')"
      ],
      "execution_count": 0,
      "outputs": []
    },
    {
      "metadata": {
        "colab_type": "code",
        "id": "YhuemlkB0bKB",
        "colab": {}
      },
      "cell_type": "code",
      "source": [
        "# ct.get_feature_names()"
      ],
      "execution_count": 0,
      "outputs": []
    },
    {
      "metadata": {
        "colab_type": "text",
        "id": "pufFMIFjsHS5"
      },
      "cell_type": "markdown",
      "source": [
        "Feature Normalization"
      ]
    },
    {
      "metadata": {
        "id": "GRcbQX1ORvYR",
        "colab_type": "code",
        "outputId": "ed268124-8eb2-4e35-8c4b-663322e90b25",
        "colab": {
          "base_uri": "https://localhost:8080/",
          "height": 34
        }
      },
      "cell_type": "code",
      "source": [
        "np.sum(train,axis=0).shape"
      ],
      "execution_count": 0,
      "outputs": [
        {
          "output_type": "execute_result",
          "data": {
            "text/plain": [
              "(200,)"
            ]
          },
          "metadata": {
            "tags": []
          },
          "execution_count": 132
        }
      ]
    },
    {
      "metadata": {
        "id": "Lxr9J7QNIvDx",
        "colab_type": "code",
        "outputId": "7181b6c3-e05b-4d64-e876-7e865f8132b1",
        "colab": {
          "base_uri": "https://localhost:8080/",
          "height": 52
        }
      },
      "cell_type": "code",
      "source": [
        "train = train/np.sum(train, axis=0)\n",
        "print(sum(train[:,0]))\n",
        "train = train*500000\n",
        "print(sum(train[:,0]))\n",
        "test = test/np.sum(test, axis=0)\n",
        "test = test*500000"
      ],
      "execution_count": 0,
      "outputs": [
        {
          "output_type": "stream",
          "text": [
            "0.9999999999999852\n",
            "499999.9999999927\n"
          ],
          "name": "stdout"
        }
      ]
    },
    {
      "metadata": {
        "id": "9Ozg0WbLJunk",
        "colab_type": "code",
        "colab": {}
      },
      "cell_type": "code",
      "source": [
        "np.save('drive/My Drive/cache_train.npy', train)\n",
        "np.save('drive/My Drive/cache_test.npy', test)"
      ],
      "execution_count": 0,
      "outputs": []
    },
    {
      "metadata": {
        "id": "y1-BWKsKwqAe",
        "colab_type": "code",
        "colab": {}
      },
      "cell_type": "code",
      "source": [
        "# log scaling\n",
        "train = np.log1p(train)\n",
        "test = np.log1p(test)"
      ],
      "execution_count": 0,
      "outputs": []
    },
    {
      "metadata": {
        "id": "bpppLbL3WBxf",
        "colab_type": "code",
        "outputId": "d1b7d476-f585-48ff-c9b8-5ba348fe4199",
        "colab": {
          "base_uri": "https://localhost:8080/",
          "height": 34
        }
      },
      "cell_type": "code",
      "source": [
        "train.shape"
      ],
      "execution_count": 0,
      "outputs": [
        {
          "output_type": "execute_result",
          "data": {
            "text/plain": [
              "(16384, 200)"
            ]
          },
          "metadata": {
            "tags": []
          },
          "execution_count": 136
        }
      ]
    },
    {
      "metadata": {
        "id": "84zA-HpMWDTr",
        "colab_type": "code",
        "outputId": "7b533bdc-0f85-4767-ee74-5609cce79189",
        "colab": {
          "base_uri": "https://localhost:8080/",
          "height": 34
        }
      },
      "cell_type": "code",
      "source": [
        "test.shape"
      ],
      "execution_count": 0,
      "outputs": [
        {
          "output_type": "execute_result",
          "data": {
            "text/plain": [
              "(16384, 200)"
            ]
          },
          "metadata": {
            "tags": []
          },
          "execution_count": 137
        }
      ]
    },
    {
      "metadata": {
        "colab_type": "code",
        "id": "eiMN569esGfu",
        "colab": {}
      },
      "cell_type": "code",
      "source": [
        "scaler = MinMaxScaler()\n",
        "train = scaler.fit_transform(train)\n",
        "test = scaler.transform(test)"
      ],
      "execution_count": 0,
      "outputs": []
    },
    {
      "metadata": {
        "id": "S6GNLAKcDqKz",
        "colab_type": "code",
        "outputId": "023fd278-1c73-475e-bc8a-20839a3e5906",
        "colab": {
          "base_uri": "https://localhost:8080/",
          "height": 34
        }
      },
      "cell_type": "code",
      "source": [
        "train.shape"
      ],
      "execution_count": 0,
      "outputs": [
        {
          "output_type": "execute_result",
          "data": {
            "text/plain": [
              "(16384, 200)"
            ]
          },
          "metadata": {
            "tags": []
          },
          "execution_count": 139
        }
      ]
    },
    {
      "metadata": {
        "id": "jsMgrDd9EIAO",
        "colab_type": "code",
        "outputId": "a249bc7f-59ae-46c9-dce0-b7e09bd3312e",
        "colab": {
          "base_uri": "https://localhost:8080/",
          "height": 34
        }
      },
      "cell_type": "code",
      "source": [
        "categorical_dataset.shape"
      ],
      "execution_count": 0,
      "outputs": [
        {
          "output_type": "execute_result",
          "data": {
            "text/plain": [
              "(16384, 10)"
            ]
          },
          "metadata": {
            "tags": []
          },
          "execution_count": 140
        }
      ]
    },
    {
      "metadata": {
        "colab_type": "text",
        "id": "Njtnyhw2w0WO"
      },
      "cell_type": "markdown",
      "source": [
        "Processing Statistical Features\n"
      ]
    },
    {
      "metadata": {
        "colab_type": "code",
        "id": "aSOmkl93wxk9",
        "colab": {}
      },
      "cell_type": "code",
      "source": [
        "means = np.mean(train, axis=1)\n",
        "medians = np.median(train, axis=1)\n",
        "stds = np.std(train, axis=1)"
      ],
      "execution_count": 0,
      "outputs": []
    },
    {
      "metadata": {
        "colab_type": "text",
        "id": "Hro8Wjnmmu0Y"
      },
      "cell_type": "markdown",
      "source": [
        "Constructing 3D datasets (series, timesteps, features)\n"
      ]
    },
    {
      "metadata": {
        "id": "R3LlNoipYaRP",
        "colab_type": "code",
        "outputId": "fbd8b17a-b0c3-4ad4-c25d-2fafa6effd1b",
        "colab": {
          "base_uri": "https://localhost:8080/",
          "height": 52
        }
      },
      "cell_type": "code",
      "source": [
        "# visit, 21 date features, 16 categorical_features, 3 statistical features\n",
        "num_features = 1 + 10\n",
        "train_set = np.zeros((train.shape[0], train.shape[1], num_features))\n",
        "test_set = np.zeros((test.shape[0], test.shape[1], num_features))\n",
        "for i in range(train.shape[0]):\n",
        "  row_train = np.column_stack((train[i], \n",
        "                              np.tile(categorical_dataset[i], \n",
        "                                      (train.shape[1],1))))\n",
        "  row_test = np.column_stack((test[i], \n",
        "                              np.tile(categorical_dataset[i], \n",
        "                                      (test.shape[1],1))))\n",
        "  train_set[i, :, :] = row_train\n",
        "  test_set[i, :, :] = row_test \n",
        "print(train_set.shape)\n",
        "print(test_set.shape)"
      ],
      "execution_count": 0,
      "outputs": [
        {
          "output_type": "stream",
          "text": [
            "(16384, 200, 11)\n",
            "(16384, 200, 11)\n"
          ],
          "name": "stdout"
        }
      ]
    },
    {
      "metadata": {
        "colab_type": "code",
        "id": "GMN70HZRq4HW",
        "colab": {}
      },
      "cell_type": "code",
      "source": [
        "# saving arrays\n",
        "np.save('drive/My Drive/train_set3.npy', train_set)\n",
        "np.save('drive/My Drive/test_set3.npy', train_set)"
      ],
      "execution_count": 0,
      "outputs": []
    },
    {
      "metadata": {
        "colab_type": "code",
        "id": "moptpis8rSAK",
        "colab": {}
      },
      "cell_type": "code",
      "source": [
        ""
      ],
      "execution_count": 0,
      "outputs": []
    }
  ]
}