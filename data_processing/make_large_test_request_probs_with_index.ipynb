{
  "nbformat": 4,
  "nbformat_minor": 0,
  "metadata": {
    "colab": {
      "name": "make_large_test_request_probs_with_index.ipynb",
      "version": "0.3.2",
      "provenance": [],
      "include_colab_link": true
    },
    "kernelspec": {
      "name": "python3",
      "display_name": "Python 3"
    }
  },
  "cells": [
    {
      "cell_type": "markdown",
      "metadata": {
        "id": "view-in-github",
        "colab_type": "text"
      },
      "source": [
        "<a href=\"https://colab.research.google.com/github/tavishcode/fyp/blob/master/notebooks/make_large_test_request_probs_with_index.ipynb\" target=\"_parent\"><img src=\"https://colab.research.google.com/assets/colab-badge.svg\" alt=\"Open In Colab\"/></a>"
      ]
    },
    {
      "metadata": {
        "id": "c686LsvPwQPc",
        "colab_type": "code",
        "outputId": "3e215b20-3edd-499e-eeea-2cdfa3a69377",
        "colab": {
          "base_uri": "https://localhost:8080/",
          "height": 34
        }
      },
      "cell_type": "code",
      "source": [
        "import pandas as pd\n",
        "import numpy as np\n",
        "from google.colab import drive\n",
        "drive.mount('/content/drive')"
      ],
      "execution_count": 0,
      "outputs": [
        {
          "output_type": "stream",
          "text": [
            "Drive already mounted at /content/drive; to attempt to forcibly remount, call drive.mount(\"/content/drive\", force_remount=True).\n"
          ],
          "name": "stdout"
        }
      ]
    },
    {
      "metadata": {
        "id": "06uR_Mx2vnM3",
        "colab_type": "code",
        "colab": {}
      },
      "cell_type": "code",
      "source": [
        "df = pd.read_csv('drive/My Drive/train_1.csv')"
      ],
      "execution_count": 0,
      "outputs": []
    },
    {
      "metadata": {
        "id": "l7nXeyccwbO9",
        "colab_type": "code",
        "outputId": "78290511-3502-4e54-b02e-dd8a1063b64d",
        "colab": {
          "base_uri": "https://localhost:8080/",
          "height": 301
        }
      },
      "cell_type": "code",
      "source": [
        "df.head()"
      ],
      "execution_count": 0,
      "outputs": [
        {
          "output_type": "execute_result",
          "data": {
            "text/html": [
              "<div>\n",
              "<style scoped>\n",
              "    .dataframe tbody tr th:only-of-type {\n",
              "        vertical-align: middle;\n",
              "    }\n",
              "\n",
              "    .dataframe tbody tr th {\n",
              "        vertical-align: top;\n",
              "    }\n",
              "\n",
              "    .dataframe thead th {\n",
              "        text-align: right;\n",
              "    }\n",
              "</style>\n",
              "<table border=\"1\" class=\"dataframe\">\n",
              "  <thead>\n",
              "    <tr style=\"text-align: right;\">\n",
              "      <th></th>\n",
              "      <th>Page</th>\n",
              "      <th>2015-07-01</th>\n",
              "      <th>2015-07-02</th>\n",
              "      <th>2015-07-03</th>\n",
              "      <th>2015-07-04</th>\n",
              "      <th>2015-07-05</th>\n",
              "      <th>2015-07-06</th>\n",
              "      <th>2015-07-07</th>\n",
              "      <th>2015-07-08</th>\n",
              "      <th>2015-07-09</th>\n",
              "      <th>...</th>\n",
              "      <th>2016-12-22</th>\n",
              "      <th>2016-12-23</th>\n",
              "      <th>2016-12-24</th>\n",
              "      <th>2016-12-25</th>\n",
              "      <th>2016-12-26</th>\n",
              "      <th>2016-12-27</th>\n",
              "      <th>2016-12-28</th>\n",
              "      <th>2016-12-29</th>\n",
              "      <th>2016-12-30</th>\n",
              "      <th>2016-12-31</th>\n",
              "    </tr>\n",
              "  </thead>\n",
              "  <tbody>\n",
              "    <tr>\n",
              "      <th>0</th>\n",
              "      <td>2NE1_zh.wikipedia.org_all-access_spider</td>\n",
              "      <td>18.0</td>\n",
              "      <td>11.0</td>\n",
              "      <td>5.0</td>\n",
              "      <td>13.0</td>\n",
              "      <td>14.0</td>\n",
              "      <td>9.0</td>\n",
              "      <td>9.0</td>\n",
              "      <td>22.0</td>\n",
              "      <td>26.0</td>\n",
              "      <td>...</td>\n",
              "      <td>32.0</td>\n",
              "      <td>63.0</td>\n",
              "      <td>15.0</td>\n",
              "      <td>26.0</td>\n",
              "      <td>14.0</td>\n",
              "      <td>20.0</td>\n",
              "      <td>22.0</td>\n",
              "      <td>19.0</td>\n",
              "      <td>18.0</td>\n",
              "      <td>20.0</td>\n",
              "    </tr>\n",
              "    <tr>\n",
              "      <th>1</th>\n",
              "      <td>2PM_zh.wikipedia.org_all-access_spider</td>\n",
              "      <td>11.0</td>\n",
              "      <td>14.0</td>\n",
              "      <td>15.0</td>\n",
              "      <td>18.0</td>\n",
              "      <td>11.0</td>\n",
              "      <td>13.0</td>\n",
              "      <td>22.0</td>\n",
              "      <td>11.0</td>\n",
              "      <td>10.0</td>\n",
              "      <td>...</td>\n",
              "      <td>17.0</td>\n",
              "      <td>42.0</td>\n",
              "      <td>28.0</td>\n",
              "      <td>15.0</td>\n",
              "      <td>9.0</td>\n",
              "      <td>30.0</td>\n",
              "      <td>52.0</td>\n",
              "      <td>45.0</td>\n",
              "      <td>26.0</td>\n",
              "      <td>20.0</td>\n",
              "    </tr>\n",
              "    <tr>\n",
              "      <th>2</th>\n",
              "      <td>3C_zh.wikipedia.org_all-access_spider</td>\n",
              "      <td>1.0</td>\n",
              "      <td>0.0</td>\n",
              "      <td>1.0</td>\n",
              "      <td>1.0</td>\n",
              "      <td>0.0</td>\n",
              "      <td>4.0</td>\n",
              "      <td>0.0</td>\n",
              "      <td>3.0</td>\n",
              "      <td>4.0</td>\n",
              "      <td>...</td>\n",
              "      <td>3.0</td>\n",
              "      <td>1.0</td>\n",
              "      <td>1.0</td>\n",
              "      <td>7.0</td>\n",
              "      <td>4.0</td>\n",
              "      <td>4.0</td>\n",
              "      <td>6.0</td>\n",
              "      <td>3.0</td>\n",
              "      <td>4.0</td>\n",
              "      <td>17.0</td>\n",
              "    </tr>\n",
              "    <tr>\n",
              "      <th>3</th>\n",
              "      <td>4minute_zh.wikipedia.org_all-access_spider</td>\n",
              "      <td>35.0</td>\n",
              "      <td>13.0</td>\n",
              "      <td>10.0</td>\n",
              "      <td>94.0</td>\n",
              "      <td>4.0</td>\n",
              "      <td>26.0</td>\n",
              "      <td>14.0</td>\n",
              "      <td>9.0</td>\n",
              "      <td>11.0</td>\n",
              "      <td>...</td>\n",
              "      <td>32.0</td>\n",
              "      <td>10.0</td>\n",
              "      <td>26.0</td>\n",
              "      <td>27.0</td>\n",
              "      <td>16.0</td>\n",
              "      <td>11.0</td>\n",
              "      <td>17.0</td>\n",
              "      <td>19.0</td>\n",
              "      <td>10.0</td>\n",
              "      <td>11.0</td>\n",
              "    </tr>\n",
              "    <tr>\n",
              "      <th>4</th>\n",
              "      <td>52_Hz_I_Love_You_zh.wikipedia.org_all-access_s...</td>\n",
              "      <td>NaN</td>\n",
              "      <td>NaN</td>\n",
              "      <td>NaN</td>\n",
              "      <td>NaN</td>\n",
              "      <td>NaN</td>\n",
              "      <td>NaN</td>\n",
              "      <td>NaN</td>\n",
              "      <td>NaN</td>\n",
              "      <td>NaN</td>\n",
              "      <td>...</td>\n",
              "      <td>48.0</td>\n",
              "      <td>9.0</td>\n",
              "      <td>25.0</td>\n",
              "      <td>13.0</td>\n",
              "      <td>3.0</td>\n",
              "      <td>11.0</td>\n",
              "      <td>27.0</td>\n",
              "      <td>13.0</td>\n",
              "      <td>36.0</td>\n",
              "      <td>10.0</td>\n",
              "    </tr>\n",
              "  </tbody>\n",
              "</table>\n",
              "<p>5 rows × 551 columns</p>\n",
              "</div>"
            ],
            "text/plain": [
              "                                                Page  2015-07-01  2015-07-02  \\\n",
              "0            2NE1_zh.wikipedia.org_all-access_spider        18.0        11.0   \n",
              "1             2PM_zh.wikipedia.org_all-access_spider        11.0        14.0   \n",
              "2              3C_zh.wikipedia.org_all-access_spider         1.0         0.0   \n",
              "3         4minute_zh.wikipedia.org_all-access_spider        35.0        13.0   \n",
              "4  52_Hz_I_Love_You_zh.wikipedia.org_all-access_s...         NaN         NaN   \n",
              "\n",
              "   2015-07-03  2015-07-04  2015-07-05  2015-07-06  2015-07-07  2015-07-08  \\\n",
              "0         5.0        13.0        14.0         9.0         9.0        22.0   \n",
              "1        15.0        18.0        11.0        13.0        22.0        11.0   \n",
              "2         1.0         1.0         0.0         4.0         0.0         3.0   \n",
              "3        10.0        94.0         4.0        26.0        14.0         9.0   \n",
              "4         NaN         NaN         NaN         NaN         NaN         NaN   \n",
              "\n",
              "   2015-07-09  ...  2016-12-22  2016-12-23  2016-12-24  2016-12-25  \\\n",
              "0        26.0  ...        32.0        63.0        15.0        26.0   \n",
              "1        10.0  ...        17.0        42.0        28.0        15.0   \n",
              "2         4.0  ...         3.0         1.0         1.0         7.0   \n",
              "3        11.0  ...        32.0        10.0        26.0        27.0   \n",
              "4         NaN  ...        48.0         9.0        25.0        13.0   \n",
              "\n",
              "   2016-12-26  2016-12-27  2016-12-28  2016-12-29  2016-12-30  2016-12-31  \n",
              "0        14.0        20.0        22.0        19.0        18.0        20.0  \n",
              "1         9.0        30.0        52.0        45.0        26.0        20.0  \n",
              "2         4.0         4.0         6.0         3.0         4.0        17.0  \n",
              "3        16.0        11.0        17.0        19.0        10.0        11.0  \n",
              "4         3.0        11.0        27.0        13.0        36.0        10.0  \n",
              "\n",
              "[5 rows x 551 columns]"
            ]
          },
          "metadata": {
            "tags": []
          },
          "execution_count": 7
        }
      ]
    },
    {
      "metadata": {
        "id": "e2agYGzjwgt_",
        "colab_type": "code",
        "colab": {}
      },
      "cell_type": "code",
      "source": [
        "df.drop('Page', axis=1, inplace=True)"
      ],
      "execution_count": 0,
      "outputs": []
    },
    {
      "metadata": {
        "id": "Xg3A9V8mx2dx",
        "colab_type": "code",
        "colab": {}
      },
      "cell_type": "code",
      "source": [
        "df.fillna(0, inplace=True)"
      ],
      "execution_count": 0,
      "outputs": []
    },
    {
      "metadata": {
        "id": "R8cAUaRdw0K6",
        "colab_type": "code",
        "outputId": "6da9d1f7-791e-4769-b6cb-6104c467ab71",
        "colab": {
          "base_uri": "https://localhost:8080/",
          "height": 34
        }
      },
      "cell_type": "code",
      "source": [
        "arr = df.values\n",
        "arr.shape"
      ],
      "execution_count": 0,
      "outputs": [
        {
          "output_type": "execute_result",
          "data": {
            "text/plain": [
              "(145063, 550)"
            ]
          },
          "metadata": {
            "tags": []
          },
          "execution_count": 18
        }
      ]
    },
    {
      "metadata": {
        "id": "e2jCPf6pw1ic",
        "colab_type": "code",
        "outputId": "860fc2ee-5c7f-449d-9c50-68da77510782",
        "colab": {
          "base_uri": "https://localhost:8080/",
          "height": 34
        }
      },
      "cell_type": "code",
      "source": [
        "test_arr = arr[:,200:]\n",
        "test_arr.shape"
      ],
      "execution_count": 0,
      "outputs": [
        {
          "output_type": "execute_result",
          "data": {
            "text/plain": [
              "(145063, 350)"
            ]
          },
          "metadata": {
            "tags": []
          },
          "execution_count": 19
        }
      ]
    },
    {
      "metadata": {
        "id": "Iddukl51xSWl",
        "colab_type": "code",
        "outputId": "3a24241f-e10f-42b8-da78-c09f8014026e",
        "colab": {
          "base_uri": "https://localhost:8080/",
          "height": 34
        }
      },
      "cell_type": "code",
      "source": [
        "norm_test_arr = test_arr/np.sum(test_arr, axis=0)\n",
        "sum(norm_test_arr[:,0])"
      ],
      "execution_count": 0,
      "outputs": [
        {
          "output_type": "execute_result",
          "data": {
            "text/plain": [
              "0.9999999999999855"
            ]
          },
          "metadata": {
            "tags": []
          },
          "execution_count": 20
        }
      ]
    },
    {
      "metadata": {
        "id": "c95dq6SmxxUL",
        "colab_type": "code",
        "colab": {}
      },
      "cell_type": "code",
      "source": [
        "norm_test_arr = np.hstack((np.arange(norm_test_arr.shape[0]).reshape(-1,1), norm_test_arr))"
      ],
      "execution_count": 0,
      "outputs": []
    },
    {
      "metadata": {
        "id": "o5oVjnZDypZ_",
        "colab_type": "code",
        "outputId": "2c54ad75-f11f-4264-aa10-2f65a6490e14",
        "colab": {
          "base_uri": "https://localhost:8080/",
          "height": 34
        }
      },
      "cell_type": "code",
      "source": [
        "norm_test_arr.shape"
      ],
      "execution_count": 0,
      "outputs": [
        {
          "output_type": "execute_result",
          "data": {
            "text/plain": [
              "(145063, 351)"
            ]
          },
          "metadata": {
            "tags": []
          },
          "execution_count": 22
        }
      ]
    },
    {
      "metadata": {
        "id": "m6ibIjQ3yrMO",
        "colab_type": "code",
        "colab": {}
      },
      "cell_type": "code",
      "source": [
        "df = pd.DataFrame(columns=['name']+list(range(1,351)), data=norm_test_arr)"
      ],
      "execution_count": 0,
      "outputs": []
    },
    {
      "metadata": {
        "id": "58BChRxyyt07",
        "colab_type": "code",
        "outputId": "6129363e-c32a-4cc5-f8ad-563424adeeda",
        "colab": {
          "base_uri": "https://localhost:8080/",
          "height": 338
        }
      },
      "cell_type": "code",
      "source": [
        "df.head()"
      ],
      "execution_count": 0,
      "outputs": [
        {
          "output_type": "execute_result",
          "data": {
            "text/html": [
              "<div>\n",
              "<style scoped>\n",
              "    .dataframe tbody tr th:only-of-type {\n",
              "        vertical-align: middle;\n",
              "    }\n",
              "\n",
              "    .dataframe tbody tr th {\n",
              "        vertical-align: top;\n",
              "    }\n",
              "\n",
              "    .dataframe thead th {\n",
              "        text-align: right;\n",
              "    }\n",
              "</style>\n",
              "<table border=\"1\" class=\"dataframe\">\n",
              "  <thead>\n",
              "    <tr style=\"text-align: right;\">\n",
              "      <th></th>\n",
              "      <th>name</th>\n",
              "      <th>1</th>\n",
              "      <th>2</th>\n",
              "      <th>3</th>\n",
              "      <th>4</th>\n",
              "      <th>5</th>\n",
              "      <th>6</th>\n",
              "      <th>7</th>\n",
              "      <th>8</th>\n",
              "      <th>9</th>\n",
              "      <th>...</th>\n",
              "      <th>341</th>\n",
              "      <th>342</th>\n",
              "      <th>343</th>\n",
              "      <th>344</th>\n",
              "      <th>345</th>\n",
              "      <th>346</th>\n",
              "      <th>347</th>\n",
              "      <th>348</th>\n",
              "      <th>349</th>\n",
              "      <th>350</th>\n",
              "    </tr>\n",
              "  </thead>\n",
              "  <tbody>\n",
              "    <tr>\n",
              "      <th>0</th>\n",
              "      <td>0.0</td>\n",
              "      <td>1.297163e-07</td>\n",
              "      <td>8.651055e-08</td>\n",
              "      <td>6.336445e-08</td>\n",
              "      <td>1.636676e-07</td>\n",
              "      <td>1.602994e-07</td>\n",
              "      <td>8.125568e-08</td>\n",
              "      <td>2.015333e-07</td>\n",
              "      <td>8.837600e-08</td>\n",
              "      <td>4.275219e-08</td>\n",
              "      <td>...</td>\n",
              "      <td>1.625519e-07</td>\n",
              "      <td>3.232680e-07</td>\n",
              "      <td>7.589382e-08</td>\n",
              "      <td>1.207430e-07</td>\n",
              "      <td>5.905477e-08</td>\n",
              "      <td>8.429993e-08</td>\n",
              "      <td>9.532767e-08</td>\n",
              "      <td>7.987000e-08</td>\n",
              "      <td>8.670174e-08</td>\n",
              "      <td>9.554667e-08</td>\n",
              "    </tr>\n",
              "    <tr>\n",
              "      <th>1</th>\n",
              "      <td>1.0</td>\n",
              "      <td>1.921723e-07</td>\n",
              "      <td>9.131669e-08</td>\n",
              "      <td>6.336445e-08</td>\n",
              "      <td>1.994699e-07</td>\n",
              "      <td>9.824804e-08</td>\n",
              "      <td>8.125568e-08</td>\n",
              "      <td>1.007667e-07</td>\n",
              "      <td>5.400756e-08</td>\n",
              "      <td>3.610185e-07</td>\n",
              "      <td>...</td>\n",
              "      <td>8.635569e-08</td>\n",
              "      <td>2.155120e-07</td>\n",
              "      <td>1.416685e-07</td>\n",
              "      <td>6.965942e-08</td>\n",
              "      <td>3.796378e-08</td>\n",
              "      <td>1.264499e-07</td>\n",
              "      <td>2.253200e-07</td>\n",
              "      <td>1.891658e-07</td>\n",
              "      <td>1.252358e-07</td>\n",
              "      <td>9.554667e-08</td>\n",
              "    </tr>\n",
              "    <tr>\n",
              "      <th>2</th>\n",
              "      <td>2.0</td>\n",
              "      <td>1.441292e-08</td>\n",
              "      <td>4.806141e-09</td>\n",
              "      <td>1.462257e-08</td>\n",
              "      <td>1.534384e-08</td>\n",
              "      <td>1.551285e-08</td>\n",
              "      <td>5.078480e-09</td>\n",
              "      <td>1.591053e-08</td>\n",
              "      <td>3.927822e-08</td>\n",
              "      <td>1.900097e-08</td>\n",
              "      <td>...</td>\n",
              "      <td>1.523924e-08</td>\n",
              "      <td>5.131238e-09</td>\n",
              "      <td>5.059588e-09</td>\n",
              "      <td>3.250773e-08</td>\n",
              "      <td>1.687279e-08</td>\n",
              "      <td>1.685999e-08</td>\n",
              "      <td>2.599846e-08</td>\n",
              "      <td>1.261105e-08</td>\n",
              "      <td>1.926705e-08</td>\n",
              "      <td>8.121467e-08</td>\n",
              "    </tr>\n",
              "    <tr>\n",
              "      <th>3</th>\n",
              "      <td>3.0</td>\n",
              "      <td>6.245600e-08</td>\n",
              "      <td>8.651055e-08</td>\n",
              "      <td>3.899351e-08</td>\n",
              "      <td>2.557306e-07</td>\n",
              "      <td>4.136759e-08</td>\n",
              "      <td>1.675898e-07</td>\n",
              "      <td>3.182105e-08</td>\n",
              "      <td>1.080151e-07</td>\n",
              "      <td>4.275219e-08</td>\n",
              "      <td>...</td>\n",
              "      <td>1.625519e-07</td>\n",
              "      <td>5.131238e-08</td>\n",
              "      <td>1.315493e-07</td>\n",
              "      <td>1.253870e-07</td>\n",
              "      <td>6.749116e-08</td>\n",
              "      <td>4.636496e-08</td>\n",
              "      <td>7.366229e-08</td>\n",
              "      <td>7.987000e-08</td>\n",
              "      <td>4.816763e-08</td>\n",
              "      <td>5.255067e-08</td>\n",
              "    </tr>\n",
              "    <tr>\n",
              "      <th>4</th>\n",
              "      <td>4.0</td>\n",
              "      <td>0.000000e+00</td>\n",
              "      <td>0.000000e+00</td>\n",
              "      <td>0.000000e+00</td>\n",
              "      <td>0.000000e+00</td>\n",
              "      <td>0.000000e+00</td>\n",
              "      <td>0.000000e+00</td>\n",
              "      <td>0.000000e+00</td>\n",
              "      <td>0.000000e+00</td>\n",
              "      <td>0.000000e+00</td>\n",
              "      <td>...</td>\n",
              "      <td>2.438278e-07</td>\n",
              "      <td>4.618114e-08</td>\n",
              "      <td>1.264897e-07</td>\n",
              "      <td>6.037150e-08</td>\n",
              "      <td>1.265459e-08</td>\n",
              "      <td>4.636496e-08</td>\n",
              "      <td>1.169931e-07</td>\n",
              "      <td>5.464789e-08</td>\n",
              "      <td>1.734035e-07</td>\n",
              "      <td>4.777333e-08</td>\n",
              "    </tr>\n",
              "  </tbody>\n",
              "</table>\n",
              "<p>5 rows × 351 columns</p>\n",
              "</div>"
            ],
            "text/plain": [
              "   name             1             2             3             4             5  \\\n",
              "0   0.0  1.297163e-07  8.651055e-08  6.336445e-08  1.636676e-07  1.602994e-07   \n",
              "1   1.0  1.921723e-07  9.131669e-08  6.336445e-08  1.994699e-07  9.824804e-08   \n",
              "2   2.0  1.441292e-08  4.806141e-09  1.462257e-08  1.534384e-08  1.551285e-08   \n",
              "3   3.0  6.245600e-08  8.651055e-08  3.899351e-08  2.557306e-07  4.136759e-08   \n",
              "4   4.0  0.000000e+00  0.000000e+00  0.000000e+00  0.000000e+00  0.000000e+00   \n",
              "\n",
              "              6             7             8             9  ...           341  \\\n",
              "0  8.125568e-08  2.015333e-07  8.837600e-08  4.275219e-08  ...  1.625519e-07   \n",
              "1  8.125568e-08  1.007667e-07  5.400756e-08  3.610185e-07  ...  8.635569e-08   \n",
              "2  5.078480e-09  1.591053e-08  3.927822e-08  1.900097e-08  ...  1.523924e-08   \n",
              "3  1.675898e-07  3.182105e-08  1.080151e-07  4.275219e-08  ...  1.625519e-07   \n",
              "4  0.000000e+00  0.000000e+00  0.000000e+00  0.000000e+00  ...  2.438278e-07   \n",
              "\n",
              "            342           343           344           345           346  \\\n",
              "0  3.232680e-07  7.589382e-08  1.207430e-07  5.905477e-08  8.429993e-08   \n",
              "1  2.155120e-07  1.416685e-07  6.965942e-08  3.796378e-08  1.264499e-07   \n",
              "2  5.131238e-09  5.059588e-09  3.250773e-08  1.687279e-08  1.685999e-08   \n",
              "3  5.131238e-08  1.315493e-07  1.253870e-07  6.749116e-08  4.636496e-08   \n",
              "4  4.618114e-08  1.264897e-07  6.037150e-08  1.265459e-08  4.636496e-08   \n",
              "\n",
              "            347           348           349           350  \n",
              "0  9.532767e-08  7.987000e-08  8.670174e-08  9.554667e-08  \n",
              "1  2.253200e-07  1.891658e-07  1.252358e-07  9.554667e-08  \n",
              "2  2.599846e-08  1.261105e-08  1.926705e-08  8.121467e-08  \n",
              "3  7.366229e-08  7.987000e-08  4.816763e-08  5.255067e-08  \n",
              "4  1.169931e-07  5.464789e-08  1.734035e-07  4.777333e-08  \n",
              "\n",
              "[5 rows x 351 columns]"
            ]
          },
          "metadata": {
            "tags": []
          },
          "execution_count": 25
        }
      ]
    },
    {
      "metadata": {
        "id": "EW4nR_J4y6-Y",
        "colab_type": "code",
        "colab": {}
      },
      "cell_type": "code",
      "source": [
        "df['name'] = df['name'].astype(int)"
      ],
      "execution_count": 0,
      "outputs": []
    },
    {
      "metadata": {
        "id": "Ro_6szGry9l-",
        "colab_type": "code",
        "outputId": "30114d69-53c6-49f0-d313-4f000f080974",
        "colab": {
          "base_uri": "https://localhost:8080/",
          "height": 338
        }
      },
      "cell_type": "code",
      "source": [
        "df.head()"
      ],
      "execution_count": 0,
      "outputs": [
        {
          "output_type": "execute_result",
          "data": {
            "text/html": [
              "<div>\n",
              "<style scoped>\n",
              "    .dataframe tbody tr th:only-of-type {\n",
              "        vertical-align: middle;\n",
              "    }\n",
              "\n",
              "    .dataframe tbody tr th {\n",
              "        vertical-align: top;\n",
              "    }\n",
              "\n",
              "    .dataframe thead th {\n",
              "        text-align: right;\n",
              "    }\n",
              "</style>\n",
              "<table border=\"1\" class=\"dataframe\">\n",
              "  <thead>\n",
              "    <tr style=\"text-align: right;\">\n",
              "      <th></th>\n",
              "      <th>name</th>\n",
              "      <th>1</th>\n",
              "      <th>2</th>\n",
              "      <th>3</th>\n",
              "      <th>4</th>\n",
              "      <th>5</th>\n",
              "      <th>6</th>\n",
              "      <th>7</th>\n",
              "      <th>8</th>\n",
              "      <th>9</th>\n",
              "      <th>...</th>\n",
              "      <th>341</th>\n",
              "      <th>342</th>\n",
              "      <th>343</th>\n",
              "      <th>344</th>\n",
              "      <th>345</th>\n",
              "      <th>346</th>\n",
              "      <th>347</th>\n",
              "      <th>348</th>\n",
              "      <th>349</th>\n",
              "      <th>350</th>\n",
              "    </tr>\n",
              "  </thead>\n",
              "  <tbody>\n",
              "    <tr>\n",
              "      <th>0</th>\n",
              "      <td>0</td>\n",
              "      <td>1.297163e-07</td>\n",
              "      <td>8.651055e-08</td>\n",
              "      <td>6.336445e-08</td>\n",
              "      <td>1.636676e-07</td>\n",
              "      <td>1.602994e-07</td>\n",
              "      <td>8.125568e-08</td>\n",
              "      <td>2.015333e-07</td>\n",
              "      <td>8.837600e-08</td>\n",
              "      <td>4.275219e-08</td>\n",
              "      <td>...</td>\n",
              "      <td>1.625519e-07</td>\n",
              "      <td>3.232680e-07</td>\n",
              "      <td>7.589382e-08</td>\n",
              "      <td>1.207430e-07</td>\n",
              "      <td>5.905477e-08</td>\n",
              "      <td>8.429993e-08</td>\n",
              "      <td>9.532767e-08</td>\n",
              "      <td>7.987000e-08</td>\n",
              "      <td>8.670174e-08</td>\n",
              "      <td>9.554667e-08</td>\n",
              "    </tr>\n",
              "    <tr>\n",
              "      <th>1</th>\n",
              "      <td>1</td>\n",
              "      <td>1.921723e-07</td>\n",
              "      <td>9.131669e-08</td>\n",
              "      <td>6.336445e-08</td>\n",
              "      <td>1.994699e-07</td>\n",
              "      <td>9.824804e-08</td>\n",
              "      <td>8.125568e-08</td>\n",
              "      <td>1.007667e-07</td>\n",
              "      <td>5.400756e-08</td>\n",
              "      <td>3.610185e-07</td>\n",
              "      <td>...</td>\n",
              "      <td>8.635569e-08</td>\n",
              "      <td>2.155120e-07</td>\n",
              "      <td>1.416685e-07</td>\n",
              "      <td>6.965942e-08</td>\n",
              "      <td>3.796378e-08</td>\n",
              "      <td>1.264499e-07</td>\n",
              "      <td>2.253200e-07</td>\n",
              "      <td>1.891658e-07</td>\n",
              "      <td>1.252358e-07</td>\n",
              "      <td>9.554667e-08</td>\n",
              "    </tr>\n",
              "    <tr>\n",
              "      <th>2</th>\n",
              "      <td>2</td>\n",
              "      <td>1.441292e-08</td>\n",
              "      <td>4.806141e-09</td>\n",
              "      <td>1.462257e-08</td>\n",
              "      <td>1.534384e-08</td>\n",
              "      <td>1.551285e-08</td>\n",
              "      <td>5.078480e-09</td>\n",
              "      <td>1.591053e-08</td>\n",
              "      <td>3.927822e-08</td>\n",
              "      <td>1.900097e-08</td>\n",
              "      <td>...</td>\n",
              "      <td>1.523924e-08</td>\n",
              "      <td>5.131238e-09</td>\n",
              "      <td>5.059588e-09</td>\n",
              "      <td>3.250773e-08</td>\n",
              "      <td>1.687279e-08</td>\n",
              "      <td>1.685999e-08</td>\n",
              "      <td>2.599846e-08</td>\n",
              "      <td>1.261105e-08</td>\n",
              "      <td>1.926705e-08</td>\n",
              "      <td>8.121467e-08</td>\n",
              "    </tr>\n",
              "    <tr>\n",
              "      <th>3</th>\n",
              "      <td>3</td>\n",
              "      <td>6.245600e-08</td>\n",
              "      <td>8.651055e-08</td>\n",
              "      <td>3.899351e-08</td>\n",
              "      <td>2.557306e-07</td>\n",
              "      <td>4.136759e-08</td>\n",
              "      <td>1.675898e-07</td>\n",
              "      <td>3.182105e-08</td>\n",
              "      <td>1.080151e-07</td>\n",
              "      <td>4.275219e-08</td>\n",
              "      <td>...</td>\n",
              "      <td>1.625519e-07</td>\n",
              "      <td>5.131238e-08</td>\n",
              "      <td>1.315493e-07</td>\n",
              "      <td>1.253870e-07</td>\n",
              "      <td>6.749116e-08</td>\n",
              "      <td>4.636496e-08</td>\n",
              "      <td>7.366229e-08</td>\n",
              "      <td>7.987000e-08</td>\n",
              "      <td>4.816763e-08</td>\n",
              "      <td>5.255067e-08</td>\n",
              "    </tr>\n",
              "    <tr>\n",
              "      <th>4</th>\n",
              "      <td>4</td>\n",
              "      <td>0.000000e+00</td>\n",
              "      <td>0.000000e+00</td>\n",
              "      <td>0.000000e+00</td>\n",
              "      <td>0.000000e+00</td>\n",
              "      <td>0.000000e+00</td>\n",
              "      <td>0.000000e+00</td>\n",
              "      <td>0.000000e+00</td>\n",
              "      <td>0.000000e+00</td>\n",
              "      <td>0.000000e+00</td>\n",
              "      <td>...</td>\n",
              "      <td>2.438278e-07</td>\n",
              "      <td>4.618114e-08</td>\n",
              "      <td>1.264897e-07</td>\n",
              "      <td>6.037150e-08</td>\n",
              "      <td>1.265459e-08</td>\n",
              "      <td>4.636496e-08</td>\n",
              "      <td>1.169931e-07</td>\n",
              "      <td>5.464789e-08</td>\n",
              "      <td>1.734035e-07</td>\n",
              "      <td>4.777333e-08</td>\n",
              "    </tr>\n",
              "  </tbody>\n",
              "</table>\n",
              "<p>5 rows × 351 columns</p>\n",
              "</div>"
            ],
            "text/plain": [
              "   name             1             2             3             4             5  \\\n",
              "0     0  1.297163e-07  8.651055e-08  6.336445e-08  1.636676e-07  1.602994e-07   \n",
              "1     1  1.921723e-07  9.131669e-08  6.336445e-08  1.994699e-07  9.824804e-08   \n",
              "2     2  1.441292e-08  4.806141e-09  1.462257e-08  1.534384e-08  1.551285e-08   \n",
              "3     3  6.245600e-08  8.651055e-08  3.899351e-08  2.557306e-07  4.136759e-08   \n",
              "4     4  0.000000e+00  0.000000e+00  0.000000e+00  0.000000e+00  0.000000e+00   \n",
              "\n",
              "              6             7             8             9  ...           341  \\\n",
              "0  8.125568e-08  2.015333e-07  8.837600e-08  4.275219e-08  ...  1.625519e-07   \n",
              "1  8.125568e-08  1.007667e-07  5.400756e-08  3.610185e-07  ...  8.635569e-08   \n",
              "2  5.078480e-09  1.591053e-08  3.927822e-08  1.900097e-08  ...  1.523924e-08   \n",
              "3  1.675898e-07  3.182105e-08  1.080151e-07  4.275219e-08  ...  1.625519e-07   \n",
              "4  0.000000e+00  0.000000e+00  0.000000e+00  0.000000e+00  ...  2.438278e-07   \n",
              "\n",
              "            342           343           344           345           346  \\\n",
              "0  3.232680e-07  7.589382e-08  1.207430e-07  5.905477e-08  8.429993e-08   \n",
              "1  2.155120e-07  1.416685e-07  6.965942e-08  3.796378e-08  1.264499e-07   \n",
              "2  5.131238e-09  5.059588e-09  3.250773e-08  1.687279e-08  1.685999e-08   \n",
              "3  5.131238e-08  1.315493e-07  1.253870e-07  6.749116e-08  4.636496e-08   \n",
              "4  4.618114e-08  1.264897e-07  6.037150e-08  1.265459e-08  4.636496e-08   \n",
              "\n",
              "            347           348           349           350  \n",
              "0  9.532767e-08  7.987000e-08  8.670174e-08  9.554667e-08  \n",
              "1  2.253200e-07  1.891658e-07  1.252358e-07  9.554667e-08  \n",
              "2  2.599846e-08  1.261105e-08  1.926705e-08  8.121467e-08  \n",
              "3  7.366229e-08  7.987000e-08  4.816763e-08  5.255067e-08  \n",
              "4  1.169931e-07  5.464789e-08  1.734035e-07  4.777333e-08  \n",
              "\n",
              "[5 rows x 351 columns]"
            ]
          },
          "metadata": {
            "tags": []
          },
          "execution_count": 27
        }
      ]
    },
    {
      "metadata": {
        "id": "B86FcHDRzAU6",
        "colab_type": "code",
        "colab": {}
      },
      "cell_type": "code",
      "source": [
        "df.to_csv('drive/My Drive/large_test_probs.csv', index=False)"
      ],
      "execution_count": 0,
      "outputs": []
    },
    {
      "metadata": {
        "id": "VWG-7tg1zFI1",
        "colab_type": "code",
        "outputId": "bb89aa36-9973-4bde-b8ed-ea0d61aaeace",
        "colab": {
          "base_uri": "https://localhost:8080/",
          "height": 34
        }
      },
      "cell_type": "code",
      "source": [
        "df.shape"
      ],
      "execution_count": 0,
      "outputs": [
        {
          "output_type": "execute_result",
          "data": {
            "text/plain": [
              "(145063, 351)"
            ]
          },
          "metadata": {
            "tags": []
          },
          "execution_count": 29
        }
      ]
    },
    {
      "metadata": {
        "id": "Z0PXO75oznCU",
        "colab_type": "code",
        "colab": {}
      },
      "cell_type": "code",
      "source": [
        ""
      ],
      "execution_count": 0,
      "outputs": []
    }
  ]
}