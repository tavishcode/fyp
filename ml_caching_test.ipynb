{
  "nbformat": 4,
  "nbformat_minor": 0,
  "metadata": {
    "colab": {
      "name": "ml_caching_test.ipynb",
      "version": "0.3.2",
      "provenance": [],
      "collapsed_sections": [],
      "toc_visible": true,
      "include_colab_link": true
    },
    "kernelspec": {
      "name": "python3",
      "display_name": "Python 3"
    },
    "accelerator": "GPU"
  },
  "cells": [
    {
      "cell_type": "markdown",
      "metadata": {
        "id": "view-in-github",
        "colab_type": "text"
      },
      "source": [
        "<a href=\"https://colab.research.google.com/github/tavishcode/fyp/blob/master/ml_caching_test.ipynb\" target=\"_parent\"><img src=\"https://colab.research.google.com/assets/colab-badge.svg\" alt=\"Open In Colab\"/></a>"
      ]
    },
    {
      "metadata": {
        "id": "TZwA-NAp-AZx",
        "colab_type": "code",
        "outputId": "77dfc64b-2f11-455a-bb73-b8cfa4be8408",
        "colab": {
          "base_uri": "https://localhost:8080/",
          "height": 54
        }
      },
      "cell_type": "code",
      "source": [
        "import pandas as pd\n",
        "from matplotlib import pyplot as plt\n",
        "import numpy as np\n",
        "from keras.models import Sequential, Model\n",
        "from keras.layers import Input, Activation, CuDNNGRU, GRU, Dense\n",
        "from sklearn.metrics import mean_squared_error as mse\n",
        "from sklearn.preprocessing import scale, StandardScaler, RobustScaler\n",
        "from collections import OrderedDict, defaultdict\n",
        "from google.colab import drive\n",
        "import time\n",
        "drive.mount('/content/drive')\n",
        "plt.rcParams['figure.figsize'] = [10, 8]"
      ],
      "execution_count": 5,
      "outputs": [
        {
          "output_type": "stream",
          "text": [
            "Drive already mounted at /content/drive; to attempt to forcibly remount, call drive.mount(\"/content/drive\", force_remount=True).\n"
          ],
          "name": "stdout"
        }
      ]
    },
    {
      "metadata": {
        "id": "QeaveNpCBLhq",
        "colab_type": "code",
        "colab": {
          "base_uri": "https://localhost:8080/",
          "height": 34
        },
        "outputId": "cee1217c-a7a8-4a36-9df3-b4640e860de3"
      },
      "cell_type": "code",
      "source": [
        "train = np.load('drive/My Drive/train_set.npy')\n",
        "train.shape"
      ],
      "execution_count": 6,
      "outputs": [
        {
          "output_type": "execute_result",
          "data": {
            "text/plain": [
              "(27222, 100, 9)"
            ]
          },
          "metadata": {
            "tags": []
          },
          "execution_count": 6
        }
      ]
    },
    {
      "metadata": {
        "id": "gF6mp8axfovE",
        "colab_type": "text"
      },
      "cell_type": "markdown",
      "source": [
        "### Simple GRU"
      ]
    },
    {
      "metadata": {
        "id": "ozKQ0rvXfmBm",
        "colab_type": "code",
        "colab": {
          "base_uri": "https://localhost:8080/",
          "height": 235
        },
        "outputId": "21aa9a03-c063-4631-8afc-1983bf939c02"
      },
      "cell_type": "code",
      "source": [
        "window = 7\n",
        "num_features = 9\n",
        "model = Sequential()\n",
        "model.add(CuDNNGRU(64, input_shape=(window, num_features)))\n",
        "model.add(Dense(1))\n",
        "model.add(Activation('relu'))\n",
        "model.compile(optimizer='adam', loss='mean_squared_logarithmic_error')\n",
        "model.summary()"
      ],
      "execution_count": 13,
      "outputs": [
        {
          "output_type": "stream",
          "text": [
            "_________________________________________________________________\n",
            "Layer (type)                 Output Shape              Param #   \n",
            "=================================================================\n",
            "cu_dnngru_5 (CuDNNGRU)       (None, 64)                14400     \n",
            "_________________________________________________________________\n",
            "dense_5 (Dense)              (None, 1)                 65        \n",
            "_________________________________________________________________\n",
            "activation_5 (Activation)    (None, 1)                 0         \n",
            "=================================================================\n",
            "Total params: 14,465\n",
            "Trainable params: 14,465\n",
            "Non-trainable params: 0\n",
            "_________________________________________________________________\n"
          ],
          "name": "stdout"
        }
      ]
    },
    {
      "metadata": {
        "id": "Ha_wShajRcqH",
        "colab_type": "code",
        "outputId": "07f3ba6e-2fa8-4647-9fac-dcf2774420fc",
        "colab": {
          "base_uri": "https://localhost:8080/",
          "height": 793
        }
      },
      "cell_type": "code",
      "source": [
        "preds = np.zeros((train.shape[0], train.shape[1]))\n",
        "for w in range(window):\n",
        "  preds[:, w] = 0\n",
        "for i in range(window, train.shape[1]):\n",
        "  x = np.copy(train[:, i - window : i, :]).reshape(-1, window, 9)\n",
        "  y = np.copy(train[:, i, 0]).reshape(-1, 1)\n",
        "  p = model.predict(x).flatten()\n",
        "  preds[:, i] = p\n",
        "  start = time.clock()\n",
        "  model.fit(x, y, epochs=50, verbose=0)\n",
        "  print(time.clock() - start)\n",
        "  print(str(i)+'/'+str(train.shape[1]))\n",
        "model.save('simple_gru.h5')"
      ],
      "execution_count": 0,
      "outputs": [
        {
          "output_type": "stream",
          "text": [
            "WARNING:tensorflow:From /usr/local/lib/python3.6/dist-packages/tensorflow/python/ops/math_ops.py:3066: to_int32 (from tensorflow.python.ops.math_ops) is deprecated and will be removed in a future version.\n",
            "Instructions for updating:\n",
            "Use tf.cast instead.\n",
            "279.148273\n",
            "7/100\n",
            "278.792569\n",
            "8/100\n",
            "279.37132600000007\n",
            "9/100\n",
            "279.419991\n",
            "10/100\n",
            "279.31816000000003\n",
            "11/100\n",
            "279.560017\n",
            "12/100\n",
            "278.8045609999999\n",
            "13/100\n",
            "278.41947900000014\n",
            "15/100\n",
            "278.1631419999999\n",
            "16/100\n",
            "277.95934099999977\n",
            "17/100\n",
            "280.155655\n",
            "18/100\n",
            "280.785981\n",
            "19/100\n",
            "278.6217489999999\n",
            "20/100\n",
            "278.3911750000002\n",
            "21/100\n",
            "278.9129300000004\n",
            "22/100\n",
            "279.2308069999999\n",
            "23/100\n",
            "279.4474279999995\n",
            "24/100\n",
            "280.0068000000001\n",
            "25/100\n",
            "279.62146200000007\n",
            "26/100\n",
            "279.40147499999966\n",
            "27/100\n",
            "278.7786150000002\n",
            "28/100\n"
          ],
          "name": "stdout"
        }
      ]
    }
  ]
}