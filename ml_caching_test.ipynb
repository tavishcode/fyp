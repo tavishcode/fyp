{
  "nbformat": 4,
  "nbformat_minor": 0,
  "metadata": {
    "colab": {
      "name": "ml_caching_test.ipynb",
      "version": "0.3.2",
      "provenance": [],
      "collapsed_sections": [],
      "toc_visible": true,
      "include_colab_link": true
    },
    "kernelspec": {
      "name": "python3",
      "display_name": "Python 3"
    },
    "accelerator": "GPU"
  },
  "cells": [
    {
      "cell_type": "markdown",
      "metadata": {
        "id": "view-in-github",
        "colab_type": "text"
      },
      "source": [
        "<a href=\"https://colab.research.google.com/github/tavishcode/fyp/blob/master/ml_caching_test.ipynb\" target=\"_parent\"><img src=\"https://colab.research.google.com/assets/colab-badge.svg\" alt=\"Open In Colab\"/></a>"
      ]
    },
    {
      "metadata": {
        "id": "TZwA-NAp-AZx",
        "colab_type": "code",
        "outputId": "75f26f99-7a66-4736-ca38-a325b1f62f9b",
        "colab": {
          "base_uri": "https://localhost:8080/",
          "height": 139
        }
      },
      "cell_type": "code",
      "source": [
        "import pandas as pd\n",
        "from matplotlib import pyplot as plt\n",
        "import numpy as np\n",
        "from keras.models import load_model\n",
        "from keras.models import Sequential, Model\n",
        "from keras.layers import Input, Activation, CuDNNGRU, GRU, Dense\n",
        "from sklearn.metrics import mean_squared_error as mse\n",
        "from sklearn.preprocessing import scale, StandardScaler, RobustScaler, MinMaxScaler\n",
        "from collections import OrderedDict, defaultdict\n",
        "from google.colab import drive\n",
        "import time\n",
        "drive.mount('/content/drive')\n",
        "plt.rcParams['figure.figsize'] = [10, 8]"
      ],
      "execution_count": 1,
      "outputs": [
        {
          "output_type": "stream",
          "text": [
            "Using TensorFlow backend.\n"
          ],
          "name": "stderr"
        },
        {
          "output_type": "stream",
          "text": [
            "Go to this URL in a browser: https://accounts.google.com/o/oauth2/auth?client_id=947318989803-6bn6qk8qdgf4n4g3pfee6491hc0brc4i.apps.googleusercontent.com&redirect_uri=urn%3Aietf%3Awg%3Aoauth%3A2.0%3Aoob&scope=email%20https%3A%2F%2Fwww.googleapis.com%2Fauth%2Fdocs.test%20https%3A%2F%2Fwww.googleapis.com%2Fauth%2Fdrive%20https%3A%2F%2Fwww.googleapis.com%2Fauth%2Fdrive.photos.readonly%20https%3A%2F%2Fwww.googleapis.com%2Fauth%2Fpeopleapi.readonly&response_type=code\n",
            "\n",
            "Enter your authorization code:\n",
            "··········\n",
            "Mounted at /content/drive\n"
          ],
          "name": "stdout"
        }
      ]
    },
    {
      "metadata": {
        "id": "QeaveNpCBLhq",
        "colab_type": "code",
        "outputId": "32ad13e4-c8d4-41de-fd75-4c518175adad",
        "colab": {
          "base_uri": "https://localhost:8080/",
          "height": 34
        }
      },
      "cell_type": "code",
      "source": [
        "train = np.load('drive/My Drive/train_set.npy')\n",
        "train.shape"
      ],
      "execution_count": 3,
      "outputs": [
        {
          "output_type": "execute_result",
          "data": {
            "text/plain": [
              "(27222, 100, 9)"
            ]
          },
          "metadata": {
            "tags": []
          },
          "execution_count": 3
        }
      ]
    },
    {
      "metadata": {
        "id": "gF6mp8axfovE",
        "colab_type": "text"
      },
      "cell_type": "markdown",
      "source": [
        "### Simple GRU (1 Feature - 7 timesteps - 1 prediction)"
      ]
    },
    {
      "metadata": {
        "id": "ozKQ0rvXfmBm",
        "colab_type": "code",
        "outputId": "5933a8d3-ef29-46c1-9874-68b4e190129e",
        "colab": {
          "base_uri": "https://localhost:8080/",
          "height": 309
        }
      },
      "cell_type": "code",
      "source": [
        "window = 7\n",
        "num_features = 1\n",
        "model = Sequential()\n",
        "model.add(CuDNNGRU(64, input_shape=(window, num_features)))\n",
        "model.add(Dense(1))\n",
        "model.add(Activation('linear'))\n",
        "model.compile(optimizer='adam', loss='mean_squared_error')\n",
        "model.summary()"
      ],
      "execution_count": 2,
      "outputs": [
        {
          "output_type": "stream",
          "text": [
            "WARNING:tensorflow:From /usr/local/lib/python3.6/dist-packages/tensorflow/python/framework/op_def_library.py:263: colocate_with (from tensorflow.python.framework.ops) is deprecated and will be removed in a future version.\n",
            "Instructions for updating:\n",
            "Colocations handled automatically by placer.\n",
            "_________________________________________________________________\n",
            "Layer (type)                 Output Shape              Param #   \n",
            "=================================================================\n",
            "cu_dnngru_1 (CuDNNGRU)       (None, 64)                12864     \n",
            "_________________________________________________________________\n",
            "dense_1 (Dense)              (None, 1)                 65        \n",
            "_________________________________________________________________\n",
            "activation_1 (Activation)    (None, 1)                 0         \n",
            "=================================================================\n",
            "Total params: 12,929\n",
            "Trainable params: 12,929\n",
            "Non-trainable params: 0\n",
            "_________________________________________________________________\n"
          ],
          "name": "stdout"
        }
      ]
    },
    {
      "metadata": {
        "id": "uodJu12Dw9iQ",
        "colab_type": "code",
        "outputId": "2bf6d086-040b-4cae-ae2f-f01c508a0601",
        "colab": {
          "base_uri": "https://localhost:8080/",
          "height": 34
        }
      },
      "cell_type": "code",
      "source": [
        "# each sample has 9 features: \n",
        "# visits, year, month, day, weekday, weekend, mean, median, std\n",
        "scaler = MinMaxScaler()\n",
        "flattened_train = train.reshape(-1, 9)\n",
        "scaler.fit(flattened_train)"
      ],
      "execution_count": 4,
      "outputs": [
        {
          "output_type": "execute_result",
          "data": {
            "text/plain": [
              "MinMaxScaler(copy=True, feature_range=(0, 1))"
            ]
          },
          "metadata": {
            "tags": []
          },
          "execution_count": 4
        }
      ]
    },
    {
      "metadata": {
        "id": "VZlyz1Q705Fc",
        "colab_type": "code",
        "colab": {}
      },
      "cell_type": "code",
      "source": [
        "# reshape training set\n",
        "\n",
        "\n",
        "# reshaped_x = []\n",
        "# reshaped_y = []\n",
        "# for i in range(train.shape[0]): # for each content type\n",
        "#   if i % 1000 == 0:\n",
        "#     print(i,'/',train.shape[0])\n",
        "#   for j in range(window, train.shape[1]): # for each timestep\n",
        "#     reshaped_x.append([])\n",
        "#     for w in range(window):\n",
        "#       norm_x = scaler.transform(train[i, j-window+w, :].reshape(1, -1))\n",
        "#       reshaped_x[-1].append(norm_x[:,0]) # add timestep\n",
        "#     norm_y = scaler.transform(train[i, j, :].reshape(1, -1))\n",
        "#   reshaped_y[-1].append(norm_y[:,0]) # add true label\n",
        "# reshaped_x = np.asarray(reshaped_x, dtype='float')\n",
        "# reshaped_y = np.asarray(reshaped_y, dtype='float')"
      ],
      "execution_count": 0,
      "outputs": []
    },
    {
      "metadata": {
        "id": "aq8DwKnTchuH",
        "colab_type": "code",
        "colab": {}
      },
      "cell_type": "code",
      "source": [
        "# np.save('drive/My Drive/reshaped_x.npy', reshaped_x)\n",
        "reshaped_x = np.load('drive/My Drive/reshaped_x.npy')"
      ],
      "execution_count": 0,
      "outputs": []
    },
    {
      "metadata": {
        "id": "CHQjHaXsyzFz",
        "colab_type": "code",
        "colab": {}
      },
      "cell_type": "code",
      "source": [
        "# np.save('drive/My Drive/reshaped_y.npy', reshaped_y)\n",
        "reshaped_y = np.load('drive/My Drive/reshaped_y.npy')"
      ],
      "execution_count": 0,
      "outputs": []
    },
    {
      "metadata": {
        "id": "BSv8QZHirVfE",
        "colab_type": "code",
        "outputId": "77619750-0d3d-4461-cef7-72bca72f2811",
        "colab": {
          "base_uri": "https://localhost:8080/",
          "height": 139
        }
      },
      "cell_type": "code",
      "source": [
        "model.fit(reshaped_x[:,:,:], reshaped_y[:], epochs = 1, verbose=1)"
      ],
      "execution_count": 9,
      "outputs": [
        {
          "output_type": "stream",
          "text": [
            "WARNING:tensorflow:From /usr/local/lib/python3.6/dist-packages/tensorflow/python/ops/math_ops.py:3066: to_int32 (from tensorflow.python.ops.math_ops) is deprecated and will be removed in a future version.\n",
            "Instructions for updating:\n",
            "Use tf.cast instead.\n",
            "Epoch 1/1\n",
            "2531646/2531646 [==============================] - 393s 155us/step - loss: 7.1378e-07\n"
          ],
          "name": "stdout"
        },
        {
          "output_type": "execute_result",
          "data": {
            "text/plain": [
              "<keras.callbacks.History at 0x7f82ae2a6cf8>"
            ]
          },
          "metadata": {
            "tags": []
          },
          "execution_count": 9
        }
      ]
    },
    {
      "metadata": {
        "id": "v5Ooq3Yjo_cO",
        "colab_type": "code",
        "outputId": "e4eb68c3-1440-4d98-b2d6-cde4bb2a286a",
        "colab": {
          "base_uri": "https://localhost:8080/",
          "height": 34
        }
      },
      "cell_type": "code",
      "source": [
        "test = np.load('drive/My Drive/test_set.npy')\n",
        "test.shape"
      ],
      "execution_count": 10,
      "outputs": [
        {
          "output_type": "execute_result",
          "data": {
            "text/plain": [
              "(27222, 100, 9)"
            ]
          },
          "metadata": {
            "tags": []
          },
          "execution_count": 10
        }
      ]
    },
    {
      "metadata": {
        "id": "HqhA0yWjBQLl",
        "colab_type": "code",
        "colab": {
          "base_uri": "https://localhost:8080/",
          "height": 34
        },
        "outputId": "16dfab9c-4e2c-4439-afaf-09a046ade323"
      },
      "cell_type": "code",
      "source": [
        "# preprend last 7 days of training set to caching set\n",
        "train_end = train[:,-7:,:]\n",
        "test = np.hstack((train_end, test))\n",
        "test.shape"
      ],
      "execution_count": 13,
      "outputs": [
        {
          "output_type": "execute_result",
          "data": {
            "text/plain": [
              "(27222, 107, 9)"
            ]
          },
          "metadata": {
            "tags": []
          },
          "execution_count": 13
        }
      ]
    },
    {
      "metadata": {
        "id": "0uipwGMFCOym",
        "colab_type": "code",
        "colab": {
          "base_uri": "https://localhost:8080/",
          "height": 1734
        },
        "outputId": "6e132f14-c4d7-43ba-ac40-f55ea2680e8f"
      },
      "cell_type": "code",
      "source": [
        "# caching test (proactive) - (without online training)\n",
        "\n",
        "cache_size = int(0.01 * test.shape[0])\n",
        "hit_ratios = []\n",
        "for i in range(window, test.shape[1]): # for each timestep\n",
        "  print(i)\n",
        "  preds = [] # predicted popularities for all objects at time i\n",
        "  true_labels = [] # actual popularities for all objects at time i\n",
        "  for j in range(test.shape[0]): # for each content\n",
        "    training_sample = []\n",
        "    for w in range(window):\n",
        "      norm_x = scaler.transform(test[j, i-window+w, :].reshape(1, -1))\n",
        "      training_sample.append(norm_x[:,0])\n",
        "    pred = model.predict(np.asarray(training_sample).reshape(1,7,1))\n",
        "    preds.append(np.asscalar(pred))\n",
        "    norm_y = scaler.transform(test[j, i, :].reshape(1, -1))\n",
        "    true_labels.append(np.asscalar(norm_y[:,0].flatten()))\n",
        "  preds = np.asarray(preds)\n",
        "  true_labels = np.asarray(true_labels)\n",
        "  cached_items = np.argsort(preds)[::-1][:cache_size]\n",
        "  total = np.sum(test[:,i,0])\n",
        "  assert(total<500000)\n",
        "  temp_hit_ratio = 0\n",
        "  for item in cached_items:\n",
        "    temp_hit_ratio += test[item, i, 0]/total\n",
        "  hit_ratios.append(temp_hit_ratio)\n",
        "print(sum(hit_ratios)/len(hit_ratios))"
      ],
      "execution_count": 25,
      "outputs": [
        {
          "output_type": "stream",
          "text": [
            "7\n",
            "8\n",
            "9\n",
            "10\n",
            "11\n",
            "12\n",
            "13\n",
            "14\n",
            "15\n",
            "16\n",
            "17\n",
            "18\n",
            "19\n",
            "20\n",
            "21\n",
            "22\n",
            "23\n",
            "24\n",
            "25\n",
            "26\n",
            "27\n",
            "28\n",
            "29\n",
            "30\n",
            "31\n",
            "32\n",
            "33\n",
            "34\n",
            "35\n",
            "36\n",
            "37\n",
            "38\n",
            "39\n",
            "40\n",
            "41\n",
            "42\n",
            "43\n",
            "44\n",
            "45\n",
            "46\n",
            "47\n",
            "48\n",
            "49\n",
            "50\n",
            "51\n",
            "52\n",
            "53\n",
            "54\n",
            "55\n",
            "56\n",
            "57\n",
            "58\n",
            "59\n",
            "60\n",
            "61\n",
            "62\n",
            "63\n",
            "64\n",
            "65\n",
            "66\n",
            "67\n",
            "68\n",
            "69\n",
            "70\n",
            "71\n",
            "72\n",
            "73\n",
            "74\n",
            "75\n",
            "76\n",
            "77\n",
            "78\n",
            "79\n",
            "80\n",
            "81\n",
            "82\n",
            "83\n",
            "84\n",
            "85\n",
            "86\n",
            "87\n",
            "88\n",
            "89\n",
            "90\n",
            "91\n",
            "92\n",
            "93\n",
            "94\n",
            "95\n",
            "96\n",
            "97\n",
            "98\n",
            "99\n",
            "100\n",
            "101\n",
            "102\n",
            "103\n",
            "104\n",
            "105\n",
            "106\n",
            "0.4343669751612323\n"
          ],
          "name": "stdout"
        }
      ]
    },
    {
      "metadata": {
        "id": "pPT4zDEbicdh",
        "colab_type": "code",
        "colab": {}
      },
      "cell_type": "code",
      "source": [
        ""
      ],
      "execution_count": 0,
      "outputs": []
    },
    {
      "metadata": {
        "id": "hysEpVvOyrue",
        "colab_type": "code",
        "outputId": "b1ac76d1-d9c1-448c-9621-3c2580442488",
        "colab": {
          "base_uri": "https://localhost:8080/",
          "height": 517
        }
      },
      "cell_type": "code",
      "source": [
        "preds = []\n",
        "true_labels = []\n",
        "for i in range(1): # for each content type\n",
        "  if i % 1000 == 0:\n",
        "    print(i,'/',test.shape[0])\n",
        "  for j in range(window, test.shape[1]): # for each timestep\n",
        "    training_sample = []\n",
        "    for w in range(window):\n",
        "      norm_x = scaler.transform(test[i, j-window+w, :].reshape(1, -1))\n",
        "      training_sample.append(norm_x[:,0])\n",
        "    pred = model.predict(np.asarray(training_sample).reshape(1,7,1))\n",
        "    preds.append(np.asscalar(pred)) # predict\n",
        "    norm_y = scaler.transform(test[i, j, :].reshape(1, -1))\n",
        "    true_labels.append(np.asscalar(norm_y[:,0].flatten())) # add true label\n",
        "plt.plot(preds)\n",
        "plt.plot(true_labels)\n",
        "plt.legend(['preds','true_labels'])"
      ],
      "execution_count": 0,
      "outputs": [
        {
          "output_type": "stream",
          "text": [
            "0 / 27222\n"
          ],
          "name": "stdout"
        },
        {
          "output_type": "execute_result",
          "data": {
            "text/plain": [
              "<matplotlib.legend.Legend at 0x7ff129fb65f8>"
            ]
          },
          "metadata": {
            "tags": []
          },
          "execution_count": 153
        },
        {
          "output_type": "display_data",
          "data": {
            "image/png": "[encoded data removed]",
            "text/plain": [
              "<Figure size 720x576 with 1 Axes>"
            ]
          },
          "metadata": {
            "tags": []
          }
        }
      ]
    },
    {
      "metadata": {
        "id": "MOc8OaiQyegz",
        "colab_type": "code",
        "colab": {}
      },
      "cell_type": "code",
      "source": [
        ""
      ],
      "execution_count": 0,
      "outputs": []
    },
    {
      "metadata": {
        "id": "6IP--CCynFV-",
        "colab_type": "code",
        "colab": {}
      },
      "cell_type": "code",
      "source": [
        ""
      ],
      "execution_count": 0,
      "outputs": []
    },
    {
      "metadata": {
        "id": "aPY042_Wu8rD",
        "colab_type": "code",
        "colab": {}
      },
      "cell_type": "code",
      "source": [
        ""
      ],
      "execution_count": 0,
      "outputs": []
    },
    {
      "metadata": {
        "id": "-FHFFwjCoLJs",
        "colab_type": "code",
        "colab": {}
      },
      "cell_type": "code",
      "source": [
        ""
      ],
      "execution_count": 0,
      "outputs": []
    },
    {
      "metadata": {
        "id": "JQA_EJGU2BAz",
        "colab_type": "code",
        "colab": {}
      },
      "cell_type": "code",
      "source": [
        ""
      ],
      "execution_count": 0,
      "outputs": []
    }
  ]
}